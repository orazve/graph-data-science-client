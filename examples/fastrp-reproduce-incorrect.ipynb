{
 "cells": [
  {
   "cell_type": "markdown",
   "id": "8ab83e70-63fe-452c-8782-f093834ad248",
   "metadata": {
    "id": "8ab83e70-63fe-452c-8782-f093834ad248"
   },
   "source": [
    "# Layered Embeddings"
   ]
  },
  {
   "cell_type": "markdown",
   "source": [
    "## Initialise"
   ],
   "metadata": {
    "id": "AKIqm-KNwU4S"
   },
   "id": "AKIqm-KNwU4S"
  },
  {
   "cell_type": "code",
   "execution_count": 1,
   "id": "dRm9QfTWdk8F",
   "metadata": {
    "id": "dRm9QfTWdk8F",
    "colab": {
     "base_uri": "https://localhost:8080/"
    },
    "executionInfo": {
     "status": "ok",
     "timestamp": 1719573362444,
     "user_tz": -60,
     "elapsed": 5348,
     "user": {
      "displayName": "Stuart Green",
      "userId": "06684144979108576535"
     }
    },
    "outputId": "3532f6db-6cf2-4853-d366-490bc2ff55c6",
    "ExecuteTime": {
     "end_time": "2024-09-05T14:48:44.034265Z",
     "start_time": "2024-09-05T14:48:42.657887Z"
    }
   },
   "outputs": [
    {
     "name": "stdout",
     "output_type": "stream",
     "text": [
      "Requirement already satisfied: graphdatascience in /Users/olgarazvenskaia/work/src/graph-data-science-client (1.11a5)\r\n",
      "Requirement already satisfied: python-dotenv in /Users/olgarazvenskaia/.env/fastrp-repr/lib/python3.11/site-packages (1.0.1)\r\n",
      "Requirement already satisfied: umap-learn in /Users/olgarazvenskaia/.env/fastrp-repr/lib/python3.11/site-packages (0.5.6)\r\n",
      "Requirement already satisfied: scikit-learn==1.4.2 in /Users/olgarazvenskaia/.env/fastrp-repr/lib/python3.11/site-packages (1.4.2)\r\n",
      "Requirement already satisfied: matplotlib in /Users/olgarazvenskaia/.env/fastrp-repr/lib/python3.11/site-packages (3.9.2)\r\n",
      "Requirement already satisfied: seaborn in /Users/olgarazvenskaia/.env/fastrp-repr/lib/python3.11/site-packages (0.13.2)\r\n",
      "Requirement already satisfied: numpy>=1.19.5 in /Users/olgarazvenskaia/.env/fastrp-repr/lib/python3.11/site-packages (from scikit-learn==1.4.2) (1.26.4)\r\n",
      "Requirement already satisfied: scipy>=1.6.0 in /Users/olgarazvenskaia/.env/fastrp-repr/lib/python3.11/site-packages (from scikit-learn==1.4.2) (1.14.1)\r\n",
      "Requirement already satisfied: joblib>=1.2.0 in /Users/olgarazvenskaia/.env/fastrp-repr/lib/python3.11/site-packages (from scikit-learn==1.4.2) (1.4.2)\r\n",
      "Requirement already satisfied: threadpoolctl>=2.0.0 in /Users/olgarazvenskaia/.env/fastrp-repr/lib/python3.11/site-packages (from scikit-learn==1.4.2) (3.5.0)\r\n",
      "Requirement already satisfied: multimethod<2.0,>=1.0 in /Users/olgarazvenskaia/.env/fastrp-repr/lib/python3.11/site-packages (from graphdatascience) (1.12)\r\n",
      "Requirement already satisfied: neo4j<6.0,>=4.4.12 in /Users/olgarazvenskaia/.env/fastrp-repr/lib/python3.11/site-packages (from graphdatascience) (5.24.0)\r\n",
      "Requirement already satisfied: pandas<3.0,>=1.0 in /Users/olgarazvenskaia/.env/fastrp-repr/lib/python3.11/site-packages (from graphdatascience) (2.2.2)\r\n",
      "Requirement already satisfied: pyarrow<17.0,>=14.0.1 in /Users/olgarazvenskaia/.env/fastrp-repr/lib/python3.11/site-packages (from graphdatascience) (16.1.0)\r\n",
      "Requirement already satisfied: textdistance<5.0,>=4.0 in /Users/olgarazvenskaia/.env/fastrp-repr/lib/python3.11/site-packages (from graphdatascience) (4.6.3)\r\n",
      "Requirement already satisfied: tqdm<5.0,>=4.0 in /Users/olgarazvenskaia/.env/fastrp-repr/lib/python3.11/site-packages (from graphdatascience) (4.66.5)\r\n",
      "Requirement already satisfied: typing-extensions<5.0,>=4.0 in /Users/olgarazvenskaia/.env/fastrp-repr/lib/python3.11/site-packages (from graphdatascience) (4.12.2)\r\n",
      "Requirement already satisfied: requests in /Users/olgarazvenskaia/.env/fastrp-repr/lib/python3.11/site-packages (from graphdatascience) (2.32.3)\r\n",
      "Requirement already satisfied: rsa in /Users/olgarazvenskaia/.env/fastrp-repr/lib/python3.11/site-packages (from graphdatascience) (4.9)\r\n",
      "Requirement already satisfied: numba>=0.51.2 in /Users/olgarazvenskaia/.env/fastrp-repr/lib/python3.11/site-packages (from umap-learn) (0.60.0)\r\n",
      "Requirement already satisfied: pynndescent>=0.5 in /Users/olgarazvenskaia/.env/fastrp-repr/lib/python3.11/site-packages (from umap-learn) (0.5.13)\r\n",
      "Requirement already satisfied: contourpy>=1.0.1 in /Users/olgarazvenskaia/.env/fastrp-repr/lib/python3.11/site-packages (from matplotlib) (1.3.0)\r\n",
      "Requirement already satisfied: cycler>=0.10 in /Users/olgarazvenskaia/.env/fastrp-repr/lib/python3.11/site-packages (from matplotlib) (0.12.1)\r\n",
      "Requirement already satisfied: fonttools>=4.22.0 in /Users/olgarazvenskaia/.env/fastrp-repr/lib/python3.11/site-packages (from matplotlib) (4.53.1)\r\n",
      "Requirement already satisfied: kiwisolver>=1.3.1 in /Users/olgarazvenskaia/.env/fastrp-repr/lib/python3.11/site-packages (from matplotlib) (1.4.7)\r\n",
      "Requirement already satisfied: packaging>=20.0 in /Users/olgarazvenskaia/.env/fastrp-repr/lib/python3.11/site-packages (from matplotlib) (24.1)\r\n",
      "Requirement already satisfied: pillow>=8 in /Users/olgarazvenskaia/.env/fastrp-repr/lib/python3.11/site-packages (from matplotlib) (10.4.0)\r\n",
      "Requirement already satisfied: pyparsing>=2.3.1 in /Users/olgarazvenskaia/.env/fastrp-repr/lib/python3.11/site-packages (from matplotlib) (3.1.4)\r\n",
      "Requirement already satisfied: python-dateutil>=2.7 in /Users/olgarazvenskaia/.env/fastrp-repr/lib/python3.11/site-packages (from matplotlib) (2.9.0.post0)\r\n",
      "Requirement already satisfied: pytz in /Users/olgarazvenskaia/.env/fastrp-repr/lib/python3.11/site-packages (from neo4j<6.0,>=4.4.12->graphdatascience) (2024.1)\r\n",
      "Requirement already satisfied: llvmlite<0.44,>=0.43.0dev0 in /Users/olgarazvenskaia/.env/fastrp-repr/lib/python3.11/site-packages (from numba>=0.51.2->umap-learn) (0.43.0)\r\n",
      "Requirement already satisfied: tzdata>=2022.7 in /Users/olgarazvenskaia/.env/fastrp-repr/lib/python3.11/site-packages (from pandas<3.0,>=1.0->graphdatascience) (2024.1)\r\n",
      "Requirement already satisfied: six>=1.5 in /Users/olgarazvenskaia/.env/fastrp-repr/lib/python3.11/site-packages (from python-dateutil>=2.7->matplotlib) (1.16.0)\r\n",
      "Requirement already satisfied: charset-normalizer<4,>=2 in /Users/olgarazvenskaia/.env/fastrp-repr/lib/python3.11/site-packages (from requests->graphdatascience) (3.3.2)\r\n",
      "Requirement already satisfied: idna<4,>=2.5 in /Users/olgarazvenskaia/.env/fastrp-repr/lib/python3.11/site-packages (from requests->graphdatascience) (3.8)\r\n",
      "Requirement already satisfied: urllib3<3,>=1.21.1 in /Users/olgarazvenskaia/.env/fastrp-repr/lib/python3.11/site-packages (from requests->graphdatascience) (2.2.2)\r\n",
      "Requirement already satisfied: certifi>=2017.4.17 in /Users/olgarazvenskaia/.env/fastrp-repr/lib/python3.11/site-packages (from requests->graphdatascience) (2024.8.30)\r\n",
      "Requirement already satisfied: pyasn1>=0.1.3 in /Users/olgarazvenskaia/.env/fastrp-repr/lib/python3.11/site-packages (from rsa->graphdatascience) (0.6.0)\r\n",
      "\r\n",
      "\u001B[1m[\u001B[0m\u001B[34;49mnotice\u001B[0m\u001B[1;39;49m]\u001B[0m\u001B[39;49m A new release of pip is available: \u001B[0m\u001B[31;49m23.2.1\u001B[0m\u001B[39;49m -> \u001B[0m\u001B[32;49m24.2\u001B[0m\r\n",
      "\u001B[1m[\u001B[0m\u001B[34;49mnotice\u001B[0m\u001B[1;39;49m]\u001B[0m\u001B[39;49m To update, run: \u001B[0m\u001B[32;49mpip install --upgrade pip\u001B[0m\r\n"
     ]
    }
   ],
   "source": [
    "!pip install graphdatascience python-dotenv umap-learn scikit-learn==1.4.2 matplotlib seaborn"
   ]
  },
  {
   "cell_type": "code",
   "source": [
    "import pandas as pd\n",
    "import numpy as np\n",
    "from graphdatascience import GraphDataScience, Graph\n",
    "\n",
    "def drop_graph_if_exists(gds: GraphDataScience,\n",
    "                         projections: list):\n",
    "  \"\"\"Drop named GDS projections in list.\n",
    "\n",
    "  Args:\n",
    "    gds : GraphDataScience\n",
    "      Neo4j GDS session object\n",
    "    projections: list\n",
    "      List of projection names\n",
    "  \"\"\"\n",
    "  # Check for existence of each named projection\n",
    "  filtered_projections = list(filter(lambda x: x in projections, gds.graph.list()['graphName']))\n",
    "  # Drop projections\n",
    "  _ = list(map(lambda x: gds.graph.drop(gds.graph.get(x)), filtered_projections))\n",
    "\n",
    "\n",
    "def reduce_embedding(df: pd.DataFrame, algorithm, property_column='propertyValue', reduce_column='reduced'):\n",
    "  # Apply dimensionality reduction algorithm to embedding\n",
    "  transformed = algorithm.fit_transform(np.array(list(df[property_column])))\n",
    "\n",
    "  # Concatenate reduced transformation into Dataframe\n",
    "  dfX = pd.concat([df, pd.Series(list(transformed))], axis=1, ignore_index=True, join='outer')\n",
    "\n",
    "  # Name columns following concatenation\n",
    "  dfX = dfX.set_axis(list(df.columns) + [reduce_column], axis=1)\n",
    "  return dfX\n",
    "\n",
    "\n",
    "def cluster_embedding(df: pd.DataFrame, algorithm, property_column='propertyValue', cluster_column='cluster'):\n",
    "  # Apply clustering algorithm to embedding\n",
    "  algorithm.fit(np.array(list(df[property_column])))\n",
    "\n",
    "  # Concatenate cluster labels into Dataframe\n",
    "  dfX = pd.concat([df, pd.DataFrame(list(algorithm.labels_))], axis=1, ignore_index=True, join='outer')\n",
    "\n",
    "  # Name columns following concatenation\n",
    "  dfX = dfX.set_axis(list(df.columns) + [cluster_column], axis=1)\n",
    "  return dfX\n",
    "\n",
    "\n",
    "def node_property_project(gds: GraphDataScience, projection_name: str, df: pd.DataFrame, nodeId_column: str, property_columns: list, labels: list):\n",
    "  # Create empty DataFrame for nodes\n",
    "  nodes = pd.DataFrame()\n",
    "\n",
    "  # Set nodeId column\n",
    "  nodes['nodeId'] = df[nodeId_column]\n",
    "\n",
    "  # Add property columns to nodes dataframe\n",
    "  for v in property_columns:\n",
    "    nodes[v] = df[v]\n",
    "\n",
    "  # Add a column for node labels\n",
    "  nodes['labels'] = nodes.apply(lambda x: labels, axis='columns')\n",
    "\n",
    "  # Empty dataframe - we don't need any relationships\n",
    "  relationships = pd.DataFrame()\n",
    "\n",
    "  # Create graph projection of nodes & properties from dataframe\n",
    "  return gds.graph.construct(projection_name, nodes, relationships)\n"
   ],
   "metadata": {
    "id": "v-kibWVe4yxa",
    "ExecuteTime": {
     "end_time": "2024-09-05T14:48:44.250086Z",
     "start_time": "2024-09-05T14:48:44.039249Z"
    }
   },
   "id": "v-kibWVe4yxa",
   "execution_count": 2,
   "outputs": []
  },
  {
   "cell_type": "code",
   "execution_count": 3,
   "id": "42125886-72ec-4245-b228-a1c79a327740",
   "metadata": {
    "id": "42125886-72ec-4245-b228-a1c79a327740",
    "colab": {
     "base_uri": "https://localhost:8080/"
    },
    "executionInfo": {
     "status": "ok",
     "timestamp": 1719573374798,
     "user_tz": -60,
     "elapsed": 12356,
     "user": {
      "displayName": "Stuart Green",
      "userId": "06684144979108576535"
     }
    },
    "outputId": "5eb2edee-acdc-45db-97f0-deed0f4dafb0",
    "ExecuteTime": {
     "end_time": "2024-09-05T14:48:46.424954Z",
     "start_time": "2024-09-05T14:48:44.251677Z"
    }
   },
   "outputs": [],
   "source": [
    "from sklearn.cluster import HDBSCAN\n",
    "import umap.umap_ as umap\n",
    "import time\n",
    "\n",
    "from dotenv import load_dotenv\n",
    "import os\n",
    "import random\n",
    "import pandas as pd\n",
    "pd.set_option('display.max_rows', 100)\n",
    "load_dotenv()\n",
    "\n",
    "NEO4J_URI = os.environ.get(\"NEO4J_URI\", \"bolt://localhost:7687\")\n",
    "NEO4J_AUTH = None\n",
    "NEO4J_DB = os.environ.get(\"NEO4J_DB\", \"neo4j\")\n",
    "if os.environ.get(\"NEO4J_USER\") and os.environ.get(\"NEO4J_PASSWORD\"):\n",
    "    NEO4J_AUTH = (\n",
    "        os.environ.get(\"NEO4J_USER\"),\n",
    "        os.environ.get(\"NEO4J_PASSWORD\"),\n",
    "    )\n",
    "\n",
    "from neo4j import GraphDatabase\n",
    "driver = GraphDatabase.driver(NEO4J_URI, auth=NEO4J_AUTH)\n",
    "n4j = driver.session(database=NEO4J_DB)\n",
    "\n",
    "\n",
    "gds = GraphDataScience(NEO4J_URI, auth=NEO4J_AUTH, database=NEO4J_DB)"
   ]
  },
  {
   "cell_type": "markdown",
   "source": [
    "## Create Graph"
   ],
   "metadata": {
    "id": "K9P4jr2cjpkx"
   },
   "id": "K9P4jr2cjpkx"
  },
  {
   "cell_type": "code",
   "source": [
    "nA = 2000\n",
    "nB = 2000\n",
    "nZ = 10\n",
    "connections = 2\n",
    "\n",
    "#nA = 2000\n",
    "#nB = 2000\n",
    "#nZ = 5\n",
    "#connections = 3\n",
    "\n",
    "nA = 10000\n",
    "nB = 10000\n",
    "nZ = 7\n",
    "connections = 4\n",
    "\n",
    "n4j.run('MATCH (n) DETACH DELETE n')\n",
    "\n",
    "n4j.run(\"CREATE CONSTRAINT a_name IF NOT EXISTS FOR (n:A) REQUIRE (n.name) IS UNIQUE\")\n",
    "n4j.run(\"CREATE CONSTRAINT b_name IF NOT EXISTS FOR (n:B) REQUIRE (n.name) IS UNIQUE\")\n",
    "n4j.run(\"CREATE CONSTRAINT z_name IF NOT EXISTS FOR (n:Z) REQUIRE (n.name) IS UNIQUE\")\n",
    "\n",
    "n4j.run(\"UNWIND $records AS row MERGE (:A {name: row})\", records=list(range(nA)))\n",
    "n4j.run(\"UNWIND $records AS row MERGE (:B {name: row})\", records=list(range(nB)))\n",
    "n4j.run(\"UNWIND $records AS row MERGE (:Z {name: row})\", records=list(range(nZ)))\n",
    "\n",
    "n4j.run(\"UNWIND $records AS row MATCH (a:A {name: row}) MATCH (b:B {name: row}) MERGE (a)-[:FOLLOW]->(b)\", records=list(range(nA)))\n",
    "\n",
    "# Generate random traits\n",
    "traits = list(map(lambda x: [x, random.sample(range(nZ), connections)], range(nA)))\n",
    "\n",
    "n4j.run(\"UNWIND $records AS row MATCH (b:B {name: row[0]}) UNWIND row[1] AS x MATCH (z:Z {name: x}) MERGE (b)-[:TRAIT]->(z)\", records=traits)\n",
    "time.sleep(3)"
   ],
   "metadata": {
    "colab": {
     "base_uri": "https://localhost:8080/"
    },
    "collapsed": true,
    "id": "_L22JgO1STuh",
    "executionInfo": {
     "status": "ok",
     "timestamp": 1719579771991,
     "user_tz": -60,
     "elapsed": 5369,
     "user": {
      "displayName": "Stuart Green",
      "userId": "06684144979108576535"
     }
    },
    "outputId": "01aa9a55-577d-4ec3-af0c-ceaccbdc6bf6",
    "ExecuteTime": {
     "end_time": "2024-09-05T14:48:49.967289Z",
     "start_time": "2024-09-05T14:48:46.427137Z"
    }
   },
   "id": "_L22JgO1STuh",
   "execution_count": 4,
   "outputs": []
  },
  {
   "cell_type": "markdown",
   "source": [
    "## Approach A - Direct"
   ],
   "metadata": {
    "id": "qkiE2GEKxg8Q"
   },
   "id": "qkiE2GEKxg8Q"
  },
  {
   "cell_type": "markdown",
   "source": [
    "### Project"
   ],
   "metadata": {
    "id": "rEFg1ZnY8PoM"
   },
   "id": "rEFg1ZnY8PoM"
  },
  {
   "cell_type": "code",
   "source": [
    "PROJECTION1 = 'ABZ'\n",
    "list(map(lambda x: gds.graph.drop(gds.graph.get(x)), list(filter(lambda x: x in [PROJECTION1], gds.graph.list()['graphName']))))\n",
    "cypher = \"\"\"\n",
    "CALL {\n",
    "    MATCH (a:A)-[r1:FOLLOW]->(b:B)\n",
    "    //MATCH (a:A)-[r1:FOLLOW]->(b:B)-[r2:TRAIT]->(z:Z)\n",
    "    RETURN a AS source, labels(a) AS sourceLabel, b AS target, labels(b) AS targetLabel, type(r1) AS relType\n",
    "    UNION ALL\n",
    "    MATCH (a:A)-[r1:FOLLOW]->(b:B)-[r2:TRAIT]->(z:Z)\n",
    "    RETURN b AS source, labels(b) AS sourceLabel, z AS target, labels(z) AS targetLabel, type(r2) AS relType\n",
    "}\n",
    "RETURN gds.graph.project($projection_name, source, target,\n",
    "  {sourceNodeLabels: sourceLabel,\n",
    "  targetNodeLabels: targetLabel,\n",
    "  relationshipType: relType},\n",
    "  {undirectedRelationshipTypes: ['*']})\n",
    "\"\"\"\n",
    "\n",
    "G, result = gds.graph.cypher.project(cypher, projection_name=PROJECTION1)\n",
    "result\n",
    "gds.graph.list()\n",
    "import time\n",
    "time.sleep(5)"
   ],
   "metadata": {
    "colab": {
     "base_uri": "https://localhost:8080/"
    },
    "id": "gGtfX1F98UsK",
    "executionInfo": {
     "status": "ok",
     "timestamp": 1719579774602,
     "user_tz": -60,
     "elapsed": 2621,
     "user": {
      "displayName": "Stuart Green",
      "userId": "06684144979108576535"
     }
    },
    "outputId": "f2743d1e-65b0-4db6-c2ba-3feef6f32612",
    "ExecuteTime": {
     "end_time": "2024-09-05T14:48:55.074373Z",
     "start_time": "2024-09-05T14:48:49.974378Z"
    }
   },
   "id": "gGtfX1F98UsK",
   "execution_count": 5,
   "outputs": []
  },
  {
   "cell_type": "markdown",
   "source": [
    "### Embed"
   ],
   "metadata": {
    "id": "mR-OUPJP8XZD"
   },
   "id": "mR-OUPJP8XZD"
  },
  {
   "cell_type": "code",
   "source": [
    "EMBEDDING1 = 'fastRP1'\n",
    "EMBEDDING_DIMENSION = 128\n",
    "RANDOM_SEED = 42\n",
    "GA = gds.graph.get(PROJECTION1)\n",
    "gds.fastRP.mutate(GA, iterationWeights=[1.0], embeddingDimension=EMBEDDING_DIMENSION, mutateProperty=EMBEDDING1, randomSeed=RANDOM_SEED, nodeLabels=['B', 'Z'])"
   ],
   "metadata": {
    "colab": {
     "base_uri": "https://localhost:8080/"
    },
    "id": "jZ_Tj_mrhXve",
    "executionInfo": {
     "status": "ok",
     "timestamp": 1719579775986,
     "user_tz": -60,
     "elapsed": 1386,
     "user": {
      "displayName": "Stuart Green",
      "userId": "06684144979108576535"
     }
    },
    "outputId": "160cf054-e2c6-4e10-c7c4-3f064d5ebe9a",
    "ExecuteTime": {
     "end_time": "2024-09-05T14:48:55.157454Z",
     "start_time": "2024-09-05T14:48:55.074731Z"
    }
   },
   "id": "jZ_Tj_mrhXve",
   "execution_count": 6,
   "outputs": [
    {
     "data": {
      "text/plain": "nodePropertiesWritten                                                10007\nmutateMillis                                                             0\nnodeCount                                                            10007\npreProcessingMillis                                                      0\ncomputeMillis                                                           45\nconfiguration            {'randomSeed': 42, 'mutateProperty': 'fastRP1'...\nName: 0, dtype: object"
     },
     "execution_count": 6,
     "metadata": {},
     "output_type": "execute_result"
    }
   ]
  },
  {
   "cell_type": "markdown",
   "id": "dc8a8815-0872-4dd7-8f2b-c7d6aea4ee50",
   "metadata": {
    "id": "dc8a8815-0872-4dd7-8f2b-c7d6aea4ee50"
   },
   "source": [
    "### Stream B embeddings"
   ]
  },
  {
   "cell_type": "code",
   "execution_count": 7,
   "id": "9a1e1b6b-8260-48e0-be73-c89e487622a2",
   "metadata": {
    "id": "9a1e1b6b-8260-48e0-be73-c89e487622a2",
    "ExecuteTime": {
     "end_time": "2024-09-05T14:48:55.201835Z",
     "start_time": "2024-09-05T14:48:55.158421Z"
    }
   },
   "outputs": [],
   "source": [
    "dfBe = gds.graph.nodeProperty.stream(GA, EMBEDDING1, 'B')"
   ]
  },
  {
   "cell_type": "markdown",
   "id": "59219a59-acc6-4268-be64-12869c36320f",
   "metadata": {
    "id": "59219a59-acc6-4268-be64-12869c36320f"
   },
   "source": [
    "### Cluster, reduce, cluster"
   ]
  },
  {
   "cell_type": "code",
   "source": [
    "%%time\n",
    "dfBc = cluster_embedding(dfBe, HDBSCAN(min_samples=20, min_cluster_size=10, n_jobs=-1), cluster_column='raw')\n",
    "dfBc = reduce_embedding(dfBc, umap.UMAP(n_neighbors=30, min_dist=0.1, n_components=2))\n",
    "dfBc = cluster_embedding(dfBc, HDBSCAN(min_samples=20, min_cluster_size=10, n_jobs=-1), property_column='reduced', cluster_column='umap')"
   ],
   "metadata": {
    "colab": {
     "base_uri": "https://localhost:8080/"
    },
    "id": "m1ldtBG2o-gx",
    "executionInfo": {
     "status": "ok",
     "timestamp": 1719579854535,
     "user_tz": -60,
     "elapsed": 76809,
     "user": {
      "displayName": "Stuart Green",
      "userId": "06684144979108576535"
     }
    },
    "outputId": "77aeaf6f-fbb5-4df6-dfa7-650af2f7a442",
    "ExecuteTime": {
     "end_time": "2024-09-05T14:49:19.260609Z",
     "start_time": "2024-09-05T14:48:55.197658Z"
    }
   },
   "id": "m1ldtBG2o-gx",
   "execution_count": 8,
   "outputs": [
    {
     "name": "stdout",
     "output_type": "stream",
     "text": [
      "CPU times: user 1min 26s, sys: 774 ms, total: 1min 27s\n",
      "Wall time: 24.1 s\n"
     ]
    }
   ]
  },
  {
   "cell_type": "markdown",
   "source": [
    "### Raw Clusters"
   ],
   "metadata": {
    "id": "VG9dq4gE8-tW"
   },
   "id": "VG9dq4gE8-tW"
  },
  {
   "cell_type": "code",
   "source": [
    "dfBc['raw'].value_counts()"
   ],
   "metadata": {
    "colab": {
     "base_uri": "https://localhost:8080/"
    },
    "id": "YrIrYG-UlRTZ",
    "executionInfo": {
     "status": "ok",
     "timestamp": 1719579854535,
     "user_tz": -60,
     "elapsed": 6,
     "user": {
      "displayName": "Stuart Green",
      "userId": "06684144979108576535"
     }
    },
    "outputId": "50dbbb0d-a338-4765-b786-4ec73380414d",
    "ExecuteTime": {
     "end_time": "2024-09-05T14:49:19.269557Z",
     "start_time": "2024-09-05T14:49:19.262236Z"
    }
   },
   "id": "YrIrYG-UlRTZ",
   "execution_count": 9,
   "outputs": [
    {
     "data": {
      "text/plain": "raw\n31    319\n17    316\n11    313\n18    312\n23    309\n8     309\n2     302\n21    298\n14    297\n26    294\n29    293\n34    293\n6     292\n24    291\n3     289\n27    284\n7     284\n19    282\n33    281\n22    279\n25    279\n1     277\n5     277\n4     277\n9     277\n32    276\n16    276\n15    274\n0     273\n30    267\n28    267\n20    265\n12    261\n13    260\n10    257\nName: count, dtype: int64"
     },
     "execution_count": 9,
     "metadata": {},
     "output_type": "execute_result"
    }
   ]
  },
  {
   "cell_type": "markdown",
   "source": [
    "### UMAP Clusters"
   ],
   "metadata": {
    "id": "bMCEf7GG9BUV"
   },
   "id": "bMCEf7GG9BUV"
  },
  {
   "cell_type": "code",
   "source": [
    "dfBc['umap'].value_counts()"
   ],
   "metadata": {
    "colab": {
     "base_uri": "https://localhost:8080/"
    },
    "id": "KMNg8FIvosDf",
    "executionInfo": {
     "status": "ok",
     "timestamp": 1719579854535,
     "user_tz": -60,
     "elapsed": 5,
     "user": {
      "displayName": "Stuart Green",
      "userId": "06684144979108576535"
     }
    },
    "outputId": "767565cb-87c1-4a8c-c19e-8480bad0c13c",
    "ExecuteTime": {
     "end_time": "2024-09-05T14:49:19.269802Z",
     "start_time": "2024-09-05T14:49:19.265662Z"
    }
   },
   "id": "KMNg8FIvosDf",
   "execution_count": 10,
   "outputs": [
    {
     "data": {
      "text/plain": "umap\n3     319\n5     316\n7     313\n21    312\n17    309\n14    309\n18    302\n8     298\n11    297\n15    294\n9     293\n16    293\n28    292\n24    291\n20    289\n30    284\n29    284\n13    282\n10    281\n12    279\n1     279\n27    277\n4     277\n31    277\n32    277\n19    276\n25    276\n33    274\n34    273\n0     267\n2     267\n26    265\n35    260\n6     257\n23    231\n22     30\nName: count, dtype: int64"
     },
     "execution_count": 10,
     "metadata": {},
     "output_type": "execute_result"
    }
   ]
  },
  {
   "cell_type": "markdown",
   "source": [
    "### UMAP Cluster Plot"
   ],
   "metadata": {
    "id": "fPioZJlx9Kwy"
   },
   "id": "fPioZJlx9Kwy"
  },
  {
   "cell_type": "code",
   "source": [
    "dfBc['x'] = dfBc['reduced'].apply(lambda x: x[0])\n",
    "dfBc['y'] = dfBc['reduced'].apply(lambda x: x[1])\n",
    "dfBc.plot.scatter(x='x', y='y', c=dfBc['umap'], cmap=\"plasma\", marker='+')"
   ],
   "metadata": {
    "colab": {
     "base_uri": "https://localhost:8080/",
     "height": 466
    },
    "id": "r4xRNR1K1sEM",
    "executionInfo": {
     "status": "ok",
     "timestamp": 1719579854535,
     "user_tz": -60,
     "elapsed": 4,
     "user": {
      "displayName": "Stuart Green",
      "userId": "06684144979108576535"
     }
    },
    "outputId": "03f17845-34f8-44bd-c384-a95a4e8269b4",
    "ExecuteTime": {
     "end_time": "2024-09-05T14:49:19.572311Z",
     "start_time": "2024-09-05T14:49:19.273894Z"
    }
   },
   "id": "r4xRNR1K1sEM",
   "execution_count": 11,
   "outputs": [
    {
     "data": {
      "text/plain": "<Axes: xlabel='x', ylabel='y'>"
     },
     "execution_count": 11,
     "metadata": {},
     "output_type": "execute_result"
    },
    {
     "data": {
      "text/plain": "<Figure size 640x480 with 2 Axes>",
      "image/png": "[encoded data removed]"
     },
     "metadata": {},
     "output_type": "display_data"
    }
   ]
  },
  {
   "cell_type": "markdown",
   "source": [
    "## Approach B - Layered"
   ],
   "metadata": {
    "id": "ktExSveJyxjt"
   },
   "id": "ktExSveJyxjt"
  },
  {
   "cell_type": "markdown",
   "source": [
    "### Project"
   ],
   "metadata": {
    "id": "VtwRXcvdzjzL"
   },
   "id": "VtwRXcvdzjzL"
  },
  {
   "cell_type": "code",
   "source": [
    "PROJECTION2 = 'ABZ2'\n",
    "PROJECTION3 = 'ABZ3'\n",
    "list(map(lambda x: gds.graph.drop(gds.graph.get(x)), list(filter(lambda x: x in [PROJECTION2, PROJECTION3], gds.graph.list()['graphName']))))\n",
    "cypher = \"\"\"\n",
    "CALL {\n",
    "    MATCH (a:A)-[r1:FOLLOW]->(b:B)\n",
    "    //MATCH (a:A)-[r1:FOLLOW]->(b:B)-[r2:TRAIT]->(z:Z)\n",
    "    RETURN a AS source, labels(a) AS sourceLabel, b AS target, labels(b) AS targetLabel, type(r1) AS relType\n",
    "    UNION ALL\n",
    "    MATCH (a:A)-[r1:FOLLOW]->(b:B)-[r2:TRAIT]->(z:Z)\n",
    "    RETURN b AS source, labels(b) AS sourceLabel, z AS target, labels(z) AS targetLabel, type(r2) AS relType\n",
    "}\n",
    "RETURN gds.graph.project($projection_name, source, target,\n",
    "  {sourceNodeLabels: sourceLabel,\n",
    "  targetNodeLabels: targetLabel,\n",
    "  relationshipType: relType},\n",
    "  {undirectedRelationshipTypes: ['*']})\n",
    "\"\"\"\n",
    "\n",
    "GB, result = gds.graph.cypher.project(cypher, projection_name=PROJECTION2)\n",
    "result"
   ],
   "metadata": {
    "colab": {
     "base_uri": "https://localhost:8080/"
    },
    "id": "j0MAxPQ0y7Fr",
    "executionInfo": {
     "status": "ok",
     "timestamp": 1719579857982,
     "user_tz": -60,
     "elapsed": 3450,
     "user": {
      "displayName": "Stuart Green",
      "userId": "06684144979108576535"
     }
    },
    "outputId": "f383f498-5b4c-4858-9cfd-5afe07f9ec99",
    "ExecuteTime": {
     "end_time": "2024-09-05T14:49:19.671956Z",
     "start_time": "2024-09-05T14:49:19.567794Z"
    }
   },
   "id": "j0MAxPQ0y7Fr",
   "execution_count": 12,
   "outputs": [
    {
     "data": {
      "text/plain": "relationshipCount                                               100000\ngraphName                                                         ABZ2\nquery                \\nCALL {\\n    MATCH (a:A)-[r1:FOLLOW]->(b:B)\\n...\nprojectMillis                                                       37\nconfiguration        {'readConcurrency': 4, 'undirectedRelationship...\nnodeCount                                                        20007\ndtype: object"
     },
     "execution_count": 12,
     "metadata": {},
     "output_type": "execute_result"
    }
   ]
  },
  {
   "cell_type": "markdown",
   "source": [
    "### Embed B to Z"
   ],
   "metadata": {
    "id": "Iy6RVvbLz1H2"
   },
   "id": "Iy6RVvbLz1H2"
  },
  {
   "cell_type": "code",
   "source": [
    "EMBEDDING2 = 'fastRP2'\n",
    "GB = gds.graph.get(PROJECTION2)\n",
    "gds.fastRP.mutate(GB, iterationWeights=[1.0], embeddingDimension=EMBEDDING_DIMENSION, mutateProperty=EMBEDDING2, nodeLabels=['B', 'Z'], randomSeed=RANDOM_SEED)"
   ],
   "metadata": {
    "colab": {
     "base_uri": "https://localhost:8080/"
    },
    "id": "yHD-Gks4ziXy",
    "executionInfo": {
     "status": "ok",
     "timestamp": 1719579858544,
     "user_tz": -60,
     "elapsed": 563,
     "user": {
      "displayName": "Stuart Green",
      "userId": "06684144979108576535"
     }
    },
    "outputId": "a4418862-ab7c-4264-b122-6bc3b27204cf",
    "ExecuteTime": {
     "end_time": "2024-09-05T14:49:19.714472Z",
     "start_time": "2024-09-05T14:49:19.672557Z"
    }
   },
   "id": "yHD-Gks4ziXy",
   "execution_count": 13,
   "outputs": [
    {
     "data": {
      "text/plain": "nodePropertiesWritten                                                10007\nmutateMillis                                                             0\nnodeCount                                                            10007\npreProcessingMillis                                                      0\ncomputeMillis                                                           29\nconfiguration            {'randomSeed': 42, 'mutateProperty': 'fastRP2'...\nName: 0, dtype: object"
     },
     "execution_count": 13,
     "metadata": {},
     "output_type": "execute_result"
    }
   ]
  },
  {
   "cell_type": "markdown",
   "source": [
    "### WCC for node property\n",
    "\n",
    "In order to stream nodeIds a node must have a property - fix to add a property for A nodes."
   ],
   "metadata": {
    "id": "A7yRssYO1U7g"
   },
   "id": "A7yRssYO1U7g"
  },
  {
   "cell_type": "code",
   "source": [
    "gds.wcc.mutate(GB, mutateProperty='wcc')"
   ],
   "metadata": {
    "colab": {
     "base_uri": "https://localhost:8080/"
    },
    "id": "QUXak-gR1N1o",
    "executionInfo": {
     "status": "ok",
     "timestamp": 1719579859653,
     "user_tz": -60,
     "elapsed": 1110,
     "user": {
      "displayName": "Stuart Green",
      "userId": "06684144979108576535"
     }
    },
    "outputId": "484b99f8-2539-4666-b34f-008937689419",
    "ExecuteTime": {
     "end_time": "2024-09-05T14:49:19.724984Z",
     "start_time": "2024-09-05T14:49:19.717260Z"
    }
   },
   "id": "QUXak-gR1N1o",
   "execution_count": 14,
   "outputs": [
    {
     "data": {
      "text/plain": "mutateMillis                                                             0\nnodePropertiesWritten                                                20007\ncomponentCount                                                           1\ncomponentDistribution    {'min': 20007, 'p5': 20007, 'max': 20007, 'p99...\npostProcessingMillis                                                     0\npreProcessingMillis                                                      0\ncomputeMillis                                                            1\nconfiguration            {'mutateProperty': 'wcc', 'jobId': '25f3c2f1-7...\nName: 0, dtype: object"
     },
     "execution_count": 14,
     "metadata": {},
     "output_type": "execute_result"
    }
   ]
  },
  {
   "cell_type": "markdown",
   "source": [
    "### Stream B embeddings"
   ],
   "metadata": {
    "id": "cO9n2xwt0qgZ"
   },
   "id": "cO9n2xwt0qgZ"
  },
  {
   "cell_type": "code",
   "source": [
    "dfB2 = gds.graph.nodeProperty.stream(GB, EMBEDDING2, 'B')\n",
    "dfB2['labels'] = dfB2.apply(lambda x: ['B'], axis='columns')\n",
    "dfB2.head()"
   ],
   "metadata": {
    "colab": {
     "base_uri": "https://localhost:8080/",
     "height": 206
    },
    "id": "xNT7g8AJ0j37",
    "executionInfo": {
     "status": "ok",
     "timestamp": 1719579861025,
     "user_tz": -60,
     "elapsed": 1374,
     "user": {
      "displayName": "Stuart Green",
      "userId": "06684144979108576535"
     }
    },
    "outputId": "f118f0de-595e-4bf2-d1b7-8cdd0ae007b5",
    "ExecuteTime": {
     "end_time": "2024-09-05T14:49:19.771891Z",
     "start_time": "2024-09-05T14:49:19.725695Z"
    }
   },
   "id": "xNT7g8AJ0j37",
   "execution_count": 15,
   "outputs": [
    {
     "data": {
      "text/plain": "   nodeId                                      propertyValue labels\n0   10000  [0.07881104, 0.07881104, 0.0, 0.0, -0.15762208...    [B]\n1   10001  [0.0, 0.0, 0.0, -0.07124705, -0.07124705, 0.0,...    [B]\n2   10002  [0.14106913, -0.14106913, 0.0, -0.14106913, -0...    [B]\n3   10003  [0.07955573, 0.07955573, 0.0, 0.07955573, -0.0...    [B]\n4   10004  [0.07881104, 0.07881104, 0.0, 0.0, -0.15762208...    [B]",
      "text/html": "<div>\n<style scoped>\n    .dataframe tbody tr th:only-of-type {\n        vertical-align: middle;\n    }\n\n    .dataframe tbody tr th {\n        vertical-align: top;\n    }\n\n    .dataframe thead th {\n        text-align: right;\n    }\n</style>\n<table border=\"1\" class=\"dataframe\">\n  <thead>\n    <tr style=\"text-align: right;\">\n      <th></th>\n      <th>nodeId</th>\n      <th>propertyValue</th>\n      <th>labels</th>\n    </tr>\n  </thead>\n  <tbody>\n    <tr>\n      <th>0</th>\n      <td>10000</td>\n      <td>[0.07881104, 0.07881104, 0.0, 0.0, -0.15762208...</td>\n      <td>[B]</td>\n    </tr>\n    <tr>\n      <th>1</th>\n      <td>10001</td>\n      <td>[0.0, 0.0, 0.0, -0.07124705, -0.07124705, 0.0,...</td>\n      <td>[B]</td>\n    </tr>\n    <tr>\n      <th>2</th>\n      <td>10002</td>\n      <td>[0.14106913, -0.14106913, 0.0, -0.14106913, -0...</td>\n      <td>[B]</td>\n    </tr>\n    <tr>\n      <th>3</th>\n      <td>10003</td>\n      <td>[0.07955573, 0.07955573, 0.0, 0.07955573, -0.0...</td>\n      <td>[B]</td>\n    </tr>\n    <tr>\n      <th>4</th>\n      <td>10004</td>\n      <td>[0.07881104, 0.07881104, 0.0, 0.0, -0.15762208...</td>\n      <td>[B]</td>\n    </tr>\n  </tbody>\n</table>\n</div>"
     },
     "execution_count": 15,
     "metadata": {},
     "output_type": "execute_result"
    }
   ]
  },
  {
   "cell_type": "markdown",
   "source": [
    "### Stream A nodes\n",
    "\n",
    "Add zero vectors"
   ],
   "metadata": {
    "id": "f2R1MegX1qRY"
   },
   "id": "f2R1MegX1qRY"
  },
  {
   "cell_type": "code",
   "source": [
    "dfA1 = gds.graph.nodeProperty.stream(GB, 'wcc', 'A')\n",
    "dfA1['propertyValue'] = dfA1.apply(lambda x: list(map(lambda x: 0.0, range(EMBEDDING_DIMENSION))), axis='columns')\n",
    "dfA1['labels'] = dfA1.apply(lambda x: ['A'], axis='columns')\n",
    "dfA1.head()"
   ],
   "metadata": {
    "colab": {
     "base_uri": "https://localhost:8080/",
     "height": 206
    },
    "id": "3E_ez7oy1mkn",
    "executionInfo": {
     "status": "ok",
     "timestamp": 1719579861705,
     "user_tz": -60,
     "elapsed": 682,
     "user": {
      "displayName": "Stuart Green",
      "userId": "06684144979108576535"
     }
    },
    "outputId": "1d28d131-6f9a-4da9-847b-d92ab9cc8d8c",
    "ExecuteTime": {
     "end_time": "2024-09-05T14:49:19.952828Z",
     "start_time": "2024-09-05T14:49:19.772507Z"
    }
   },
   "id": "3E_ez7oy1mkn",
   "execution_count": 16,
   "outputs": [
    {
     "data": {
      "text/plain": "   nodeId                                      propertyValue labels\n0       0  [0.0, 0.0, 0.0, 0.0, 0.0, 0.0, 0.0, 0.0, 0.0, ...    [A]\n1       1  [0.0, 0.0, 0.0, 0.0, 0.0, 0.0, 0.0, 0.0, 0.0, ...    [A]\n2       2  [0.0, 0.0, 0.0, 0.0, 0.0, 0.0, 0.0, 0.0, 0.0, ...    [A]\n3       3  [0.0, 0.0, 0.0, 0.0, 0.0, 0.0, 0.0, 0.0, 0.0, ...    [A]\n4       4  [0.0, 0.0, 0.0, 0.0, 0.0, 0.0, 0.0, 0.0, 0.0, ...    [A]",
      "text/html": "<div>\n<style scoped>\n    .dataframe tbody tr th:only-of-type {\n        vertical-align: middle;\n    }\n\n    .dataframe tbody tr th {\n        vertical-align: top;\n    }\n\n    .dataframe thead th {\n        text-align: right;\n    }\n</style>\n<table border=\"1\" class=\"dataframe\">\n  <thead>\n    <tr style=\"text-align: right;\">\n      <th></th>\n      <th>nodeId</th>\n      <th>propertyValue</th>\n      <th>labels</th>\n    </tr>\n  </thead>\n  <tbody>\n    <tr>\n      <th>0</th>\n      <td>0</td>\n      <td>[0.0, 0.0, 0.0, 0.0, 0.0, 0.0, 0.0, 0.0, 0.0, ...</td>\n      <td>[A]</td>\n    </tr>\n    <tr>\n      <th>1</th>\n      <td>1</td>\n      <td>[0.0, 0.0, 0.0, 0.0, 0.0, 0.0, 0.0, 0.0, 0.0, ...</td>\n      <td>[A]</td>\n    </tr>\n    <tr>\n      <th>2</th>\n      <td>2</td>\n      <td>[0.0, 0.0, 0.0, 0.0, 0.0, 0.0, 0.0, 0.0, 0.0, ...</td>\n      <td>[A]</td>\n    </tr>\n    <tr>\n      <th>3</th>\n      <td>3</td>\n      <td>[0.0, 0.0, 0.0, 0.0, 0.0, 0.0, 0.0, 0.0, 0.0, ...</td>\n      <td>[A]</td>\n    </tr>\n    <tr>\n      <th>4</th>\n      <td>4</td>\n      <td>[0.0, 0.0, 0.0, 0.0, 0.0, 0.0, 0.0, 0.0, 0.0, ...</td>\n      <td>[A]</td>\n    </tr>\n  </tbody>\n</table>\n</div>"
     },
     "execution_count": 16,
     "metadata": {},
     "output_type": "execute_result"
    }
   ]
  },
  {
   "cell_type": "markdown",
   "source": [
    "### Stream FOLLOW relationships"
   ],
   "metadata": {
    "id": "JWCMpxo92Cs3"
   },
   "id": "JWCMpxo92Cs3"
  },
  {
   "cell_type": "code",
   "source": [
    "relationships = gds.graph.relationships.stream(GB, ['FOLLOW'])\n",
    "relationships.head()"
   ],
   "metadata": {
    "colab": {
     "base_uri": "https://localhost:8080/",
     "height": 206
    },
    "id": "NtBmZmo-2Aqo",
    "executionInfo": {
     "status": "ok",
     "timestamp": 1719579862133,
     "user_tz": -60,
     "elapsed": 430,
     "user": {
      "displayName": "Stuart Green",
      "userId": "06684144979108576535"
     }
    },
    "outputId": "062955df-7255-4587-85e3-dd6df93aa921",
    "ExecuteTime": {
     "end_time": "2024-09-05T14:49:19.969061Z",
     "start_time": "2024-09-05T14:49:19.952951Z"
    }
   },
   "id": "NtBmZmo-2Aqo",
   "execution_count": 17,
   "outputs": [
    {
     "data": {
      "text/plain": "   sourceNodeId  targetNodeId relationshipType\n0             0         10000           FOLLOW\n1         10000             0           FOLLOW\n2             1         10001           FOLLOW\n3         10001             1           FOLLOW\n4             2         10002           FOLLOW",
      "text/html": "<div>\n<style scoped>\n    .dataframe tbody tr th:only-of-type {\n        vertical-align: middle;\n    }\n\n    .dataframe tbody tr th {\n        vertical-align: top;\n    }\n\n    .dataframe thead th {\n        text-align: right;\n    }\n</style>\n<table border=\"1\" class=\"dataframe\">\n  <thead>\n    <tr style=\"text-align: right;\">\n      <th></th>\n      <th>sourceNodeId</th>\n      <th>targetNodeId</th>\n      <th>relationshipType</th>\n    </tr>\n  </thead>\n  <tbody>\n    <tr>\n      <th>0</th>\n      <td>0</td>\n      <td>10000</td>\n      <td>FOLLOW</td>\n    </tr>\n    <tr>\n      <th>1</th>\n      <td>10000</td>\n      <td>0</td>\n      <td>FOLLOW</td>\n    </tr>\n    <tr>\n      <th>2</th>\n      <td>1</td>\n      <td>10001</td>\n      <td>FOLLOW</td>\n    </tr>\n    <tr>\n      <th>3</th>\n      <td>10001</td>\n      <td>1</td>\n      <td>FOLLOW</td>\n    </tr>\n    <tr>\n      <th>4</th>\n      <td>2</td>\n      <td>10002</td>\n      <td>FOLLOW</td>\n    </tr>\n  </tbody>\n</table>\n</div>"
     },
     "execution_count": 17,
     "metadata": {},
     "output_type": "execute_result"
    }
   ]
  },
  {
   "cell_type": "markdown",
   "source": [
    "### Construct Graph"
   ],
   "metadata": {
    "id": "J98LYZOf2wDu"
   },
   "id": "J98LYZOf2wDu"
  },
  {
   "cell_type": "code",
   "source": [
    "PROPERTY_RATIO = 0.5\n",
    "NODE_SELF_INFLUENCE = 0.0\n",
    "\n",
    "list(map(lambda x: gds.graph.drop(gds.graph.get(x)), list(filter(lambda x: x in [PROJECTION3], gds.graph.list()['graphName']))))\n",
    "GC = gds.graph.construct(PROJECTION3, pd.concat([dfB2, dfA1]), relationships)"
   ],
   "metadata": {
    "colab": {
     "base_uri": "https://localhost:8080/",
     "height": 136,
     "referenced_widgets": [
      "40068c85a3b544fbaf5ebf816bf87da9",
      "f2ea662429f04578ac318f567082b966",
      "45d813eada744aa497f6e9e16d20d429",
      "e823345a33b443a4a848f4fb21ad91d4",
      "a0871a4b917e40c2b4735e8de4f23af5",
      "7917ce66adc34fcd829d67a93689af4b",
      "92bb81e1c08741ac8db31dd0667f7d41",
      "016702338643428293528a352832f9f2",
      "8c9c6ba3d5b44b9f808e4e11f1b16691",
      "feb8ee4279e04f8c9b35da614740f88b",
      "35d1a918ebe04cc1a462482f1e115860",
      "3224aff8ad4f40d8a8753e037e15c344",
      "00d190d7b1ba4c2ba6948ee587f8226d",
      "b95edd32fa6d47458bcd2650ee2829bc",
      "6d8862a2b8fc46f1b0be2a575af5f507",
      "6297005e37de4b77a65730c5f6eb1039",
      "2e01b56b26bb4092bb37a5aed4f49778",
      "f35d13ff9d674ccc96740a60a8e5a340",
      "ca57b13ac30b4fc5a2b3597fd41cc176",
      "bd884c167c104b4f90cef6100de947d0",
      "11634bed5b1b44c18b61d5424051df43",
      "df8b4fd7bcfd41eb912be0ee9011d9ea"
     ]
    },
    "id": "prMpbSt22nmt",
    "executionInfo": {
     "status": "ok",
     "timestamp": 1719582402551,
     "user_tz": -60,
     "elapsed": 6367,
     "user": {
      "displayName": "Stuart Green",
      "userId": "06684144979108576535"
     }
    },
    "outputId": "cab5b895-f514-40e7-f0ca-bf0395494c6a",
    "ExecuteTime": {
     "end_time": "2024-09-05T14:49:20.205701Z",
     "start_time": "2024-09-05T14:49:19.970177Z"
    }
   },
   "id": "prMpbSt22nmt",
   "execution_count": 18,
   "outputs": [
    {
     "data": {
      "text/plain": "Uploading Nodes:   0%|          | 0/20000 [00:00<?, ?Records/s]",
      "application/vnd.jupyter.widget-view+json": {
       "version_major": 2,
       "version_minor": 0,
       "model_id": "c9c2b3c3e5c447f6951fd49fa7b9f85a"
      }
     },
     "metadata": {},
     "output_type": "display_data"
    },
    {
     "data": {
      "text/plain": "Uploading Relationships:   0%|          | 0/20000 [00:00<?, ?Records/s]",
      "application/vnd.jupyter.widget-view+json": {
       "version_major": 2,
       "version_minor": 0,
       "model_id": "3887e2f8feed49bc9270ca0d221cbfe9"
      }
     },
     "metadata": {},
     "output_type": "display_data"
    },
    {
     "name": "stderr",
     "output_type": "stream",
     "text": [
      "/Users/olgarazvenskaia/.env/fastrp-repr/lib/python3.11/site-packages/numpy/core/fromnumeric.py:59: FutureWarning: 'TopologyDataFrame.swapaxes' is deprecated and will be removed in a future version. Please use 'TopologyDataFrame.transpose' instead.\n",
      "  return bound(*args, **kwds)\n"
     ]
    }
   ]
  },
  {
   "cell_type": "markdown",
   "source": [
    "### Embed combining graph & previously calculated embeddings"
   ],
   "metadata": {
    "id": "HC0hZxun3Idr"
   },
   "id": "HC0hZxun3Idr"
  },
  {
   "cell_type": "code",
   "source": [
    "EMBEDDING3 = 'fastRP3'\n",
    "gds.graph.nodeProperties.drop(GC, EMBEDDING3)\n",
    "gds.fastRP.mutate(GC, embeddingDimension=EMBEDDING_DIMENSION,\n",
    "                  iterationWeights=[1.0], nodeSelfInfluence=NODE_SELF_INFLUENCE, propertyRatio=PROPERTY_RATIO, featureProperties=['propertyValue'], mutateProperty=EMBEDDING3)\n",
    "dfA2 = gds.graph.nodeProperty.stream(GC, EMBEDDING3, 'A')\n",
    "dfA2.describe()"
   ],
   "metadata": {
    "colab": {
     "base_uri": "https://localhost:8080/"
    },
    "id": "GwZeN_y92-hU",
    "executionInfo": {
     "status": "ok",
     "timestamp": 1719582405146,
     "user_tz": -60,
     "elapsed": 2603,
     "user": {
      "displayName": "Stuart Green",
      "userId": "06684144979108576535"
     }
    },
    "outputId": "a9856dbb-ad62-49bc-be05-ebee72feed07",
    "ExecuteTime": {
     "end_time": "2024-09-05T14:52:57.522435Z",
     "start_time": "2024-09-05T14:52:57.391370Z"
    }
   },
   "id": "GwZeN_y92-hU",
   "execution_count": 34,
   "outputs": [
    {
     "data": {
      "text/plain": "            nodeId\ncount  10000.00000\nmean    4999.50000\nstd     2886.89568\nmin        0.00000\n25%     2499.75000\n50%     4999.50000\n75%     7499.25000\nmax     9999.00000",
      "text/html": "<div>\n<style scoped>\n    .dataframe tbody tr th:only-of-type {\n        vertical-align: middle;\n    }\n\n    .dataframe tbody tr th {\n        vertical-align: top;\n    }\n\n    .dataframe thead th {\n        text-align: right;\n    }\n</style>\n<table border=\"1\" class=\"dataframe\">\n  <thead>\n    <tr style=\"text-align: right;\">\n      <th></th>\n      <th>nodeId</th>\n    </tr>\n  </thead>\n  <tbody>\n    <tr>\n      <th>count</th>\n      <td>10000.00000</td>\n    </tr>\n    <tr>\n      <th>mean</th>\n      <td>4999.50000</td>\n    </tr>\n    <tr>\n      <th>std</th>\n      <td>2886.89568</td>\n    </tr>\n    <tr>\n      <th>min</th>\n      <td>0.00000</td>\n    </tr>\n    <tr>\n      <th>25%</th>\n      <td>2499.75000</td>\n    </tr>\n    <tr>\n      <th>50%</th>\n      <td>4999.50000</td>\n    </tr>\n    <tr>\n      <th>75%</th>\n      <td>7499.25000</td>\n    </tr>\n    <tr>\n      <th>max</th>\n      <td>9999.00000</td>\n    </tr>\n  </tbody>\n</table>\n</div>"
     },
     "execution_count": 34,
     "metadata": {},
     "output_type": "execute_result"
    }
   ]
  },
  {
   "cell_type": "markdown",
   "source": [
    "### Stream A Embedding"
   ],
   "metadata": {
    "id": "mC7dVGjK30T9"
   },
   "id": "mC7dVGjK30T9"
  },
  {
   "cell_type": "code",
   "source": [
    "dfA2 = gds.graph.nodeProperty.stream(GC, EMBEDDING3, 'A')\n",
    "dfA2.describe()"
   ],
   "metadata": {
    "colab": {
     "base_uri": "https://localhost:8080/",
     "height": 300
    },
    "id": "zcNctw0Y3vqC",
    "executionInfo": {
     "status": "ok",
     "timestamp": 1719582406732,
     "user_tz": -60,
     "elapsed": 1587,
     "user": {
      "displayName": "Stuart Green",
      "userId": "06684144979108576535"
     }
    },
    "outputId": "155d9057-dad4-455f-d7cd-a6cbdf5dc6c9",
    "ExecuteTime": {
     "end_time": "2024-09-05T14:53:03.220993Z",
     "start_time": "2024-09-05T14:53:03.167736Z"
    }
   },
   "id": "zcNctw0Y3vqC",
   "execution_count": 35,
   "outputs": [
    {
     "data": {
      "text/plain": "            nodeId\ncount  10000.00000\nmean    4999.50000\nstd     2886.89568\nmin        0.00000\n25%     2499.75000\n50%     4999.50000\n75%     7499.25000\nmax     9999.00000",
      "text/html": "<div>\n<style scoped>\n    .dataframe tbody tr th:only-of-type {\n        vertical-align: middle;\n    }\n\n    .dataframe tbody tr th {\n        vertical-align: top;\n    }\n\n    .dataframe thead th {\n        text-align: right;\n    }\n</style>\n<table border=\"1\" class=\"dataframe\">\n  <thead>\n    <tr style=\"text-align: right;\">\n      <th></th>\n      <th>nodeId</th>\n    </tr>\n  </thead>\n  <tbody>\n    <tr>\n      <th>count</th>\n      <td>10000.00000</td>\n    </tr>\n    <tr>\n      <th>mean</th>\n      <td>4999.50000</td>\n    </tr>\n    <tr>\n      <th>std</th>\n      <td>2886.89568</td>\n    </tr>\n    <tr>\n      <th>min</th>\n      <td>0.00000</td>\n    </tr>\n    <tr>\n      <th>25%</th>\n      <td>2499.75000</td>\n    </tr>\n    <tr>\n      <th>50%</th>\n      <td>4999.50000</td>\n    </tr>\n    <tr>\n      <th>75%</th>\n      <td>7499.25000</td>\n    </tr>\n    <tr>\n      <th>max</th>\n      <td>9999.00000</td>\n    </tr>\n  </tbody>\n</table>\n</div>"
     },
     "execution_count": 35,
     "metadata": {},
     "output_type": "execute_result"
    }
   ]
  },
  {
   "cell_type": "markdown",
   "source": [
    "### Cluster, reduce, cluster"
   ],
   "metadata": {
    "id": "nWy4XxMy4HF8"
   },
   "id": "nWy4XxMy4HF8"
  },
  {
   "cell_type": "code",
   "source": [
    "%%time\n",
    "dfAc = cluster_embedding(dfA2, HDBSCAN(min_samples=20, min_cluster_size=10, n_jobs=-1), cluster_column='raw')\n",
    "dfAc = reduce_embedding(dfAc, umap.UMAP(n_neighbors=30, min_dist=0.1, n_components=2))\n",
    "dfAc = cluster_embedding(dfAc, HDBSCAN(min_samples=20, min_cluster_size=10, n_jobs=-1), property_column='reduced', cluster_column='umap')"
   ],
   "metadata": {
    "colab": {
     "base_uri": "https://localhost:8080/",
     "height": 52
    },
    "id": "FecdutG234e0",
    "executionInfo": {
     "status": "ok",
     "timestamp": 1719582430809,
     "user_tz": -60,
     "elapsed": 24078,
     "user": {
      "displayName": "Stuart Green",
      "userId": "06684144979108576535"
     }
    },
    "outputId": "ea2854f3-74e5-45ce-c1b3-b7ac5bb26701",
    "ExecuteTime": {
     "end_time": "2024-09-05T14:53:18.276750Z",
     "start_time": "2024-09-05T14:53:08.268301Z"
    }
   },
   "id": "FecdutG234e0",
   "execution_count": 36,
   "outputs": [
    {
     "name": "stdout",
     "output_type": "stream",
     "text": [
      "CPU times: user 38.6 s, sys: 357 ms, total: 39 s\n",
      "Wall time: 10 s\n"
     ]
    }
   ]
  },
  {
   "cell_type": "markdown",
   "source": [
    "### Raw Clusters"
   ],
   "metadata": {
    "id": "DAg2DIMy4bsu"
   },
   "id": "DAg2DIMy4bsu"
  },
  {
   "cell_type": "code",
   "source": [
    "dfAc['raw'].value_counts()"
   ],
   "metadata": {
    "colab": {
     "base_uri": "https://localhost:8080/"
    },
    "id": "ze_L-fXA4bef",
    "executionInfo": {
     "status": "ok",
     "timestamp": 1719582430809,
     "user_tz": -60,
     "elapsed": 14,
     "user": {
      "displayName": "Stuart Green",
      "userId": "06684144979108576535"
     }
    },
    "outputId": "23310d61-ff49-4842-9942-87659f26b638",
    "collapsed": true,
    "ExecuteTime": {
     "end_time": "2024-09-05T14:53:26.837456Z",
     "start_time": "2024-09-05T14:53:26.827424Z"
    }
   },
   "id": "ze_L-fXA4bef",
   "execution_count": 37,
   "outputs": [
    {
     "data": {
      "text/plain": "raw\n-1    8702\n 0    1276\n 1      22\nName: count, dtype: int64"
     },
     "execution_count": 37,
     "metadata": {},
     "output_type": "execute_result"
    }
   ]
  },
  {
   "cell_type": "markdown",
   "source": [
    "### UMAP Clusters"
   ],
   "metadata": {
    "id": "UogXWNzw4hHs"
   },
   "id": "UogXWNzw4hHs"
  },
  {
   "cell_type": "code",
   "source": [
    "dfAc['umap'].value_counts()"
   ],
   "metadata": {
    "colab": {
     "base_uri": "https://localhost:8080/"
    },
    "id": "AROO8hLo4g8y",
    "executionInfo": {
     "status": "ok",
     "timestamp": 1719582430809,
     "user_tz": -60,
     "elapsed": 13,
     "user": {
      "displayName": "Stuart Green",
      "userId": "06684144979108576535"
     }
    },
    "outputId": "02f166ca-6669-47b8-853f-9dcc0d3a9a5a",
    "collapsed": true,
    "ExecuteTime": {
     "end_time": "2024-09-05T14:53:28.750923Z",
     "start_time": "2024-09-05T14:53:28.738241Z"
    }
   },
   "id": "AROO8hLo4g8y",
   "execution_count": 38,
   "outputs": [
    {
     "data": {
      "text/plain": "umap\n 7     319\n 30    315\n 9     313\n 22    309\n 11    309\n 32    308\n 10    302\n 8     297\n 19    296\n 24    294\n 26    294\n 31    293\n 17    292\n 25    290\n 1     289\n 28    284\n 13    284\n 3     282\n 29    279\n 14    279\n 4     277\n 27    277\n 0     277\n 2     277\n 16    276\n 34    275\n 15    274\n 12    273\n 33    272\n 6     267\n 5     267\n 20    266\n 21    261\n 23    260\n 18    257\n-1      16\nName: count, dtype: int64"
     },
     "execution_count": 38,
     "metadata": {},
     "output_type": "execute_result"
    }
   ]
  },
  {
   "cell_type": "code",
   "source": [
    "dfAc['x'] = dfAc['reduced'].apply(lambda x: x[0])\n",
    "dfAc['y'] = dfAc['reduced'].apply(lambda x: x[1])\n",
    "dfAc.plot.scatter(x='x', y='y', c=dfAc['umap'], cmap=\"plasma\", marker='+')"
   ],
   "metadata": {
    "id": "u7G4zjOf4scH",
    "colab": {
     "base_uri": "https://localhost:8080/",
     "height": 466
    },
    "executionInfo": {
     "status": "ok",
     "timestamp": 1719582430810,
     "user_tz": -60,
     "elapsed": 13,
     "user": {
      "displayName": "Stuart Green",
      "userId": "06684144979108576535"
     }
    },
    "outputId": "5c18bcc4-e535-488b-db18-8fda580e4ad7",
    "ExecuteTime": {
     "end_time": "2024-09-05T14:53:29.935592Z",
     "start_time": "2024-09-05T14:53:29.790503Z"
    }
   },
   "id": "u7G4zjOf4scH",
   "execution_count": 39,
   "outputs": [
    {
     "data": {
      "text/plain": "<Axes: xlabel='x', ylabel='y'>"
     },
     "execution_count": 39,
     "metadata": {},
     "output_type": "execute_result"
    },
    {
     "data": {
      "text/plain": "<Figure size 640x480 with 2 Axes>",
      "image/png": "[encoded data removed]"
     },
     "metadata": {},
     "output_type": "display_data"
    }
   ]
  },
  {
   "cell_type": "code",
   "source": [
    "relmap = dict(map(lambda x: (x['sourceNodeId'], x['targetNodeId']), relationships.to_dict(orient='records')))\n",
    "dfAc['FOLLOW'] = dfAc.apply(lambda x: relmap[x['nodeId']], axis=1)"
   ],
   "metadata": {
    "id": "QHgrVr2x9q3Z",
    "ExecuteTime": {
     "end_time": "2024-09-05T14:53:31.022843Z",
     "start_time": "2024-09-05T14:53:30.994772Z"
    }
   },
   "id": "QHgrVr2x9q3Z",
   "execution_count": 40,
   "outputs": []
  },
  {
   "cell_type": "markdown",
   "source": [
    "## Compare - Ovelap between clusters\n",
    "\n",
    "The cluster membership of B nodes (B->Z embedding) should overlap with the cluster membership of the A node (A->B property embedding).\n",
    "\n",
    "Maximal overlap is when the heatmap below has a red diagonal.\n",
    "\n",
    "This is observed when propertyRatio = 0.5 (or exactly 1.0). Deviation from 0.5 toward 0.0 or 1.0 results in an embedding that carries little information from the original property embeddings (the cluster ovelap breaks down)."
   ],
   "metadata": {
    "id": "L8JtZOTV413n"
   },
   "id": "L8JtZOTV413n"
  },
  {
   "cell_type": "code",
   "source": [
    "import seaborn as sns\n",
    "import matplotlib.pyplot as plt\n",
    "\n",
    "I = {}\n",
    "for x in dfAc['umap'].value_counts().index:\n",
    "  I[x] = {}\n",
    "  for y in dfBc['umap'].value_counts().index:\n",
    "    sA = set(dfAc[dfAc['umap'] == x]['FOLLOW'])\n",
    "    sB = set(dfBc[dfBc['umap'] == y]['nodeId'])\n",
    "    I[x][y] = 100 * len(sA & sB) / len(sA | sB)\n",
    "\n",
    "fig, ax = plt.subplots(figsize=(10, 10))\n",
    "#sns.heatmap(pd.DataFrame(I), cmap='coolwarm', annot=True, fmt=\".0f\")\n",
    "sns.heatmap(pd.DataFrame(I), cmap='coolwarm')"
   ],
   "metadata": {
    "colab": {
     "base_uri": "https://localhost:8080/",
     "height": 856
    },
    "id": "TqS19I8S48uA",
    "executionInfo": {
     "status": "ok",
     "timestamp": 1719582433541,
     "user_tz": -60,
     "elapsed": 2259,
     "user": {
      "displayName": "Stuart Green",
      "userId": "06684144979108576535"
     }
    },
    "outputId": "ecee2e78-e983-4841-9ac0-a548bcf96af3",
    "ExecuteTime": {
     "end_time": "2024-09-05T14:53:33.105429Z",
     "start_time": "2024-09-05T14:53:32.514615Z"
    }
   },
   "id": "TqS19I8S48uA",
   "execution_count": 41,
   "outputs": [
    {
     "data": {
      "text/plain": "<Axes: >"
     },
     "execution_count": 41,
     "metadata": {},
     "output_type": "execute_result"
    },
    {
     "data": {
      "text/plain": "<Figure size 1000x1000 with 2 Axes>",
      "image/png": "[encoded data removed]"
     },
     "metadata": {},
     "output_type": "display_data"
    }
   ]
  },
  {
   "cell_type": "markdown",
   "source": [
    "## Close"
   ],
   "metadata": {
    "id": "3kuYIytF43lK"
   },
   "id": "3kuYIytF43lK"
  },
  {
   "cell_type": "code",
   "source": [
    "#gds.graph.drop(G)\n",
    "#gds.close()\n",
    "#n4j.close()\n",
    "#driver.close()"
   ],
   "metadata": {
    "id": "NXr__fmD5FWW",
    "ExecuteTime": {
     "end_time": "2024-09-05T14:49:31.208211Z",
     "start_time": "2024-09-05T14:49:31.206423Z"
    }
   },
   "id": "NXr__fmD5FWW",
   "execution_count": 27,
   "outputs": []
  }
 ],
 "metadata": {
  "colab": {
   "machine_shape": "hm",
   "provenance": [
    {
     "file_id": "18KUnca9tjuycLRp0eHqLUHoCUh1gtcTc",
     "timestamp": 1718629086883
    },
    {
     "file_id": "13Bd9y80T7YNyWGNCutXW03_-BQTJjhd2",
     "timestamp": 1718371064082
    },
    {
     "file_id": "1vKHojdi7EgH1VtxIhhOcQDhwe36bPpbd",
     "timestamp": 1716992235357
    },
    {
     "file_id": "15lDMleArveAzlsYyFUMs6GDXPyGpjoVa",
     "timestamp": 1716474376011
    },
    {
     "file_id": "1_KmcbM7ER9dHhgGVyawI-QV9CyXB1Hqt",
     "timestamp": 1716387553140
    },
    {
     "file_id": "1w3b90O8LnHCzV2OYNEi5kE2zpIm48cXi",
     "timestamp": 1716373175760
    },
    {
     "file_id": "18iNVyNliwxEiuYLEzXH9Z-kKEH11vBRj",
     "timestamp": 1716370152100
    },
    {
     "file_id": "14Lga2lm_VdUOJH4S2_Yn-HAU1utUkB0t",
     "timestamp": 1716363880617
    },
    {
     "file_id": "1V0sHhHA8SoHBLFgCla5VvNoiTxpkPkPO",
     "timestamp": 1716362083501
    },
    {
     "file_id": "1UN70L3PIBO-APCqTnuqZg5qZHUUXKors",
     "timestamp": 1716360963561
    },
    {
     "file_id": "1rtkUtHBYmVkdTLy3heMNzOO5IEaQ2nnw",
     "timestamp": 1716359789519
    },
    {
     "file_id": "10Y6f7VfAtBKvKrebehCLY5MPzjidT2cV",
     "timestamp": 1716277373408
    },
    {
     "file_id": "1nUhmtCmJhMQwWMi33XYq9vvVMzUGnYKD",
     "timestamp": 1716220691292
    },
    {
     "file_id": "1DGEb226c5J4DmuI9Q0vrvveJfwSkyX_W",
     "timestamp": 1715871872649
    },
    {
     "file_id": "126VmbSaxcQz0iNn0qmhlkRsNHQkZbuvc",
     "timestamp": 1715790791493
    },
    {
     "file_id": "1Cll3b1Jd5FQhTq9ldSBAojY0DsFB4wO2",
     "timestamp": 1715765307954
    }
   ]
  },
  "kernelspec": {
   "display_name": "Python 3 (ipykernel)",
   "language": "python",
   "name": "python3"
  },
  "language_info": {
   "codemirror_mode": {
    "name": "ipython",
    "version": 3
   },
   "file_extension": ".py",
   "mimetype": "text/x-python",
   "name": "python",
   "nbconvert_exporter": "python",
   "pygments_lexer": "ipython3",
   "version": "3.10.5"
  },
  "widgets": {
   "application/vnd.jupyter.widget-state+json": {
    "40068c85a3b544fbaf5ebf816bf87da9": {
     "model_module": "@jupyter-widgets/controls",
     "model_name": "HBoxModel",
     "model_module_version": "1.5.0",
     "state": {
      "_dom_classes": [],
      "_model_module": "@jupyter-widgets/controls",
      "_model_module_version": "1.5.0",
      "_model_name": "HBoxModel",
      "_view_count": null,
      "_view_module": "@jupyter-widgets/controls",
      "_view_module_version": "1.5.0",
      "_view_name": "HBoxView",
      "box_style": "",
      "children": [
       "IPY_MODEL_f2ea662429f04578ac318f567082b966",
       "IPY_MODEL_45d813eada744aa497f6e9e16d20d429",
       "IPY_MODEL_e823345a33b443a4a848f4fb21ad91d4"
      ],
      "layout": "IPY_MODEL_a0871a4b917e40c2b4735e8de4f23af5"
     }
    },
    "f2ea662429f04578ac318f567082b966": {
     "model_module": "@jupyter-widgets/controls",
     "model_name": "HTMLModel",
     "model_module_version": "1.5.0",
     "state": {
      "_dom_classes": [],
      "_model_module": "@jupyter-widgets/controls",
      "_model_module_version": "1.5.0",
      "_model_name": "HTMLModel",
      "_view_count": null,
      "_view_module": "@jupyter-widgets/controls",
      "_view_module_version": "1.5.0",
      "_view_name": "HTMLView",
      "description": "",
      "description_tooltip": null,
      "layout": "IPY_MODEL_7917ce66adc34fcd829d67a93689af4b",
      "placeholder": "​",
      "style": "IPY_MODEL_92bb81e1c08741ac8db31dd0667f7d41",
      "value": "Uploading Nodes: 100%"
     }
    },
    "45d813eada744aa497f6e9e16d20d429": {
     "model_module": "@jupyter-widgets/controls",
     "model_name": "FloatProgressModel",
     "model_module_version": "1.5.0",
     "state": {
      "_dom_classes": [],
      "_model_module": "@jupyter-widgets/controls",
      "_model_module_version": "1.5.0",
      "_model_name": "FloatProgressModel",
      "_view_count": null,
      "_view_module": "@jupyter-widgets/controls",
      "_view_module_version": "1.5.0",
      "_view_name": "ProgressView",
      "bar_style": "success",
      "description": "",
      "description_tooltip": null,
      "layout": "IPY_MODEL_016702338643428293528a352832f9f2",
      "max": 20000,
      "min": 0,
      "orientation": "horizontal",
      "style": "IPY_MODEL_8c9c6ba3d5b44b9f808e4e11f1b16691",
      "value": 20000
     }
    },
    "e823345a33b443a4a848f4fb21ad91d4": {
     "model_module": "@jupyter-widgets/controls",
     "model_name": "HTMLModel",
     "model_module_version": "1.5.0",
     "state": {
      "_dom_classes": [],
      "_model_module": "@jupyter-widgets/controls",
      "_model_module_version": "1.5.0",
      "_model_name": "HTMLModel",
      "_view_count": null,
      "_view_module": "@jupyter-widgets/controls",
      "_view_module_version": "1.5.0",
      "_view_name": "HTMLView",
      "description": "",
      "description_tooltip": null,
      "layout": "IPY_MODEL_feb8ee4279e04f8c9b35da614740f88b",
      "placeholder": "​",
      "style": "IPY_MODEL_35d1a918ebe04cc1a462482f1e115860",
      "value": " 20000/20000 [00:03&lt;00:00, 8237.48Records/s]"
     }
    },
    "a0871a4b917e40c2b4735e8de4f23af5": {
     "model_module": "@jupyter-widgets/base",
     "model_name": "LayoutModel",
     "model_module_version": "1.2.0",
     "state": {
      "_model_module": "@jupyter-widgets/base",
      "_model_module_version": "1.2.0",
      "_model_name": "LayoutModel",
      "_view_count": null,
      "_view_module": "@jupyter-widgets/base",
      "_view_module_version": "1.2.0",
      "_view_name": "LayoutView",
      "align_content": null,
      "align_items": null,
      "align_self": null,
      "border": null,
      "bottom": null,
      "display": null,
      "flex": null,
      "flex_flow": null,
      "grid_area": null,
      "grid_auto_columns": null,
      "grid_auto_flow": null,
      "grid_auto_rows": null,
      "grid_column": null,
      "grid_gap": null,
      "grid_row": null,
      "grid_template_areas": null,
      "grid_template_columns": null,
      "grid_template_rows": null,
      "height": null,
      "justify_content": null,
      "justify_items": null,
      "left": null,
      "margin": null,
      "max_height": null,
      "max_width": null,
      "min_height": null,
      "min_width": null,
      "object_fit": null,
      "object_position": null,
      "order": null,
      "overflow": null,
      "overflow_x": null,
      "overflow_y": null,
      "padding": null,
      "right": null,
      "top": null,
      "visibility": null,
      "width": null
     }
    },
    "7917ce66adc34fcd829d67a93689af4b": {
     "model_module": "@jupyter-widgets/base",
     "model_name": "LayoutModel",
     "model_module_version": "1.2.0",
     "state": {
      "_model_module": "@jupyter-widgets/base",
      "_model_module_version": "1.2.0",
      "_model_name": "LayoutModel",
      "_view_count": null,
      "_view_module": "@jupyter-widgets/base",
      "_view_module_version": "1.2.0",
      "_view_name": "LayoutView",
      "align_content": null,
      "align_items": null,
      "align_self": null,
      "border": null,
      "bottom": null,
      "display": null,
      "flex": null,
      "flex_flow": null,
      "grid_area": null,
      "grid_auto_columns": null,
      "grid_auto_flow": null,
      "grid_auto_rows": null,
      "grid_column": null,
      "grid_gap": null,
      "grid_row": null,
      "grid_template_areas": null,
      "grid_template_columns": null,
      "grid_template_rows": null,
      "height": null,
      "justify_content": null,
      "justify_items": null,
      "left": null,
      "margin": null,
      "max_height": null,
      "max_width": null,
      "min_height": null,
      "min_width": null,
      "object_fit": null,
      "object_position": null,
      "order": null,
      "overflow": null,
      "overflow_x": null,
      "overflow_y": null,
      "padding": null,
      "right": null,
      "top": null,
      "visibility": null,
      "width": null
     }
    },
    "92bb81e1c08741ac8db31dd0667f7d41": {
     "model_module": "@jupyter-widgets/controls",
     "model_name": "DescriptionStyleModel",
     "model_module_version": "1.5.0",
     "state": {
      "_model_module": "@jupyter-widgets/controls",
      "_model_module_version": "1.5.0",
      "_model_name": "DescriptionStyleModel",
      "_view_count": null,
      "_view_module": "@jupyter-widgets/base",
      "_view_module_version": "1.2.0",
      "_view_name": "StyleView",
      "description_width": ""
     }
    },
    "016702338643428293528a352832f9f2": {
     "model_module": "@jupyter-widgets/base",
     "model_name": "LayoutModel",
     "model_module_version": "1.2.0",
     "state": {
      "_model_module": "@jupyter-widgets/base",
      "_model_module_version": "1.2.0",
      "_model_name": "LayoutModel",
      "_view_count": null,
      "_view_module": "@jupyter-widgets/base",
      "_view_module_version": "1.2.0",
      "_view_name": "LayoutView",
      "align_content": null,
      "align_items": null,
      "align_self": null,
      "border": null,
      "bottom": null,
      "display": null,
      "flex": null,
      "flex_flow": null,
      "grid_area": null,
      "grid_auto_columns": null,
      "grid_auto_flow": null,
      "grid_auto_rows": null,
      "grid_column": null,
      "grid_gap": null,
      "grid_row": null,
      "grid_template_areas": null,
      "grid_template_columns": null,
      "grid_template_rows": null,
      "height": null,
      "justify_content": null,
      "justify_items": null,
      "left": null,
      "margin": null,
      "max_height": null,
      "max_width": null,
      "min_height": null,
      "min_width": null,
      "object_fit": null,
      "object_position": null,
      "order": null,
      "overflow": null,
      "overflow_x": null,
      "overflow_y": null,
      "padding": null,
      "right": null,
      "top": null,
      "visibility": null,
      "width": null
     }
    },
    "8c9c6ba3d5b44b9f808e4e11f1b16691": {
     "model_module": "@jupyter-widgets/controls",
     "model_name": "ProgressStyleModel",
     "model_module_version": "1.5.0",
     "state": {
      "_model_module": "@jupyter-widgets/controls",
      "_model_module_version": "1.5.0",
      "_model_name": "ProgressStyleModel",
      "_view_count": null,
      "_view_module": "@jupyter-widgets/base",
      "_view_module_version": "1.2.0",
      "_view_name": "StyleView",
      "bar_color": null,
      "description_width": ""
     }
    },
    "feb8ee4279e04f8c9b35da614740f88b": {
     "model_module": "@jupyter-widgets/base",
     "model_name": "LayoutModel",
     "model_module_version": "1.2.0",
     "state": {
      "_model_module": "@jupyter-widgets/base",
      "_model_module_version": "1.2.0",
      "_model_name": "LayoutModel",
      "_view_count": null,
      "_view_module": "@jupyter-widgets/base",
      "_view_module_version": "1.2.0",
      "_view_name": "LayoutView",
      "align_content": null,
      "align_items": null,
      "align_self": null,
      "border": null,
      "bottom": null,
      "display": null,
      "flex": null,
      "flex_flow": null,
      "grid_area": null,
      "grid_auto_columns": null,
      "grid_auto_flow": null,
      "grid_auto_rows": null,
      "grid_column": null,
      "grid_gap": null,
      "grid_row": null,
      "grid_template_areas": null,
      "grid_template_columns": null,
      "grid_template_rows": null,
      "height": null,
      "justify_content": null,
      "justify_items": null,
      "left": null,
      "margin": null,
      "max_height": null,
      "max_width": null,
      "min_height": null,
      "min_width": null,
      "object_fit": null,
      "object_position": null,
      "order": null,
      "overflow": null,
      "overflow_x": null,
      "overflow_y": null,
      "padding": null,
      "right": null,
      "top": null,
      "visibility": null,
      "width": null
     }
    },
    "35d1a918ebe04cc1a462482f1e115860": {
     "model_module": "@jupyter-widgets/controls",
     "model_name": "DescriptionStyleModel",
     "model_module_version": "1.5.0",
     "state": {
      "_model_module": "@jupyter-widgets/controls",
      "_model_module_version": "1.5.0",
      "_model_name": "DescriptionStyleModel",
      "_view_count": null,
      "_view_module": "@jupyter-widgets/base",
      "_view_module_version": "1.2.0",
      "_view_name": "StyleView",
      "description_width": ""
     }
    },
    "3224aff8ad4f40d8a8753e037e15c344": {
     "model_module": "@jupyter-widgets/controls",
     "model_name": "HBoxModel",
     "model_module_version": "1.5.0",
     "state": {
      "_dom_classes": [],
      "_model_module": "@jupyter-widgets/controls",
      "_model_module_version": "1.5.0",
      "_model_name": "HBoxModel",
      "_view_count": null,
      "_view_module": "@jupyter-widgets/controls",
      "_view_module_version": "1.5.0",
      "_view_name": "HBoxView",
      "box_style": "",
      "children": [
       "IPY_MODEL_00d190d7b1ba4c2ba6948ee587f8226d",
       "IPY_MODEL_b95edd32fa6d47458bcd2650ee2829bc",
       "IPY_MODEL_6d8862a2b8fc46f1b0be2a575af5f507"
      ],
      "layout": "IPY_MODEL_6297005e37de4b77a65730c5f6eb1039"
     }
    },
    "00d190d7b1ba4c2ba6948ee587f8226d": {
     "model_module": "@jupyter-widgets/controls",
     "model_name": "HTMLModel",
     "model_module_version": "1.5.0",
     "state": {
      "_dom_classes": [],
      "_model_module": "@jupyter-widgets/controls",
      "_model_module_version": "1.5.0",
      "_model_name": "HTMLModel",
      "_view_count": null,
      "_view_module": "@jupyter-widgets/controls",
      "_view_module_version": "1.5.0",
      "_view_name": "HTMLView",
      "description": "",
      "description_tooltip": null,
      "layout": "IPY_MODEL_2e01b56b26bb4092bb37a5aed4f49778",
      "placeholder": "​",
      "style": "IPY_MODEL_f35d13ff9d674ccc96740a60a8e5a340",
      "value": "Uploading Relationships: 100%"
     }
    },
    "b95edd32fa6d47458bcd2650ee2829bc": {
     "model_module": "@jupyter-widgets/controls",
     "model_name": "FloatProgressModel",
     "model_module_version": "1.5.0",
     "state": {
      "_dom_classes": [],
      "_model_module": "@jupyter-widgets/controls",
      "_model_module_version": "1.5.0",
      "_model_name": "FloatProgressModel",
      "_view_count": null,
      "_view_module": "@jupyter-widgets/controls",
      "_view_module_version": "1.5.0",
      "_view_name": "ProgressView",
      "bar_style": "success",
      "description": "",
      "description_tooltip": null,
      "layout": "IPY_MODEL_ca57b13ac30b4fc5a2b3597fd41cc176",
      "max": 20000,
      "min": 0,
      "orientation": "horizontal",
      "style": "IPY_MODEL_bd884c167c104b4f90cef6100de947d0",
      "value": 20000
     }
    },
    "6d8862a2b8fc46f1b0be2a575af5f507": {
     "model_module": "@jupyter-widgets/controls",
     "model_name": "HTMLModel",
     "model_module_version": "1.5.0",
     "state": {
      "_dom_classes": [],
      "_model_module": "@jupyter-widgets/controls",
      "_model_module_version": "1.5.0",
      "_model_name": "HTMLModel",
      "_view_count": null,
      "_view_module": "@jupyter-widgets/controls",
      "_view_module_version": "1.5.0",
      "_view_name": "HTMLView",
      "description": "",
      "description_tooltip": null,
      "layout": "IPY_MODEL_11634bed5b1b44c18b61d5424051df43",
      "placeholder": "​",
      "style": "IPY_MODEL_df8b4fd7bcfd41eb912be0ee9011d9ea",
      "value": " 20000/20000 [00:16&lt;00:00, 1212.11Records/s]"
     }
    },
    "6297005e37de4b77a65730c5f6eb1039": {
     "model_module": "@jupyter-widgets/base",
     "model_name": "LayoutModel",
     "model_module_version": "1.2.0",
     "state": {
      "_model_module": "@jupyter-widgets/base",
      "_model_module_version": "1.2.0",
      "_model_name": "LayoutModel",
      "_view_count": null,
      "_view_module": "@jupyter-widgets/base",
      "_view_module_version": "1.2.0",
      "_view_name": "LayoutView",
      "align_content": null,
      "align_items": null,
      "align_self": null,
      "border": null,
      "bottom": null,
      "display": null,
      "flex": null,
      "flex_flow": null,
      "grid_area": null,
      "grid_auto_columns": null,
      "grid_auto_flow": null,
      "grid_auto_rows": null,
      "grid_column": null,
      "grid_gap": null,
      "grid_row": null,
      "grid_template_areas": null,
      "grid_template_columns": null,
      "grid_template_rows": null,
      "height": null,
      "justify_content": null,
      "justify_items": null,
      "left": null,
      "margin": null,
      "max_height": null,
      "max_width": null,
      "min_height": null,
      "min_width": null,
      "object_fit": null,
      "object_position": null,
      "order": null,
      "overflow": null,
      "overflow_x": null,
      "overflow_y": null,
      "padding": null,
      "right": null,
      "top": null,
      "visibility": null,
      "width": null
     }
    },
    "2e01b56b26bb4092bb37a5aed4f49778": {
     "model_module": "@jupyter-widgets/base",
     "model_name": "LayoutModel",
     "model_module_version": "1.2.0",
     "state": {
      "_model_module": "@jupyter-widgets/base",
      "_model_module_version": "1.2.0",
      "_model_name": "LayoutModel",
      "_view_count": null,
      "_view_module": "@jupyter-widgets/base",
      "_view_module_version": "1.2.0",
      "_view_name": "LayoutView",
      "align_content": null,
      "align_items": null,
      "align_self": null,
      "border": null,
      "bottom": null,
      "display": null,
      "flex": null,
      "flex_flow": null,
      "grid_area": null,
      "grid_auto_columns": null,
      "grid_auto_flow": null,
      "grid_auto_rows": null,
      "grid_column": null,
      "grid_gap": null,
      "grid_row": null,
      "grid_template_areas": null,
      "grid_template_columns": null,
      "grid_template_rows": null,
      "height": null,
      "justify_content": null,
      "justify_items": null,
      "left": null,
      "margin": null,
      "max_height": null,
      "max_width": null,
      "min_height": null,
      "min_width": null,
      "object_fit": null,
      "object_position": null,
      "order": null,
      "overflow": null,
      "overflow_x": null,
      "overflow_y": null,
      "padding": null,
      "right": null,
      "top": null,
      "visibility": null,
      "width": null
     }
    },
    "f35d13ff9d674ccc96740a60a8e5a340": {
     "model_module": "@jupyter-widgets/controls",
     "model_name": "DescriptionStyleModel",
     "model_module_version": "1.5.0",
     "state": {
      "_model_module": "@jupyter-widgets/controls",
      "_model_module_version": "1.5.0",
      "_model_name": "DescriptionStyleModel",
      "_view_count": null,
      "_view_module": "@jupyter-widgets/base",
      "_view_module_version": "1.2.0",
      "_view_name": "StyleView",
      "description_width": ""
     }
    },
    "ca57b13ac30b4fc5a2b3597fd41cc176": {
     "model_module": "@jupyter-widgets/base",
     "model_name": "LayoutModel",
     "model_module_version": "1.2.0",
     "state": {
      "_model_module": "@jupyter-widgets/base",
      "_model_module_version": "1.2.0",
      "_model_name": "LayoutModel",
      "_view_count": null,
      "_view_module": "@jupyter-widgets/base",
      "_view_module_version": "1.2.0",
      "_view_name": "LayoutView",
      "align_content": null,
      "align_items": null,
      "align_self": null,
      "border": null,
      "bottom": null,
      "display": null,
      "flex": null,
      "flex_flow": null,
      "grid_area": null,
      "grid_auto_columns": null,
      "grid_auto_flow": null,
      "grid_auto_rows": null,
      "grid_column": null,
      "grid_gap": null,
      "grid_row": null,
      "grid_template_areas": null,
      "grid_template_columns": null,
      "grid_template_rows": null,
      "height": null,
      "justify_content": null,
      "justify_items": null,
      "left": null,
      "margin": null,
      "max_height": null,
      "max_width": null,
      "min_height": null,
      "min_width": null,
      "object_fit": null,
      "object_position": null,
      "order": null,
      "overflow": null,
      "overflow_x": null,
      "overflow_y": null,
      "padding": null,
      "right": null,
      "top": null,
      "visibility": null,
      "width": null
     }
    },
    "bd884c167c104b4f90cef6100de947d0": {
     "model_module": "@jupyter-widgets/controls",
     "model_name": "ProgressStyleModel",
     "model_module_version": "1.5.0",
     "state": {
      "_model_module": "@jupyter-widgets/controls",
      "_model_module_version": "1.5.0",
      "_model_name": "ProgressStyleModel",
      "_view_count": null,
      "_view_module": "@jupyter-widgets/base",
      "_view_module_version": "1.2.0",
      "_view_name": "StyleView",
      "bar_color": null,
      "description_width": ""
     }
    },
    "11634bed5b1b44c18b61d5424051df43": {
     "model_module": "@jupyter-widgets/base",
     "model_name": "LayoutModel",
     "model_module_version": "1.2.0",
     "state": {
      "_model_module": "@jupyter-widgets/base",
      "_model_module_version": "1.2.0",
      "_model_name": "LayoutModel",
      "_view_count": null,
      "_view_module": "@jupyter-widgets/base",
      "_view_module_version": "1.2.0",
      "_view_name": "LayoutView",
      "align_content": null,
      "align_items": null,
      "align_self": null,
      "border": null,
      "bottom": null,
      "display": null,
      "flex": null,
      "flex_flow": null,
      "grid_area": null,
      "grid_auto_columns": null,
      "grid_auto_flow": null,
      "grid_auto_rows": null,
      "grid_column": null,
      "grid_gap": null,
      "grid_row": null,
      "grid_template_areas": null,
      "grid_template_columns": null,
      "grid_template_rows": null,
      "height": null,
      "justify_content": null,
      "justify_items": null,
      "left": null,
      "margin": null,
      "max_height": null,
      "max_width": null,
      "min_height": null,
      "min_width": null,
      "object_fit": null,
      "object_position": null,
      "order": null,
      "overflow": null,
      "overflow_x": null,
      "overflow_y": null,
      "padding": null,
      "right": null,
      "top": null,
      "visibility": null,
      "width": null
     }
    },
    "df8b4fd7bcfd41eb912be0ee9011d9ea": {
     "model_module": "@jupyter-widgets/controls",
     "model_name": "DescriptionStyleModel",
     "model_module_version": "1.5.0",
     "state": {
      "_model_module": "@jupyter-widgets/controls",
      "_model_module_version": "1.5.0",
      "_model_name": "DescriptionStyleModel",
      "_view_count": null,
      "_view_module": "@jupyter-widgets/base",
      "_view_module_version": "1.2.0",
      "_view_name": "StyleView",
      "description_width": ""
     }
    }
   }
  }
 },
 "nbformat": 4,
 "nbformat_minor": 5
}
