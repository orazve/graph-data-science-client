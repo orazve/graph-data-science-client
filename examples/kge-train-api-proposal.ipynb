{
 "cells": [
  {
   "cell_type": "code",
   "execution_count": null,
   "id": "ba527374fae24637",
   "metadata": {},
   "outputs": [],
   "source": [
    "%pip install graphdatascience torch torch_geometric"
   ]
  },
  {
   "cell_type": "code",
   "execution_count": null,
   "id": "e3ff3bfe67cf1725",
   "metadata": {},
   "outputs": [],
   "source": [
    "from graphdatascience import GraphDataScience"
   ]
  },
  {
   "cell_type": "code",
   "execution_count": null,
   "id": "12988a336432c7fb",
   "metadata": {},
   "outputs": [],
   "source": [
    "gds = GraphDataScience(\"bolt://localhost:7687\", auth=\"neo4j\", database=\"kjhsgdfk\")"
   ]
  },
  {
   "cell_type": "code",
   "execution_count": null,
   "id": "b7e8b9d3441e5675",
   "metadata": {},
   "outputs": [],
   "source": [
    "import pykeen\n",
    "import torch\n",
    "from pykeen.pipeline import pipeline\n",
    "\n",
    "result = pipeline(\n",
    "    model=\"TransE\",\n",
    "    dataset=\"Nations\",\n",
    "    optimizer=torch.optim.Adam,\n",
    "    optimizer_kwargs={\"lr\": 0.01, \"weight_decay\": 5e-4},\n",
    "    loss=pykeen.losses.SoftMarginRankingLoss(margin=1.0, reduction=\"mean\"),\n",
    ")"
   ]
  },
  {
   "cell_type": "code",
   "execution_count": null,
   "id": "de61cf5384a18fa5",
   "metadata": {},
   "outputs": [],
   "source": [
    "%%script echo skipping\n",
    "result = pipeline(model='TransE',\n",
    "                  dataset='Nations',\n",
    "                  optimizer=torch.optim.Adam(lr=0.01), # ERROR: params not set\n",
    "                  )\n",
    "\n",
    "result = pipeline(model='TransE',\n",
    "                  dataset='Nations',\n",
    "                  optimizer=torch.optim.Adam(params=[], lr=0.01), # ERROR: optimizer got an empty parameter list\n",
    "                  )"
   ]
  },
  {
   "cell_type": "code",
   "execution_count": null,
   "id": "9ac5907b6868ec5c",
   "metadata": {},
   "outputs": [],
   "source": [
    "G = gds.graph.load_fb15k237()\n",
    "G_train, G_test, G_val = gds.graph.rel_split(proportions=[0.8, 0.1, 0.1])\n",
    "\n",
    "model = gds.model.transe.create(\n",
    "    dim=50,\n",
    "    num_nodes=G.node_count(),\n",
    "    num_relationship_types=G.rel_type_count(),\n",
    "    loss=\n",
    ")\n",
    "\n",
    "optimizer = torch.optim.Adam(model.parameters(), lr=0.01, weight_decay=5e-4)\n",
    "\n",
    "transe_model = gds.model.transe.train(G_train,\n",
    "    dim = 50,\n",
    "    val_data=G_val, \n",
    "    batch_size=512, \n",
    "    epochs=100, \n",
    "    optimizer=optimizer, \n",
    "    loss=loss\n",
    ")\n"
   ]
  }
 ],
 "metadata": {
  "language_info": {
   "name": "python"
  }
 },
 "nbformat": 4,
 "nbformat_minor": 5
}
