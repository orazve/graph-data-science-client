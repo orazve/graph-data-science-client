{
 "cells": [
  {
   "cell_type": "code",
   "execution_count": 1,
   "outputs": [
    {
     "name": "stdout",
     "output_type": "stream",
     "text": [
      "Requirement already satisfied: graphdatascience in /Users/olgarazvenskaia/work/src-olga-fork/graph-data-science-client (1.8a1)\r\n",
      "Requirement already satisfied: torch in /Users/olgarazvenskaia/graph-data-science-client/lib/python3.10/site-packages (2.0.1)\r\n",
      "Requirement already satisfied: torch_geometric in /Users/olgarazvenskaia/graph-data-science-client/lib/python3.10/site-packages (2.4.0)\r\n",
      "Requirement already satisfied: multimethod<2.0,>=1.0 in /Users/olgarazvenskaia/graph-data-science-client/lib/python3.10/site-packages (from graphdatascience) (1.10)\r\n",
      "Requirement already satisfied: neo4j<6.0,>=4.4.2 in /Users/olgarazvenskaia/graph-data-science-client/lib/python3.10/site-packages (from graphdatascience) (5.13.0)\r\n",
      "Requirement already satisfied: pandas<3.0,>=1.0 in /Users/olgarazvenskaia/graph-data-science-client/lib/python3.10/site-packages (from graphdatascience) (2.1.1)\r\n",
      "Requirement already satisfied: pyarrow<14.0,>=4.0 in /Users/olgarazvenskaia/graph-data-science-client/lib/python3.10/site-packages (from graphdatascience) (13.0.0)\r\n",
      "Requirement already satisfied: textdistance<5.0,>=4.0 in /Users/olgarazvenskaia/graph-data-science-client/lib/python3.10/site-packages (from graphdatascience) (4.6.0)\r\n",
      "Requirement already satisfied: tqdm<5.0,>=4.0 in /Users/olgarazvenskaia/graph-data-science-client/lib/python3.10/site-packages (from graphdatascience) (4.66.1)\r\n",
      "Requirement already satisfied: typing-extensions<5.0,>=4.0 in /Users/olgarazvenskaia/graph-data-science-client/lib/python3.10/site-packages (from graphdatascience) (4.8.0)\r\n",
      "Requirement already satisfied: filelock in /Users/olgarazvenskaia/graph-data-science-client/lib/python3.10/site-packages (from torch) (3.12.4)\r\n",
      "Requirement already satisfied: sympy in /Users/olgarazvenskaia/graph-data-science-client/lib/python3.10/site-packages (from torch) (1.12)\r\n",
      "Requirement already satisfied: networkx in /Users/olgarazvenskaia/graph-data-science-client/lib/python3.10/site-packages (from torch) (3.1)\r\n",
      "Requirement already satisfied: jinja2 in /Users/olgarazvenskaia/graph-data-science-client/lib/python3.10/site-packages (from torch) (3.1.2)\r\n",
      "Requirement already satisfied: numpy in /Users/olgarazvenskaia/graph-data-science-client/lib/python3.10/site-packages (from torch_geometric) (1.26.0)\r\n",
      "Requirement already satisfied: scipy in /Users/olgarazvenskaia/graph-data-science-client/lib/python3.10/site-packages (from torch_geometric) (1.11.3)\r\n",
      "Requirement already satisfied: requests in /Users/olgarazvenskaia/graph-data-science-client/lib/python3.10/site-packages (from torch_geometric) (2.31.0)\r\n",
      "Requirement already satisfied: pyparsing in /Users/olgarazvenskaia/graph-data-science-client/lib/python3.10/site-packages (from torch_geometric) (3.1.1)\r\n",
      "Requirement already satisfied: scikit-learn in /Users/olgarazvenskaia/graph-data-science-client/lib/python3.10/site-packages (from torch_geometric) (1.3.1)\r\n",
      "Requirement already satisfied: psutil>=5.8.0 in /Users/olgarazvenskaia/graph-data-science-client/lib/python3.10/site-packages (from torch_geometric) (5.9.5)\r\n",
      "Requirement already satisfied: pytz in /Users/olgarazvenskaia/graph-data-science-client/lib/python3.10/site-packages (from neo4j<6.0,>=4.4.2->graphdatascience) (2023.3.post1)\r\n",
      "Requirement already satisfied: python-dateutil>=2.8.2 in /Users/olgarazvenskaia/graph-data-science-client/lib/python3.10/site-packages (from pandas<3.0,>=1.0->graphdatascience) (2.8.2)\r\n",
      "Requirement already satisfied: tzdata>=2022.1 in /Users/olgarazvenskaia/graph-data-science-client/lib/python3.10/site-packages (from pandas<3.0,>=1.0->graphdatascience) (2023.3)\r\n",
      "Requirement already satisfied: MarkupSafe>=2.0 in /Users/olgarazvenskaia/graph-data-science-client/lib/python3.10/site-packages (from jinja2->torch) (2.1.3)\r\n",
      "Requirement already satisfied: charset-normalizer<4,>=2 in /Users/olgarazvenskaia/graph-data-science-client/lib/python3.10/site-packages (from requests->torch_geometric) (3.2.0)\r\n",
      "Requirement already satisfied: idna<4,>=2.5 in /Users/olgarazvenskaia/graph-data-science-client/lib/python3.10/site-packages (from requests->torch_geometric) (3.4)\r\n",
      "Requirement already satisfied: urllib3<3,>=1.21.1 in /Users/olgarazvenskaia/graph-data-science-client/lib/python3.10/site-packages (from requests->torch_geometric) (2.0.5)\r\n",
      "Requirement already satisfied: certifi>=2017.4.17 in /Users/olgarazvenskaia/graph-data-science-client/lib/python3.10/site-packages (from requests->torch_geometric) (2023.7.22)\r\n",
      "Requirement already satisfied: joblib>=1.1.1 in /Users/olgarazvenskaia/graph-data-science-client/lib/python3.10/site-packages (from scikit-learn->torch_geometric) (1.3.2)\r\n",
      "Requirement already satisfied: threadpoolctl>=2.0.0 in /Users/olgarazvenskaia/graph-data-science-client/lib/python3.10/site-packages (from scikit-learn->torch_geometric) (3.2.0)\r\n",
      "Requirement already satisfied: mpmath>=0.19 in /Users/olgarazvenskaia/graph-data-science-client/lib/python3.10/site-packages (from sympy->torch) (1.3.0)\r\n",
      "Requirement already satisfied: six>=1.5 in /Users/olgarazvenskaia/graph-data-science-client/lib/python3.10/site-packages (from python-dateutil>=2.8.2->pandas<3.0,>=1.0->graphdatascience) (1.16.0)\r\n",
      "\r\n",
      "\u001B[1m[\u001B[0m\u001B[34;49mnotice\u001B[0m\u001B[1;39;49m]\u001B[0m\u001B[39;49m A new release of pip is available: \u001B[0m\u001B[31;49m23.2.1\u001B[0m\u001B[39;49m -> \u001B[0m\u001B[32;49m23.3.1\u001B[0m\r\n",
      "\u001B[1m[\u001B[0m\u001B[34;49mnotice\u001B[0m\u001B[1;39;49m]\u001B[0m\u001B[39;49m To update, run: \u001B[0m\u001B[32;49mpip install --upgrade pip\u001B[0m\r\n",
      "Note: you may need to restart the kernel to use updated packages.\n"
     ]
    }
   ],
   "source": [
    "%pip install graphdatascience torch torch_geometric"
   ],
   "metadata": {
    "collapsed": false,
    "ExecuteTime": {
     "end_time": "2023-11-27T21:51:33.445664Z",
     "start_time": "2023-11-27T21:51:32.266123Z"
    }
   },
   "id": "ba527374fae24637"
  },
  {
   "cell_type": "code",
   "execution_count": null,
   "outputs": [],
   "source": [
    "from graphdatascience import GraphDataScience"
   ],
   "metadata": {
    "collapsed": false
   },
   "id": "e3ff3bfe67cf1725"
  },
  {
   "cell_type": "code",
   "execution_count": null,
   "outputs": [],
   "source": [
    "gds = GraphDataScience(\"bolt://localhost:7687\", auth='neo4j', database='kjhsgdfk')"
   ],
   "metadata": {
    "collapsed": false
   },
   "id": "12988a336432c7fb"
  },
  {
   "cell_type": "code",
   "execution_count": 10,
   "outputs": [
    {
     "name": "stderr",
     "output_type": "stream",
     "text": [
      "WARNING:pykeen.pipeline.api:No random seed is specified. Setting to 3672342504.\n",
      "INFO:pykeen.datasets.utils:Loading cached preprocessed dataset from file:///Users/olgarazvenskaia/.data/pykeen/datasets/nations/cache/47DEQpj8HBSa-_TImW-5JCeuQeRkm5NM\n",
      "INFO:pykeen.triples.triples_factory:Loading from file:///Users/olgarazvenskaia/.data/pykeen/datasets/nations/cache/47DEQpj8HBSa-_TImW-5JCeuQeRkm5NM/training\n",
      "INFO:pykeen.triples.triples_factory:Loading from file:///Users/olgarazvenskaia/.data/pykeen/datasets/nations/cache/47DEQpj8HBSa-_TImW-5JCeuQeRkm5NM/testing\n",
      "INFO:pykeen.triples.triples_factory:Loading from file:///Users/olgarazvenskaia/.data/pykeen/datasets/nations/cache/47DEQpj8HBSa-_TImW-5JCeuQeRkm5NM/validation\n",
      "WARNING:pykeen.utils:No cuda devices were available. The model runs on CPU\n",
      "INFO:pykeen.pipeline.api:Using device: None\n"
     ]
    },
    {
     "data": {
      "text/plain": "Training epochs on cpu:   0%|          | 0/5 [00:00<?, ?epoch/s]",
      "application/vnd.jupyter.widget-view+json": {
       "version_major": 2,
       "version_minor": 0,
       "model_id": "48872b4906624feba4832d390fc42ca6"
      }
     },
     "metadata": {},
     "output_type": "display_data"
    },
    {
     "data": {
      "text/plain": "Training batches on cpu:   0%|          | 0/7 [00:00<?, ?batch/s]",
      "application/vnd.jupyter.widget-view+json": {
       "version_major": 2,
       "version_minor": 0,
       "model_id": "59f12c0ed16b42b9a83ca5c649685060"
      }
     },
     "metadata": {},
     "output_type": "display_data"
    },
    {
     "data": {
      "text/plain": "Training batches on cpu:   0%|          | 0/7 [00:00<?, ?batch/s]",
      "application/vnd.jupyter.widget-view+json": {
       "version_major": 2,
       "version_minor": 0,
       "model_id": "8c9517ab2b574364ad3d4966ea77f97b"
      }
     },
     "metadata": {},
     "output_type": "display_data"
    },
    {
     "data": {
      "text/plain": "Training batches on cpu:   0%|          | 0/7 [00:00<?, ?batch/s]",
      "application/vnd.jupyter.widget-view+json": {
       "version_major": 2,
       "version_minor": 0,
       "model_id": "6c9f3c3471534d33b887e237bbe5406a"
      }
     },
     "metadata": {},
     "output_type": "display_data"
    },
    {
     "data": {
      "text/plain": "Training batches on cpu:   0%|          | 0/7 [00:00<?, ?batch/s]",
      "application/vnd.jupyter.widget-view+json": {
       "version_major": 2,
       "version_minor": 0,
       "model_id": "430afad440794bc5a5f518414e8a2df2"
      }
     },
     "metadata": {},
     "output_type": "display_data"
    },
    {
     "data": {
      "text/plain": "Training batches on cpu:   0%|          | 0/7 [00:00<?, ?batch/s]",
      "application/vnd.jupyter.widget-view+json": {
       "version_major": 2,
       "version_minor": 0,
       "model_id": "3d9ed82d8bfe4312a209ed9870ab1a94"
      }
     },
     "metadata": {},
     "output_type": "display_data"
    },
    {
     "name": "stderr",
     "output_type": "stream",
     "text": [
      "INFO:pykeen.evaluation.evaluator:Currently automatic memory optimization only supports GPUs, but you're using a CPU. Therefore, the batch_size will be set to the default value.\n",
      "INFO:pykeen.evaluation.evaluator:No evaluation batch_size provided. Setting batch_size to '32'.\n"
     ]
    },
    {
     "data": {
      "text/plain": "Evaluating on cpu:   0%|          | 0.00/201 [00:00<?, ?triple/s]",
      "application/vnd.jupyter.widget-view+json": {
       "version_major": 2,
       "version_minor": 0,
       "model_id": "a4fe8c712ebc408ba9b7baa2f32a1810"
      }
     },
     "metadata": {},
     "output_type": "display_data"
    },
    {
     "name": "stderr",
     "output_type": "stream",
     "text": [
      "INFO:pykeen.evaluation.evaluator:Evaluation took 0.03s seconds\n"
     ]
    }
   ],
   "source": [
    "import torch\n",
    "from pykeen.pipeline import pipeline\n",
    "result = pipeline(model='TransE',\n",
    "                  dataset='Nations',\n",
    "                  optimizer=torch.optim.Adam,\n",
    "                  optimizer_kwargs={'lr':0.01, 'weight_decay':5e-4}\n",
    "                  )"
   ],
   "metadata": {
    "collapsed": false,
    "ExecuteTime": {
     "end_time": "2023-11-27T23:24:51.360522Z",
     "start_time": "2023-11-27T23:24:50.851010Z"
    }
   },
   "id": "b7e8b9d3441e5675"
  },
  {
   "cell_type": "code",
   "execution_count": 13,
   "outputs": [
    {
     "ename": "TypeError",
     "evalue": "create_subprocess_exec() missing 1 required positional argument: 'program'",
     "output_type": "error",
     "traceback": [
      "\u001B[0;31m---------------------------------------------------------------------------\u001B[0m",
      "\u001B[0;31mTypeError\u001B[0m                                 Traceback (most recent call last)",
      "Cell \u001B[0;32mIn[13], line 1\u001B[0m\n\u001B[0;32m----> 1\u001B[0m \u001B[43mget_ipython\u001B[49m\u001B[43m(\u001B[49m\u001B[43m)\u001B[49m\u001B[38;5;241;43m.\u001B[39;49m\u001B[43mrun_cell_magic\u001B[49m\u001B[43m(\u001B[49m\u001B[38;5;124;43m'\u001B[39;49m\u001B[38;5;124;43mscript\u001B[39;49m\u001B[38;5;124;43m'\u001B[39;49m\u001B[43m,\u001B[49m\u001B[43m \u001B[49m\u001B[38;5;124;43m'\u001B[39;49m\u001B[38;5;124;43m'\u001B[39;49m\u001B[43m,\u001B[49m\u001B[43m \u001B[49m\u001B[38;5;124;43m\"\u001B[39;49m\u001B[38;5;124;43mresult = pipeline(model=\u001B[39;49m\u001B[38;5;124;43m'\u001B[39;49m\u001B[38;5;124;43mTransE\u001B[39;49m\u001B[38;5;124;43m'\u001B[39;49m\u001B[38;5;124;43m,\u001B[39;49m\u001B[38;5;130;43;01m\\n\u001B[39;49;00m\u001B[38;5;124;43m                  dataset=\u001B[39;49m\u001B[38;5;124;43m'\u001B[39;49m\u001B[38;5;124;43mNations\u001B[39;49m\u001B[38;5;124;43m'\u001B[39;49m\u001B[38;5;124;43m,\u001B[39;49m\u001B[38;5;130;43;01m\\n\u001B[39;49;00m\u001B[38;5;124;43m                  optimizer=torch.optim.Adam(lr=0.01), # ERROR: params not set\u001B[39;49m\u001B[38;5;130;43;01m\\n\u001B[39;49;00m\u001B[38;5;124;43m                  )\u001B[39;49m\u001B[38;5;130;43;01m\\n\u001B[39;49;00m\u001B[38;5;130;43;01m\\n\u001B[39;49;00m\u001B[38;5;124;43mresult = pipeline(model=\u001B[39;49m\u001B[38;5;124;43m'\u001B[39;49m\u001B[38;5;124;43mTransE\u001B[39;49m\u001B[38;5;124;43m'\u001B[39;49m\u001B[38;5;124;43m,\u001B[39;49m\u001B[38;5;130;43;01m\\n\u001B[39;49;00m\u001B[38;5;124;43m                  dataset=\u001B[39;49m\u001B[38;5;124;43m'\u001B[39;49m\u001B[38;5;124;43mNations\u001B[39;49m\u001B[38;5;124;43m'\u001B[39;49m\u001B[38;5;124;43m,\u001B[39;49m\u001B[38;5;130;43;01m\\n\u001B[39;49;00m\u001B[38;5;124;43m                  optimizer=torch.optim.Adam(params=[], lr=0.01), # ERROR: optimizer got an empty parameter list\u001B[39;49m\u001B[38;5;130;43;01m\\n\u001B[39;49;00m\u001B[38;5;124;43m                  )\u001B[39;49m\u001B[38;5;130;43;01m\\n\u001B[39;49;00m\u001B[38;5;124;43m\"\u001B[39;49m\u001B[43m)\u001B[49m\n",
      "File \u001B[0;32m~/graph-data-science-client/lib/python3.10/site-packages/IPython/core/interactiveshell.py:2493\u001B[0m, in \u001B[0;36mInteractiveShell.run_cell_magic\u001B[0;34m(self, magic_name, line, cell)\u001B[0m\n\u001B[1;32m   2491\u001B[0m \u001B[38;5;28;01mwith\u001B[39;00m \u001B[38;5;28mself\u001B[39m\u001B[38;5;241m.\u001B[39mbuiltin_trap:\n\u001B[1;32m   2492\u001B[0m     args \u001B[38;5;241m=\u001B[39m (magic_arg_s, cell)\n\u001B[0;32m-> 2493\u001B[0m     result \u001B[38;5;241m=\u001B[39m \u001B[43mfn\u001B[49m\u001B[43m(\u001B[49m\u001B[38;5;241;43m*\u001B[39;49m\u001B[43margs\u001B[49m\u001B[43m,\u001B[49m\u001B[43m \u001B[49m\u001B[38;5;241;43m*\u001B[39;49m\u001B[38;5;241;43m*\u001B[39;49m\u001B[43mkwargs\u001B[49m\u001B[43m)\u001B[49m\n\u001B[1;32m   2495\u001B[0m \u001B[38;5;66;03m# The code below prevents the output from being displayed\u001B[39;00m\n\u001B[1;32m   2496\u001B[0m \u001B[38;5;66;03m# when using magics with decorator @output_can_be_silenced\u001B[39;00m\n\u001B[1;32m   2497\u001B[0m \u001B[38;5;66;03m# when the last Python token in the expression is a ';'.\u001B[39;00m\n\u001B[1;32m   2498\u001B[0m \u001B[38;5;28;01mif\u001B[39;00m \u001B[38;5;28mgetattr\u001B[39m(fn, magic\u001B[38;5;241m.\u001B[39mMAGIC_OUTPUT_CAN_BE_SILENCED, \u001B[38;5;28;01mFalse\u001B[39;00m):\n",
      "File \u001B[0;32m~/graph-data-science-client/lib/python3.10/site-packages/IPython/core/magics/script.py:248\u001B[0m, in \u001B[0;36mScriptMagics.shebang\u001B[0;34m(self, line, cell)\u001B[0m\n\u001B[1;32m    244\u001B[0m args, cmd \u001B[38;5;241m=\u001B[39m \u001B[38;5;28mself\u001B[39m\u001B[38;5;241m.\u001B[39mshebang\u001B[38;5;241m.\u001B[39mparser\u001B[38;5;241m.\u001B[39mparse_known_args(argv)\n\u001B[1;32m    246\u001B[0m \u001B[38;5;28;01mtry\u001B[39;00m:\n\u001B[1;32m    247\u001B[0m     p \u001B[38;5;241m=\u001B[39m in_thread(\n\u001B[0;32m--> 248\u001B[0m         \u001B[43masyncio\u001B[49m\u001B[38;5;241;43m.\u001B[39;49m\u001B[43mcreate_subprocess_exec\u001B[49m\u001B[43m(\u001B[49m\n\u001B[1;32m    249\u001B[0m \u001B[43m            \u001B[49m\u001B[38;5;241;43m*\u001B[39;49m\u001B[43mcmd\u001B[49m\u001B[43m,\u001B[49m\n\u001B[1;32m    250\u001B[0m \u001B[43m            \u001B[49m\u001B[43mstdout\u001B[49m\u001B[38;5;241;43m=\u001B[39;49m\u001B[43masyncio\u001B[49m\u001B[38;5;241;43m.\u001B[39;49m\u001B[43msubprocess\u001B[49m\u001B[38;5;241;43m.\u001B[39;49m\u001B[43mPIPE\u001B[49m\u001B[43m,\u001B[49m\n\u001B[1;32m    251\u001B[0m \u001B[43m            \u001B[49m\u001B[43mstderr\u001B[49m\u001B[38;5;241;43m=\u001B[39;49m\u001B[43masyncio\u001B[49m\u001B[38;5;241;43m.\u001B[39;49m\u001B[43msubprocess\u001B[49m\u001B[38;5;241;43m.\u001B[39;49m\u001B[43mPIPE\u001B[49m\u001B[43m,\u001B[49m\n\u001B[1;32m    252\u001B[0m \u001B[43m            \u001B[49m\u001B[43mstdin\u001B[49m\u001B[38;5;241;43m=\u001B[39;49m\u001B[43masyncio\u001B[49m\u001B[38;5;241;43m.\u001B[39;49m\u001B[43msubprocess\u001B[49m\u001B[38;5;241;43m.\u001B[39;49m\u001B[43mPIPE\u001B[49m\u001B[43m,\u001B[49m\n\u001B[1;32m    253\u001B[0m \u001B[43m        \u001B[49m\u001B[43m)\u001B[49m\n\u001B[1;32m    254\u001B[0m     )\n\u001B[1;32m    255\u001B[0m \u001B[38;5;28;01mexcept\u001B[39;00m \u001B[38;5;167;01mOSError\u001B[39;00m \u001B[38;5;28;01mas\u001B[39;00m e:\n\u001B[1;32m    256\u001B[0m     \u001B[38;5;28;01mif\u001B[39;00m e\u001B[38;5;241m.\u001B[39merrno \u001B[38;5;241m==\u001B[39m errno\u001B[38;5;241m.\u001B[39mENOENT:\n",
      "\u001B[0;31mTypeError\u001B[0m: create_subprocess_exec() missing 1 required positional argument: 'program'"
     ]
    }
   ],
   "source": [
    "%%script echo skipping\n",
    "result = pipeline(model='TransE',\n",
    "                  dataset='Nations',\n",
    "                  optimizer=torch.optim.Adam(lr=0.01), # ERROR: params not set\n",
    "                  )\n",
    "\n",
    "result = pipeline(model='TransE',\n",
    "                  dataset='Nations',\n",
    "                  optimizer=torch.optim.Adam(params=[], lr=0.01), # ERROR: optimizer got an empty parameter list\n",
    "                  )"
   ],
   "metadata": {
    "collapsed": false,
    "ExecuteTime": {
     "end_time": "2023-11-27T23:26:08.507296Z",
     "start_time": "2023-11-27T23:26:08.416485Z"
    }
   },
   "id": "de61cf5384a18fa5"
  },
  {
   "cell_type": "code",
   "execution_count": null,
   "outputs": [],
   "source": [
    "G = gds.graph.load_fb15k237()\n",
    "G_train, G_test, G_val = gds.graph.rel_split(proportions=[0.8, 0.1, 0.1])\n",
    "\n",
    "model = gds.model.transe.create(\n",
    "    dim=50,\n",
    "    num_nodes=G.node_count(),\n",
    "    num_relationship_types=G.rel_type_count(),\n",
    "    loss=\n",
    ")\n",
    "\n",
    "optimizer = torch.optim.Adam(model.parameters(), lr=0.01, weight_decay=5e-4)\n",
    "\n",
    "transe_model = gds.model.transe.train(G_train,\n",
    "    dim = 50,\n",
    "    val_data=G_val, \n",
    "    batch_size=512, \n",
    "    epochs=100, \n",
    "    optimizer=optimizer, \n",
    "    loss=loss\n",
    ")\n"
   ],
   "metadata": {
    "collapsed": false
   },
   "id": "9ac5907b6868ec5c"
  }
 ],
 "metadata": {
  "kernelspec": {
   "display_name": "Python 3",
   "language": "python",
   "name": "python3"
  },
  "language_info": {
   "codemirror_mode": {
    "name": "ipython",
    "version": 2
   },
   "file_extension": ".py",
   "mimetype": "text/x-python",
   "name": "python",
   "nbconvert_exporter": "python",
   "pygments_lexer": "ipython2",
   "version": "2.7.6"
  }
 },
 "nbformat": 4,
 "nbformat_minor": 5
}
