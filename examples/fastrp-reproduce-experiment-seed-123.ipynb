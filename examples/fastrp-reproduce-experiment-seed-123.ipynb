{
 "cells": [
  {
   "cell_type": "markdown",
   "id": "8ab83e70-63fe-452c-8782-f093834ad248",
   "metadata": {
    "id": "8ab83e70-63fe-452c-8782-f093834ad248"
   },
   "source": [
    "# Layered Embeddings"
   ]
  },
  {
   "cell_type": "markdown",
   "source": [
    "## Initialise"
   ],
   "metadata": {
    "id": "AKIqm-KNwU4S"
   },
   "id": "AKIqm-KNwU4S"
  },
  {
   "cell_type": "code",
   "execution_count": 1,
   "id": "dRm9QfTWdk8F",
   "metadata": {
    "id": "dRm9QfTWdk8F",
    "colab": {
     "base_uri": "https://localhost:8080/"
    },
    "executionInfo": {
     "status": "ok",
     "timestamp": 1719573362444,
     "user_tz": -60,
     "elapsed": 5348,
     "user": {
      "displayName": "Stuart Green",
      "userId": "06684144979108576535"
     }
    },
    "outputId": "3532f6db-6cf2-4853-d366-490bc2ff55c6",
    "ExecuteTime": {
     "end_time": "2024-09-06T10:25:34.372022Z",
     "start_time": "2024-09-06T10:25:33.047846Z"
    }
   },
   "outputs": [
    {
     "name": "stdout",
     "output_type": "stream",
     "text": [
      "Requirement already satisfied: graphdatascience in /Users/olgarazvenskaia/work/src/graph-data-science-client (1.11a5)\r\n",
      "Requirement already satisfied: python-dotenv in /Users/olgarazvenskaia/.env/fastrp-repr/lib/python3.11/site-packages (1.0.1)\r\n",
      "Requirement already satisfied: umap-learn in /Users/olgarazvenskaia/.env/fastrp-repr/lib/python3.11/site-packages (0.5.6)\r\n",
      "Requirement already satisfied: scikit-learn==1.4.2 in /Users/olgarazvenskaia/.env/fastrp-repr/lib/python3.11/site-packages (1.4.2)\r\n",
      "Requirement already satisfied: matplotlib in /Users/olgarazvenskaia/.env/fastrp-repr/lib/python3.11/site-packages (3.9.2)\r\n",
      "Requirement already satisfied: seaborn in /Users/olgarazvenskaia/.env/fastrp-repr/lib/python3.11/site-packages (0.13.2)\r\n",
      "Requirement already satisfied: numpy>=1.19.5 in /Users/olgarazvenskaia/.env/fastrp-repr/lib/python3.11/site-packages (from scikit-learn==1.4.2) (1.26.4)\r\n",
      "Requirement already satisfied: scipy>=1.6.0 in /Users/olgarazvenskaia/.env/fastrp-repr/lib/python3.11/site-packages (from scikit-learn==1.4.2) (1.14.1)\r\n",
      "Requirement already satisfied: joblib>=1.2.0 in /Users/olgarazvenskaia/.env/fastrp-repr/lib/python3.11/site-packages (from scikit-learn==1.4.2) (1.4.2)\r\n",
      "Requirement already satisfied: threadpoolctl>=2.0.0 in /Users/olgarazvenskaia/.env/fastrp-repr/lib/python3.11/site-packages (from scikit-learn==1.4.2) (3.5.0)\r\n",
      "Requirement already satisfied: multimethod<2.0,>=1.0 in /Users/olgarazvenskaia/.env/fastrp-repr/lib/python3.11/site-packages (from graphdatascience) (1.12)\r\n",
      "Requirement already satisfied: neo4j<6.0,>=4.4.12 in /Users/olgarazvenskaia/.env/fastrp-repr/lib/python3.11/site-packages (from graphdatascience) (5.24.0)\r\n",
      "Requirement already satisfied: pandas<3.0,>=1.0 in /Users/olgarazvenskaia/.env/fastrp-repr/lib/python3.11/site-packages (from graphdatascience) (2.2.2)\r\n",
      "Requirement already satisfied: pyarrow<17.0,>=14.0.1 in /Users/olgarazvenskaia/.env/fastrp-repr/lib/python3.11/site-packages (from graphdatascience) (16.1.0)\r\n",
      "Requirement already satisfied: textdistance<5.0,>=4.0 in /Users/olgarazvenskaia/.env/fastrp-repr/lib/python3.11/site-packages (from graphdatascience) (4.6.3)\r\n",
      "Requirement already satisfied: tqdm<5.0,>=4.0 in /Users/olgarazvenskaia/.env/fastrp-repr/lib/python3.11/site-packages (from graphdatascience) (4.66.5)\r\n",
      "Requirement already satisfied: typing-extensions<5.0,>=4.0 in /Users/olgarazvenskaia/.env/fastrp-repr/lib/python3.11/site-packages (from graphdatascience) (4.12.2)\r\n",
      "Requirement already satisfied: requests in /Users/olgarazvenskaia/.env/fastrp-repr/lib/python3.11/site-packages (from graphdatascience) (2.32.3)\r\n",
      "Requirement already satisfied: rsa in /Users/olgarazvenskaia/.env/fastrp-repr/lib/python3.11/site-packages (from graphdatascience) (4.9)\r\n",
      "Requirement already satisfied: numba>=0.51.2 in /Users/olgarazvenskaia/.env/fastrp-repr/lib/python3.11/site-packages (from umap-learn) (0.60.0)\r\n",
      "Requirement already satisfied: pynndescent>=0.5 in /Users/olgarazvenskaia/.env/fastrp-repr/lib/python3.11/site-packages (from umap-learn) (0.5.13)\r\n",
      "Requirement already satisfied: contourpy>=1.0.1 in /Users/olgarazvenskaia/.env/fastrp-repr/lib/python3.11/site-packages (from matplotlib) (1.3.0)\r\n",
      "Requirement already satisfied: cycler>=0.10 in /Users/olgarazvenskaia/.env/fastrp-repr/lib/python3.11/site-packages (from matplotlib) (0.12.1)\r\n",
      "Requirement already satisfied: fonttools>=4.22.0 in /Users/olgarazvenskaia/.env/fastrp-repr/lib/python3.11/site-packages (from matplotlib) (4.53.1)\r\n",
      "Requirement already satisfied: kiwisolver>=1.3.1 in /Users/olgarazvenskaia/.env/fastrp-repr/lib/python3.11/site-packages (from matplotlib) (1.4.7)\r\n",
      "Requirement already satisfied: packaging>=20.0 in /Users/olgarazvenskaia/.env/fastrp-repr/lib/python3.11/site-packages (from matplotlib) (24.1)\r\n",
      "Requirement already satisfied: pillow>=8 in /Users/olgarazvenskaia/.env/fastrp-repr/lib/python3.11/site-packages (from matplotlib) (10.4.0)\r\n",
      "Requirement already satisfied: pyparsing>=2.3.1 in /Users/olgarazvenskaia/.env/fastrp-repr/lib/python3.11/site-packages (from matplotlib) (3.1.4)\r\n",
      "Requirement already satisfied: python-dateutil>=2.7 in /Users/olgarazvenskaia/.env/fastrp-repr/lib/python3.11/site-packages (from matplotlib) (2.9.0.post0)\r\n",
      "Requirement already satisfied: pytz in /Users/olgarazvenskaia/.env/fastrp-repr/lib/python3.11/site-packages (from neo4j<6.0,>=4.4.12->graphdatascience) (2024.1)\r\n",
      "Requirement already satisfied: llvmlite<0.44,>=0.43.0dev0 in /Users/olgarazvenskaia/.env/fastrp-repr/lib/python3.11/site-packages (from numba>=0.51.2->umap-learn) (0.43.0)\r\n",
      "Requirement already satisfied: tzdata>=2022.7 in /Users/olgarazvenskaia/.env/fastrp-repr/lib/python3.11/site-packages (from pandas<3.0,>=1.0->graphdatascience) (2024.1)\r\n",
      "Requirement already satisfied: six>=1.5 in /Users/olgarazvenskaia/.env/fastrp-repr/lib/python3.11/site-packages (from python-dateutil>=2.7->matplotlib) (1.16.0)\r\n",
      "Requirement already satisfied: charset-normalizer<4,>=2 in /Users/olgarazvenskaia/.env/fastrp-repr/lib/python3.11/site-packages (from requests->graphdatascience) (3.3.2)\r\n",
      "Requirement already satisfied: idna<4,>=2.5 in /Users/olgarazvenskaia/.env/fastrp-repr/lib/python3.11/site-packages (from requests->graphdatascience) (3.8)\r\n",
      "Requirement already satisfied: urllib3<3,>=1.21.1 in /Users/olgarazvenskaia/.env/fastrp-repr/lib/python3.11/site-packages (from requests->graphdatascience) (2.2.2)\r\n",
      "Requirement already satisfied: certifi>=2017.4.17 in /Users/olgarazvenskaia/.env/fastrp-repr/lib/python3.11/site-packages (from requests->graphdatascience) (2024.8.30)\r\n",
      "Requirement already satisfied: pyasn1>=0.1.3 in /Users/olgarazvenskaia/.env/fastrp-repr/lib/python3.11/site-packages (from rsa->graphdatascience) (0.6.0)\r\n",
      "\r\n",
      "\u001B[1m[\u001B[0m\u001B[34;49mnotice\u001B[0m\u001B[1;39;49m]\u001B[0m\u001B[39;49m A new release of pip is available: \u001B[0m\u001B[31;49m23.2.1\u001B[0m\u001B[39;49m -> \u001B[0m\u001B[32;49m24.2\u001B[0m\r\n",
      "\u001B[1m[\u001B[0m\u001B[34;49mnotice\u001B[0m\u001B[1;39;49m]\u001B[0m\u001B[39;49m To update, run: \u001B[0m\u001B[32;49mpip install --upgrade pip\u001B[0m\r\n"
     ]
    }
   ],
   "source": [
    "!pip install graphdatascience python-dotenv umap-learn scikit-learn==1.4.2 matplotlib seaborn"
   ]
  },
  {
   "cell_type": "code",
   "source": [
    "import pandas as pd\n",
    "import numpy as np\n",
    "from graphdatascience import GraphDataScience, Graph\n",
    "\n",
    "def drop_graph_if_exists(gds: GraphDataScience,\n",
    "                         projections: list):\n",
    "  \"\"\"Drop named GDS projections in list.\n",
    "\n",
    "  Args:\n",
    "    gds : GraphDataScience\n",
    "      Neo4j GDS session object\n",
    "    projections: list\n",
    "      List of projection names\n",
    "  \"\"\"\n",
    "  # Check for existence of each named projection\n",
    "  filtered_projections = list(filter(lambda x: x in projections, gds.graph.list()['graphName']))\n",
    "  # Drop projections\n",
    "  _ = list(map(lambda x: gds.graph.drop(gds.graph.get(x)), filtered_projections))\n",
    "\n",
    "\n",
    "def reduce_embedding(df: pd.DataFrame, algorithm, property_column='propertyValue', reduce_column='reduced'):\n",
    "  # Apply dimensionality reduction algorithm to embedding\n",
    "  transformed = algorithm.fit_transform(np.array(list(df[property_column])))\n",
    "\n",
    "  # Concatenate reduced transformation into Dataframe\n",
    "  dfX = pd.concat([df, pd.Series(list(transformed))], axis=1, ignore_index=True, join='outer')\n",
    "\n",
    "  # Name columns following concatenation\n",
    "  dfX = dfX.set_axis(list(df.columns) + [reduce_column], axis=1)\n",
    "  return dfX\n",
    "\n",
    "\n",
    "def cluster_embedding(df: pd.DataFrame, algorithm, property_column='propertyValue', cluster_column='cluster'):\n",
    "  # Apply clustering algorithm to embedding\n",
    "  algorithm.fit(np.array(list(df[property_column])))\n",
    "\n",
    "  # Concatenate cluster labels into Dataframe\n",
    "  dfX = pd.concat([df, pd.DataFrame(list(algorithm.labels_))], axis=1, ignore_index=True, join='outer')\n",
    "\n",
    "  # Name columns following concatenation\n",
    "  dfX = dfX.set_axis(list(df.columns) + [cluster_column], axis=1)\n",
    "  return dfX"
   ],
   "metadata": {
    "id": "v-kibWVe4yxa",
    "ExecuteTime": {
     "end_time": "2024-09-06T10:25:34.578618Z",
     "start_time": "2024-09-06T10:25:34.375232Z"
    }
   },
   "id": "v-kibWVe4yxa",
   "execution_count": 2,
   "outputs": []
  },
  {
   "cell_type": "code",
   "execution_count": 3,
   "id": "42125886-72ec-4245-b228-a1c79a327740",
   "metadata": {
    "id": "42125886-72ec-4245-b228-a1c79a327740",
    "colab": {
     "base_uri": "https://localhost:8080/"
    },
    "executionInfo": {
     "status": "ok",
     "timestamp": 1719573374798,
     "user_tz": -60,
     "elapsed": 12356,
     "user": {
      "displayName": "Stuart Green",
      "userId": "06684144979108576535"
     }
    },
    "outputId": "5eb2edee-acdc-45db-97f0-deed0f4dafb0",
    "ExecuteTime": {
     "end_time": "2024-09-06T10:25:36.726162Z",
     "start_time": "2024-09-06T10:25:34.580133Z"
    }
   },
   "outputs": [],
   "source": [
    "from sklearn.cluster import HDBSCAN\n",
    "import umap.umap_ as umap\n",
    "import time\n",
    "\n",
    "from dotenv import load_dotenv\n",
    "import os\n",
    "import random\n",
    "import pandas as pd\n",
    "pd.set_option('display.max_rows', 100)\n",
    "load_dotenv()\n",
    "\n",
    "NEO4J_URI = os.environ.get(\"NEO4J_URI\", \"bolt://localhost:7687\")\n",
    "NEO4J_AUTH = None\n",
    "NEO4J_DB = os.environ.get(\"NEO4J_DB\", \"neo4j\")\n",
    "if os.environ.get(\"NEO4J_USER\") and os.environ.get(\"NEO4J_PASSWORD\"):\n",
    "    NEO4J_AUTH = (\n",
    "        os.environ.get(\"NEO4J_USER\"),\n",
    "        os.environ.get(\"NEO4J_PASSWORD\"),\n",
    "    )\n",
    "\n",
    "from neo4j import GraphDatabase\n",
    "driver = GraphDatabase.driver(NEO4J_URI, auth=NEO4J_AUTH)\n",
    "n4j = driver.session(database=NEO4J_DB)\n",
    "\n",
    "\n",
    "gds = GraphDataScience(NEO4J_URI, auth=NEO4J_AUTH, database=NEO4J_DB)"
   ]
  },
  {
   "cell_type": "code",
   "execution_count": 4,
   "outputs": [],
   "source": [
    "import numpy\n",
    "\n",
    "SEED = 123\n",
    "numpy.random.seed(SEED)\n",
    "random.seed(SEED)"
   ],
   "metadata": {
    "collapsed": false,
    "ExecuteTime": {
     "end_time": "2024-09-06T10:25:36.733296Z",
     "start_time": "2024-09-06T10:25:36.727645Z"
    }
   },
   "id": "c8162daca8c93d70"
  },
  {
   "cell_type": "markdown",
   "source": [
    "## Create Graph"
   ],
   "metadata": {
    "id": "K9P4jr2cjpkx"
   },
   "id": "K9P4jr2cjpkx"
  },
  {
   "cell_type": "code",
   "source": [
    "nA = 10000\n",
    "nB = 10000\n",
    "nZ = 7\n",
    "connections = 4\n",
    "\n",
    "n4j.run('MATCH (n) DETACH DELETE n')\n",
    "\n",
    "n4j.run(\"CREATE CONSTRAINT a_name IF NOT EXISTS FOR (n:A) REQUIRE (n.name) IS UNIQUE\")\n",
    "n4j.run(\"CREATE CONSTRAINT b_name IF NOT EXISTS FOR (n:B) REQUIRE (n.name) IS UNIQUE\")\n",
    "n4j.run(\"CREATE CONSTRAINT z_name IF NOT EXISTS FOR (n:Z) REQUIRE (n.name) IS UNIQUE\")\n",
    "\n",
    "n4j.run(\"UNWIND $records AS row MERGE (:A {name: row})\", records=list(range(nA)))\n",
    "n4j.run(\"UNWIND $records AS row MERGE (:B {name: row})\", records=list(range(nB)))\n",
    "n4j.run(\"UNWIND $records AS row MERGE (:Z {name: row})\", records=list(range(nZ)))\n",
    "\n",
    "n4j.run(\"UNWIND $records AS row MATCH (a:A {name: row}) MATCH (b:B {name: row}) MERGE (a)-[:FOLLOW]->(b)\", records=list(range(nA)))\n",
    "\n",
    "# Generate random traits\n",
    "traits = list(map(lambda x: [x, random.sample(range(nZ), connections)], range(nA)))\n",
    "\n",
    "n4j.run(\"UNWIND $records AS row MATCH (b:B {name: row[0]}) UNWIND row[1] AS x MATCH (z:Z {name: x}) MERGE (b)-[:TRAIT]->(z)\", records=traits)\n",
    "time.sleep(2)"
   ],
   "metadata": {
    "colab": {
     "base_uri": "https://localhost:8080/"
    },
    "collapsed": true,
    "id": "_L22JgO1STuh",
    "executionInfo": {
     "status": "ok",
     "timestamp": 1719579771991,
     "user_tz": -60,
     "elapsed": 5369,
     "user": {
      "displayName": "Stuart Green",
      "userId": "06684144979108576535"
     }
    },
    "outputId": "01aa9a55-577d-4ec3-af0c-ceaccbdc6bf6",
    "ExecuteTime": {
     "end_time": "2024-09-06T10:25:39.322175Z",
     "start_time": "2024-09-06T10:25:36.731323Z"
    }
   },
   "id": "_L22JgO1STuh",
   "execution_count": 5,
   "outputs": []
  },
  {
   "cell_type": "markdown",
   "source": [
    "## Approach A - Direct"
   ],
   "metadata": {
    "id": "qkiE2GEKxg8Q"
   },
   "id": "qkiE2GEKxg8Q"
  },
  {
   "cell_type": "markdown",
   "source": [
    "### Project"
   ],
   "metadata": {
    "id": "rEFg1ZnY8PoM"
   },
   "id": "rEFg1ZnY8PoM"
  },
  {
   "cell_type": "code",
   "source": [
    "PROJECTION1 = 'ABZ'\n",
    "list(map(lambda x: gds.graph.drop(gds.graph.get(x)), list(filter(lambda x: x in [PROJECTION1], gds.graph.list()['graphName']))))\n",
    "cypher = \"\"\"\n",
    "CALL {\n",
    "    MATCH (a:A)-[r1:FOLLOW]->(b:B)\n",
    "    RETURN a AS source, labels(a) AS sourceLabel, b AS target, labels(b) AS targetLabel, type(r1) AS relType\n",
    "    UNION ALL\n",
    "    MATCH (a:A)-[r1:FOLLOW]->(b:B)-[r2:TRAIT]->(z:Z)\n",
    "    RETURN b AS source, labels(b) AS sourceLabel, z AS target, labels(z) AS targetLabel, type(r2) AS relType\n",
    "}\n",
    "RETURN gds.graph.project($projection_name, source, target,\n",
    "  {sourceNodeLabels: sourceLabel,\n",
    "  targetNodeLabels: targetLabel,\n",
    "  relationshipType: relType},\n",
    "  {undirectedRelationshipTypes: ['*']})\n",
    "\"\"\"\n",
    "\n",
    "G, result = gds.graph.cypher.project(cypher, projection_name=PROJECTION1)\n",
    "result\n",
    "gds.graph.list()"
   ],
   "metadata": {
    "colab": {
     "base_uri": "https://localhost:8080/"
    },
    "id": "gGtfX1F98UsK",
    "executionInfo": {
     "status": "ok",
     "timestamp": 1719579774602,
     "user_tz": -60,
     "elapsed": 2621,
     "user": {
      "displayName": "Stuart Green",
      "userId": "06684144979108576535"
     }
    },
    "outputId": "f2743d1e-65b0-4db6-c2ba-3feef6f32612",
    "ExecuteTime": {
     "end_time": "2024-09-06T10:25:39.433819Z",
     "start_time": "2024-09-06T10:25:39.329725Z"
    }
   },
   "id": "gGtfX1F98UsK",
   "execution_count": 6,
   "outputs": [
    {
     "data": {
      "text/plain": "                                  degreeDistribution graphName database  \\\n0  {'min': 1, 'max': 5784, 'p90': 5, 'p999': 5, '...       ABZ    neo4j   \n\n  databaseLocation memoryUsage  sizeInBytes  nodeCount  relationshipCount  \\\n0            local    8831 KiB      9043694      20007             100000   \n\n                                       configuration  density  \\\n0  {'readConcurrency': 4, 'undirectedRelationship...  0.00025   \n\n                          creationTime                     modificationTime  \\\n0  2024-09-06T10:25:39.347778000+00:00  2024-09-06T10:25:39.412915000+00:00   \n\n                                              schema  \\\n0  {'graphProperties': {}, 'nodes': {'A': {}, 'B'...   \n\n                               schemaWithOrientation  \n0  {'graphProperties': {}, 'nodes': {'A': {}, 'B'...  ",
      "text/html": "<div>\n<style scoped>\n    .dataframe tbody tr th:only-of-type {\n        vertical-align: middle;\n    }\n\n    .dataframe tbody tr th {\n        vertical-align: top;\n    }\n\n    .dataframe thead th {\n        text-align: right;\n    }\n</style>\n<table border=\"1\" class=\"dataframe\">\n  <thead>\n    <tr style=\"text-align: right;\">\n      <th></th>\n      <th>degreeDistribution</th>\n      <th>graphName</th>\n      <th>database</th>\n      <th>databaseLocation</th>\n      <th>memoryUsage</th>\n      <th>sizeInBytes</th>\n      <th>nodeCount</th>\n      <th>relationshipCount</th>\n      <th>configuration</th>\n      <th>density</th>\n      <th>creationTime</th>\n      <th>modificationTime</th>\n      <th>schema</th>\n      <th>schemaWithOrientation</th>\n    </tr>\n  </thead>\n  <tbody>\n    <tr>\n      <th>0</th>\n      <td>{'min': 1, 'max': 5784, 'p90': 5, 'p999': 5, '...</td>\n      <td>ABZ</td>\n      <td>neo4j</td>\n      <td>local</td>\n      <td>8831 KiB</td>\n      <td>9043694</td>\n      <td>20007</td>\n      <td>100000</td>\n      <td>{'readConcurrency': 4, 'undirectedRelationship...</td>\n      <td>0.00025</td>\n      <td>2024-09-06T10:25:39.347778000+00:00</td>\n      <td>2024-09-06T10:25:39.412915000+00:00</td>\n      <td>{'graphProperties': {}, 'nodes': {'A': {}, 'B'...</td>\n      <td>{'graphProperties': {}, 'nodes': {'A': {}, 'B'...</td>\n    </tr>\n  </tbody>\n</table>\n</div>"
     },
     "execution_count": 6,
     "metadata": {},
     "output_type": "execute_result"
    }
   ]
  },
  {
   "cell_type": "markdown",
   "source": [
    "### Embed"
   ],
   "metadata": {
    "id": "mR-OUPJP8XZD"
   },
   "id": "mR-OUPJP8XZD"
  },
  {
   "cell_type": "code",
   "source": [
    "EMBEDDING1 = 'fastRP1'\n",
    "EMBEDDING_DIMENSION = 128\n",
    "RANDOM_SEED = 42\n",
    "GA = gds.graph.get(PROJECTION1)\n",
    "gds.fastRP.mutate(GA, iterationWeights=[1.0], embeddingDimension=EMBEDDING_DIMENSION, mutateProperty=EMBEDDING1, randomSeed=RANDOM_SEED, nodeLabels=['B', 'Z'], concurrency=1)\n",
    "dfBe = gds.graph.nodeProperty.stream(GA, EMBEDDING1, 'B')\n",
    "dfBe.head()"
   ],
   "metadata": {
    "colab": {
     "base_uri": "https://localhost:8080/"
    },
    "id": "jZ_Tj_mrhXve",
    "executionInfo": {
     "status": "ok",
     "timestamp": 1719579775986,
     "user_tz": -60,
     "elapsed": 1386,
     "user": {
      "displayName": "Stuart Green",
      "userId": "06684144979108576535"
     }
    },
    "outputId": "160cf054-e2c6-4e10-c7c4-3f064d5ebe9a",
    "ExecuteTime": {
     "end_time": "2024-09-06T10:25:39.529395Z",
     "start_time": "2024-09-06T10:25:39.432475Z"
    }
   },
   "id": "jZ_Tj_mrhXve",
   "execution_count": 7,
   "outputs": [
    {
     "data": {
      "text/plain": "   nodeId                                      propertyValue\n0   10000  [0.07198158, -0.07198158, 0.0, -0.14396316, -0...\n1   10001  [0.13703774, -0.06851887, 0.0, -0.13703774, -0...\n2   10002  [0.145865, -0.0729325, 0.0, -0.0729325, -0.072...\n3   10003  [0.0, 0.0, 0.0, 0.0, 0.0, 0.16064386, -0.08032...\n4   10004  [0.07738232, 0.0, 0.0, 0.0, 0.0, 0.15476464, -...",
      "text/html": "<div>\n<style scoped>\n    .dataframe tbody tr th:only-of-type {\n        vertical-align: middle;\n    }\n\n    .dataframe tbody tr th {\n        vertical-align: top;\n    }\n\n    .dataframe thead th {\n        text-align: right;\n    }\n</style>\n<table border=\"1\" class=\"dataframe\">\n  <thead>\n    <tr style=\"text-align: right;\">\n      <th></th>\n      <th>nodeId</th>\n      <th>propertyValue</th>\n    </tr>\n  </thead>\n  <tbody>\n    <tr>\n      <th>0</th>\n      <td>10000</td>\n      <td>[0.07198158, -0.07198158, 0.0, -0.14396316, -0...</td>\n    </tr>\n    <tr>\n      <th>1</th>\n      <td>10001</td>\n      <td>[0.13703774, -0.06851887, 0.0, -0.13703774, -0...</td>\n    </tr>\n    <tr>\n      <th>2</th>\n      <td>10002</td>\n      <td>[0.145865, -0.0729325, 0.0, -0.0729325, -0.072...</td>\n    </tr>\n    <tr>\n      <th>3</th>\n      <td>10003</td>\n      <td>[0.0, 0.0, 0.0, 0.0, 0.0, 0.16064386, -0.08032...</td>\n    </tr>\n    <tr>\n      <th>4</th>\n      <td>10004</td>\n      <td>[0.07738232, 0.0, 0.0, 0.0, 0.0, 0.15476464, -...</td>\n    </tr>\n  </tbody>\n</table>\n</div>"
     },
     "execution_count": 7,
     "metadata": {},
     "output_type": "execute_result"
    }
   ]
  },
  {
   "cell_type": "markdown",
   "id": "59219a59-acc6-4268-be64-12869c36320f",
   "metadata": {
    "id": "59219a59-acc6-4268-be64-12869c36320f"
   },
   "source": [
    "### Cluster, reduce, cluster"
   ]
  },
  {
   "cell_type": "code",
   "source": [
    "%%time\n",
    "dfBc = cluster_embedding(dfBe, HDBSCAN(min_samples=20, min_cluster_size=10, n_jobs=-1), cluster_column='raw')\n",
    "print(\"1\")\n",
    "print(dfBc)\n",
    "dfBc = reduce_embedding(dfBc, umap.UMAP(n_neighbors=30, min_dist=0.1, n_components=2))\n",
    "print(\"2\")\n",
    "print(dfBc)\n",
    "dfBc = cluster_embedding(dfBc, HDBSCAN(min_samples=20, min_cluster_size=10, n_jobs=-1), property_column='reduced', cluster_column='umap')\n",
    "print(\"3\")\n",
    "print(dfBc)"
   ],
   "metadata": {
    "colab": {
     "base_uri": "https://localhost:8080/"
    },
    "id": "m1ldtBG2o-gx",
    "executionInfo": {
     "status": "ok",
     "timestamp": 1719579854535,
     "user_tz": -60,
     "elapsed": 76809,
     "user": {
      "displayName": "Stuart Green",
      "userId": "06684144979108576535"
     }
    },
    "outputId": "77aeaf6f-fbb5-4df6-dfa7-650af2f7a442",
    "ExecuteTime": {
     "end_time": "2024-09-06T10:26:03.839706Z",
     "start_time": "2024-09-06T10:25:39.521305Z"
    }
   },
   "id": "m1ldtBG2o-gx",
   "execution_count": 8,
   "outputs": [
    {
     "name": "stdout",
     "output_type": "stream",
     "text": [
      "1\n",
      "      nodeId                                      propertyValue  raw\n",
      "0      10000  [0.07198158, -0.07198158, 0.0, -0.14396316, -0...   32\n",
      "1      10001  [0.13703774, -0.06851887, 0.0, -0.13703774, -0...   33\n",
      "2      10002  [0.145865, -0.0729325, 0.0, -0.0729325, -0.072...   28\n",
      "3      10003  [0.0, 0.0, 0.0, 0.0, 0.0, 0.16064386, -0.08032...    7\n",
      "4      10004  [0.07738232, 0.0, 0.0, 0.0, 0.0, 0.15476464, -...   17\n",
      "...      ...                                                ...  ...\n",
      "9995   19995  [0.14359163, 0.0, 0.0, -0.071795814, -0.143591...   31\n",
      "9996   19996  [0.14784425, 0.0, 0.0, 0.0, -0.07392213, 0.147...   25\n",
      "9997   19997  [0.07881104, 0.07881104, 0.0, 0.0, -0.15762208...    6\n",
      "9998   19998  [0.14285713, -0.14285713, 0.0, -0.14285713, -0...   30\n",
      "9999   19999  [0.0, 0.0778499, 0.0, 0.0, -0.0778499, 0.0, -0...   10\n",
      "\n",
      "[10000 rows x 3 columns]\n",
      "2\n",
      "      nodeId                                      propertyValue  raw  \\\n",
      "0      10000  [0.07198158, -0.07198158, 0.0, -0.14396316, -0...   32   \n",
      "1      10001  [0.13703774, -0.06851887, 0.0, -0.13703774, -0...   33   \n",
      "2      10002  [0.145865, -0.0729325, 0.0, -0.0729325, -0.072...   28   \n",
      "3      10003  [0.0, 0.0, 0.0, 0.0, 0.0, 0.16064386, -0.08032...    7   \n",
      "4      10004  [0.07738232, 0.0, 0.0, 0.0, 0.0, 0.15476464, -...   17   \n",
      "...      ...                                                ...  ...   \n",
      "9995   19995  [0.14359163, 0.0, 0.0, -0.071795814, -0.143591...   31   \n",
      "9996   19996  [0.14784425, 0.0, 0.0, 0.0, -0.07392213, 0.147...   25   \n",
      "9997   19997  [0.07881104, 0.07881104, 0.0, 0.0, -0.15762208...    6   \n",
      "9998   19998  [0.14285713, -0.14285713, 0.0, -0.14285713, -0...   30   \n",
      "9999   19999  [0.0, 0.0778499, 0.0, 0.0, -0.0778499, 0.0, -0...   10   \n",
      "\n",
      "                       reduced  \n",
      "0       [-13.690143, 7.144661]  \n",
      "1     [-20.630442, -6.1759024]  \n",
      "2      [7.1399574, -24.018505]  \n",
      "3       [12.783169, 22.270233]  \n",
      "4        [32.77997, 1.0982771]  \n",
      "...                        ...  \n",
      "9995   [2.1216247, -14.559058]  \n",
      "9996    [28.61303, -14.875603]  \n",
      "9997    [1.7527534, 14.858552]  \n",
      "9998   [-10.514863, -18.60332]  \n",
      "9999   [-6.9494314, 28.007896]  \n",
      "\n",
      "[10000 rows x 4 columns]\n",
      "3\n",
      "      nodeId                                      propertyValue  raw  \\\n",
      "0      10000  [0.07198158, -0.07198158, 0.0, -0.14396316, -0...   32   \n",
      "1      10001  [0.13703774, -0.06851887, 0.0, -0.13703774, -0...   33   \n",
      "2      10002  [0.145865, -0.0729325, 0.0, -0.0729325, -0.072...   28   \n",
      "3      10003  [0.0, 0.0, 0.0, 0.0, 0.0, 0.16064386, -0.08032...    7   \n",
      "4      10004  [0.07738232, 0.0, 0.0, 0.0, 0.0, 0.15476464, -...   17   \n",
      "...      ...                                                ...  ...   \n",
      "9995   19995  [0.14359163, 0.0, 0.0, -0.071795814, -0.143591...   31   \n",
      "9996   19996  [0.14784425, 0.0, 0.0, 0.0, -0.07392213, 0.147...   25   \n",
      "9997   19997  [0.07881104, 0.07881104, 0.0, 0.0, -0.15762208...    6   \n",
      "9998   19998  [0.14285713, -0.14285713, 0.0, -0.14285713, -0...   30   \n",
      "9999   19999  [0.0, 0.0778499, 0.0, 0.0, -0.0778499, 0.0, -0...   10   \n",
      "\n",
      "                       reduced  umap  \n",
      "0       [-13.690143, 7.144661]    15  \n",
      "1     [-20.630442, -6.1759024]    20  \n",
      "2      [7.1399574, -24.018505]     2  \n",
      "3       [12.783169, 22.270233]    27  \n",
      "4        [32.77997, 1.0982771]    25  \n",
      "...                        ...   ...  \n",
      "9995   [2.1216247, -14.559058]    12  \n",
      "9996    [28.61303, -14.875603]    13  \n",
      "9997    [1.7527534, 14.858552]    24  \n",
      "9998   [-10.514863, -18.60332]     4  \n",
      "9999   [-6.9494314, 28.007896]     5  \n",
      "\n",
      "[10000 rows x 5 columns]\n",
      "CPU times: user 1min 26s, sys: 823 ms, total: 1min 27s\n",
      "Wall time: 24.3 s\n"
     ]
    }
   ]
  },
  {
   "cell_type": "markdown",
   "source": [
    "### Raw Clusters"
   ],
   "metadata": {
    "id": "VG9dq4gE8-tW"
   },
   "id": "VG9dq4gE8-tW"
  },
  {
   "cell_type": "code",
   "source": [
    "dfBc['raw'].value_counts()"
   ],
   "metadata": {
    "colab": {
     "base_uri": "https://localhost:8080/"
    },
    "id": "YrIrYG-UlRTZ",
    "executionInfo": {
     "status": "ok",
     "timestamp": 1719579854535,
     "user_tz": -60,
     "elapsed": 6,
     "user": {
      "displayName": "Stuart Green",
      "userId": "06684144979108576535"
     }
    },
    "outputId": "50dbbb0d-a338-4765-b786-4ec73380414d",
    "ExecuteTime": {
     "end_time": "2024-09-06T10:26:03.840012Z",
     "start_time": "2024-09-06T10:26:03.832671Z"
    }
   },
   "id": "YrIrYG-UlRTZ",
   "execution_count": 9,
   "outputs": [
    {
     "data": {
      "text/plain": "raw\n19    318\n13    317\n32    312\n10    306\n15    302\n3     301\n31    298\n17    297\n28    296\n27    295\n12    293\n18    293\n11    292\n22    289\n1     286\n7     286\n21    285\n24    284\n25    283\n20    282\n9     282\n29    281\n6     280\n33    280\n0     279\n5     277\n2     275\n26    274\n23    271\n30    271\n34    270\n14    268\n16    264\n4     264\n8     249\nName: count, dtype: int64"
     },
     "execution_count": 9,
     "metadata": {},
     "output_type": "execute_result"
    }
   ]
  },
  {
   "cell_type": "markdown",
   "source": [
    "### UMAP Clusters"
   ],
   "metadata": {
    "id": "bMCEf7GG9BUV"
   },
   "id": "bMCEf7GG9BUV"
  },
  {
   "cell_type": "code",
   "source": [
    "dfBc['umap'].value_counts()"
   ],
   "metadata": {
    "colab": {
     "base_uri": "https://localhost:8080/"
    },
    "id": "KMNg8FIvosDf",
    "executionInfo": {
     "status": "ok",
     "timestamp": 1719579854535,
     "user_tz": -60,
     "elapsed": 5,
     "user": {
      "displayName": "Stuart Green",
      "userId": "06684144979108576535"
     }
    },
    "outputId": "767565cb-87c1-4a8c-c19e-8480bad0c13c",
    "ExecuteTime": {
     "end_time": "2024-09-06T10:26:03.840115Z",
     "start_time": "2024-09-06T10:26:03.835243Z"
    }
   },
   "id": "KMNg8FIvosDf",
   "execution_count": 10,
   "outputs": [
    {
     "data": {
      "text/plain": "umap\n28    318\n33    317\n15    312\n5     306\n14    302\n30    301\n12    298\n25    297\n2     296\n10    295\n19    293\n16    293\n0     292\n9     289\n31    286\n27    286\n7     285\n21    284\n13    283\n17    282\n34    282\n22    281\n24    280\n20    280\n23    279\n18    277\n32    275\n8     274\n6     271\n4     271\n11    270\n3     268\n1     264\n29    264\n26    249\nName: count, dtype: int64"
     },
     "execution_count": 10,
     "metadata": {},
     "output_type": "execute_result"
    }
   ]
  },
  {
   "cell_type": "markdown",
   "source": [
    "### UMAP Cluster Plot"
   ],
   "metadata": {
    "id": "fPioZJlx9Kwy"
   },
   "id": "fPioZJlx9Kwy"
  },
  {
   "cell_type": "code",
   "source": [
    "dfBc['x'] = dfBc['reduced'].apply(lambda x: x[0])\n",
    "dfBc['y'] = dfBc['reduced'].apply(lambda x: x[1])\n",
    "dfBc.plot.scatter(x='x', y='y', c=dfBc['umap'], cmap=\"plasma\", marker='+')"
   ],
   "metadata": {
    "colab": {
     "base_uri": "https://localhost:8080/",
     "height": 466
    },
    "id": "r4xRNR1K1sEM",
    "executionInfo": {
     "status": "ok",
     "timestamp": 1719579854535,
     "user_tz": -60,
     "elapsed": 4,
     "user": {
      "displayName": "Stuart Green",
      "userId": "06684144979108576535"
     }
    },
    "outputId": "03f17845-34f8-44bd-c384-a95a4e8269b4",
    "ExecuteTime": {
     "end_time": "2024-09-06T10:26:04.080733Z",
     "start_time": "2024-09-06T10:26:03.845838Z"
    }
   },
   "id": "r4xRNR1K1sEM",
   "execution_count": 11,
   "outputs": [
    {
     "data": {
      "text/plain": "<Axes: xlabel='x', ylabel='y'>"
     },
     "execution_count": 11,
     "metadata": {},
     "output_type": "execute_result"
    },
    {
     "data": {
      "text/plain": "<Figure size 640x480 with 2 Axes>",
      "image/png": "[encoded data removed]"
     },
     "metadata": {},
     "output_type": "display_data"
    }
   ]
  },
  {
   "cell_type": "code",
   "execution_count": 12,
   "outputs": [
    {
     "data": {
      "text/plain": "   nodeId                                      propertyValue  raw  \\\n0   10000  [0.07198158, -0.07198158, 0.0, -0.14396316, -0...   32   \n1   10001  [0.13703774, -0.06851887, 0.0, -0.13703774, -0...   33   \n2   10002  [0.145865, -0.0729325, 0.0, -0.0729325, -0.072...   28   \n3   10003  [0.0, 0.0, 0.0, 0.0, 0.0, 0.16064386, -0.08032...    7   \n4   10004  [0.07738232, 0.0, 0.0, 0.0, 0.0, 0.15476464, -...   17   \n\n                    reduced  umap          x          y  \n0    [-13.690143, 7.144661]    15 -13.690143   7.144661  \n1  [-20.630442, -6.1759024]    20 -20.630442  -6.175902  \n2   [7.1399574, -24.018505]     2   7.139957 -24.018505  \n3    [12.783169, 22.270233]    27  12.783169  22.270233  \n4     [32.77997, 1.0982771]    25  32.779968   1.098277  ",
      "text/html": "<div>\n<style scoped>\n    .dataframe tbody tr th:only-of-type {\n        vertical-align: middle;\n    }\n\n    .dataframe tbody tr th {\n        vertical-align: top;\n    }\n\n    .dataframe thead th {\n        text-align: right;\n    }\n</style>\n<table border=\"1\" class=\"dataframe\">\n  <thead>\n    <tr style=\"text-align: right;\">\n      <th></th>\n      <th>nodeId</th>\n      <th>propertyValue</th>\n      <th>raw</th>\n      <th>reduced</th>\n      <th>umap</th>\n      <th>x</th>\n      <th>y</th>\n    </tr>\n  </thead>\n  <tbody>\n    <tr>\n      <th>0</th>\n      <td>10000</td>\n      <td>[0.07198158, -0.07198158, 0.0, -0.14396316, -0...</td>\n      <td>32</td>\n      <td>[-13.690143, 7.144661]</td>\n      <td>15</td>\n      <td>-13.690143</td>\n      <td>7.144661</td>\n    </tr>\n    <tr>\n      <th>1</th>\n      <td>10001</td>\n      <td>[0.13703774, -0.06851887, 0.0, -0.13703774, -0...</td>\n      <td>33</td>\n      <td>[-20.630442, -6.1759024]</td>\n      <td>20</td>\n      <td>-20.630442</td>\n      <td>-6.175902</td>\n    </tr>\n    <tr>\n      <th>2</th>\n      <td>10002</td>\n      <td>[0.145865, -0.0729325, 0.0, -0.0729325, -0.072...</td>\n      <td>28</td>\n      <td>[7.1399574, -24.018505]</td>\n      <td>2</td>\n      <td>7.139957</td>\n      <td>-24.018505</td>\n    </tr>\n    <tr>\n      <th>3</th>\n      <td>10003</td>\n      <td>[0.0, 0.0, 0.0, 0.0, 0.0, 0.16064386, -0.08032...</td>\n      <td>7</td>\n      <td>[12.783169, 22.270233]</td>\n      <td>27</td>\n      <td>12.783169</td>\n      <td>22.270233</td>\n    </tr>\n    <tr>\n      <th>4</th>\n      <td>10004</td>\n      <td>[0.07738232, 0.0, 0.0, 0.0, 0.0, 0.15476464, -...</td>\n      <td>17</td>\n      <td>[32.77997, 1.0982771]</td>\n      <td>25</td>\n      <td>32.779968</td>\n      <td>1.098277</td>\n    </tr>\n  </tbody>\n</table>\n</div>"
     },
     "execution_count": 12,
     "metadata": {},
     "output_type": "execute_result"
    }
   ],
   "source": [
    "dfBc.head()"
   ],
   "metadata": {
    "collapsed": false,
    "ExecuteTime": {
     "end_time": "2024-09-06T10:26:04.141313Z",
     "start_time": "2024-09-06T10:26:04.125631Z"
    }
   },
   "id": "24790db13063bee8"
  },
  {
   "cell_type": "markdown",
   "source": [
    "## Approach B - Layered"
   ],
   "metadata": {
    "id": "ktExSveJyxjt"
   },
   "id": "ktExSveJyxjt"
  },
  {
   "cell_type": "markdown",
   "source": [
    "### Project"
   ],
   "metadata": {
    "id": "VtwRXcvdzjzL"
   },
   "id": "VtwRXcvdzjzL"
  },
  {
   "cell_type": "code",
   "source": [
    "PROJECTION2 = 'ABZ2'\n",
    "list(map(lambda x: gds.graph.drop(gds.graph.get(x)), list(filter(lambda x: x in [PROJECTION2], gds.graph.list()['graphName']))))\n",
    "cypher = \"\"\"\n",
    "CALL {\n",
    "    MATCH (a:A)-[r1:FOLLOW]->(b:B)\n",
    "    RETURN a AS source, labels(a) AS sourceLabel, b AS target, labels(b) AS targetLabel, type(r1) AS relType\n",
    "    UNION ALL\n",
    "    MATCH (a:A)-[r1:FOLLOW]->(b:B)-[r2:TRAIT]->(z:Z)\n",
    "    RETURN b AS source, labels(b) AS sourceLabel, z AS target, labels(z) AS targetLabel, type(r2) AS relType\n",
    "}\n",
    "RETURN gds.graph.project($projection_name, source, target,\n",
    "  {sourceNodeLabels: sourceLabel,\n",
    "  targetNodeLabels: targetLabel,\n",
    "  relationshipType: relType},\n",
    "  {undirectedRelationshipTypes: ['*']})\n",
    "\"\"\"\n",
    "\n",
    "GB, result = gds.graph.cypher.project(cypher, projection_name=PROJECTION2)\n",
    "result\n",
    "gds.graph.list()"
   ],
   "metadata": {
    "colab": {
     "base_uri": "https://localhost:8080/"
    },
    "id": "j0MAxPQ0y7Fr",
    "executionInfo": {
     "status": "ok",
     "timestamp": 1719579857982,
     "user_tz": -60,
     "elapsed": 3450,
     "user": {
      "displayName": "Stuart Green",
      "userId": "06684144979108576535"
     }
    },
    "outputId": "f383f498-5b4c-4858-9cfd-5afe07f9ec99",
    "ExecuteTime": {
     "end_time": "2024-09-06T10:26:04.267318Z",
     "start_time": "2024-09-06T10:26:04.126536Z"
    }
   },
   "id": "j0MAxPQ0y7Fr",
   "execution_count": 13,
   "outputs": [
    {
     "data": {
      "text/plain": "                                  degreeDistribution graphName database  \\\n0  {'min': 1, 'max': 5784, 'p90': 5, 'p999': 5, '...       ABZ    neo4j   \n1  {'min': 1, 'max': 5784, 'p90': 5, 'p999': 5, '...      ABZ2    neo4j   \n\n  databaseLocation memoryUsage  sizeInBytes  nodeCount  relationshipCount  \\\n0            local        None           -1      20007             100000   \n1            local    8831 KiB      9043694      20007             100000   \n\n                                       configuration  density  \\\n0  {'readConcurrency': 4, 'undirectedRelationship...  0.00025   \n1  {'readConcurrency': 4, 'undirectedRelationship...  0.00025   \n\n                          creationTime                     modificationTime  \\\n0  2024-09-06T10:25:39.347778000+00:00  2024-09-06T10:25:39.478976000+00:00   \n1  2024-09-06T10:26:04.165883000+00:00  2024-09-06T10:26:04.205445000+00:00   \n\n                                              schema  \\\n0  {'graphProperties': {}, 'nodes': {'A': {}, 'B'...   \n1  {'graphProperties': {}, 'nodes': {'A': {}, 'B'...   \n\n                               schemaWithOrientation  \n0  {'graphProperties': {}, 'nodes': {'A': {}, 'B'...  \n1  {'graphProperties': {}, 'nodes': {'A': {}, 'B'...  ",
      "text/html": "<div>\n<style scoped>\n    .dataframe tbody tr th:only-of-type {\n        vertical-align: middle;\n    }\n\n    .dataframe tbody tr th {\n        vertical-align: top;\n    }\n\n    .dataframe thead th {\n        text-align: right;\n    }\n</style>\n<table border=\"1\" class=\"dataframe\">\n  <thead>\n    <tr style=\"text-align: right;\">\n      <th></th>\n      <th>degreeDistribution</th>\n      <th>graphName</th>\n      <th>database</th>\n      <th>databaseLocation</th>\n      <th>memoryUsage</th>\n      <th>sizeInBytes</th>\n      <th>nodeCount</th>\n      <th>relationshipCount</th>\n      <th>configuration</th>\n      <th>density</th>\n      <th>creationTime</th>\n      <th>modificationTime</th>\n      <th>schema</th>\n      <th>schemaWithOrientation</th>\n    </tr>\n  </thead>\n  <tbody>\n    <tr>\n      <th>0</th>\n      <td>{'min': 1, 'max': 5784, 'p90': 5, 'p999': 5, '...</td>\n      <td>ABZ</td>\n      <td>neo4j</td>\n      <td>local</td>\n      <td>None</td>\n      <td>-1</td>\n      <td>20007</td>\n      <td>100000</td>\n      <td>{'readConcurrency': 4, 'undirectedRelationship...</td>\n      <td>0.00025</td>\n      <td>2024-09-06T10:25:39.347778000+00:00</td>\n      <td>2024-09-06T10:25:39.478976000+00:00</td>\n      <td>{'graphProperties': {}, 'nodes': {'A': {}, 'B'...</td>\n      <td>{'graphProperties': {}, 'nodes': {'A': {}, 'B'...</td>\n    </tr>\n    <tr>\n      <th>1</th>\n      <td>{'min': 1, 'max': 5784, 'p90': 5, 'p999': 5, '...</td>\n      <td>ABZ2</td>\n      <td>neo4j</td>\n      <td>local</td>\n      <td>8831 KiB</td>\n      <td>9043694</td>\n      <td>20007</td>\n      <td>100000</td>\n      <td>{'readConcurrency': 4, 'undirectedRelationship...</td>\n      <td>0.00025</td>\n      <td>2024-09-06T10:26:04.165883000+00:00</td>\n      <td>2024-09-06T10:26:04.205445000+00:00</td>\n      <td>{'graphProperties': {}, 'nodes': {'A': {}, 'B'...</td>\n      <td>{'graphProperties': {}, 'nodes': {'A': {}, 'B'...</td>\n    </tr>\n  </tbody>\n</table>\n</div>"
     },
     "execution_count": 13,
     "metadata": {},
     "output_type": "execute_result"
    }
   ]
  },
  {
   "cell_type": "markdown",
   "source": [
    "### Embed B to Z"
   ],
   "metadata": {
    "id": "Iy6RVvbLz1H2"
   },
   "id": "Iy6RVvbLz1H2"
  },
  {
   "cell_type": "code",
   "source": [
    "EMBEDDING2 = 'fastRP2'\n",
    "GB = gds.graph.get(PROJECTION2)\n",
    "gds.fastRP.mutate(GB, iterationWeights=[1.0], embeddingDimension=EMBEDDING_DIMENSION, mutateProperty=EMBEDDING2, nodeLabels=['B', 'Z'], randomSeed=RANDOM_SEED, concurrency=1)\n",
    "dfB2 = gds.graph.nodeProperty.stream(GB, EMBEDDING2, 'B')\n",
    "dfB2['labels'] = dfB2.apply(lambda x: ['B'], axis='columns')\n",
    "dfB2.head()"
   ],
   "metadata": {
    "colab": {
     "base_uri": "https://localhost:8080/"
    },
    "id": "yHD-Gks4ziXy",
    "executionInfo": {
     "status": "ok",
     "timestamp": 1719579858544,
     "user_tz": -60,
     "elapsed": 563,
     "user": {
      "displayName": "Stuart Green",
      "userId": "06684144979108576535"
     }
    },
    "outputId": "a4418862-ab7c-4264-b122-6bc3b27204cf",
    "ExecuteTime": {
     "end_time": "2024-09-06T10:26:04.377629Z",
     "start_time": "2024-09-06T10:26:04.266369Z"
    }
   },
   "id": "yHD-Gks4ziXy",
   "execution_count": 14,
   "outputs": [
    {
     "data": {
      "text/plain": "   nodeId                                      propertyValue labels\n0   10000  [0.07198158, -0.07198158, 0.0, -0.14396316, -0...    [B]\n1   10001  [0.13703774, -0.06851887, 0.0, -0.13703774, -0...    [B]\n2   10002  [0.145865, -0.0729325, 0.0, -0.0729325, -0.072...    [B]\n3   10003  [0.0, 0.0, 0.0, 0.0, 0.0, 0.16064386, -0.08032...    [B]\n4   10004  [0.07738232, 0.0, 0.0, 0.0, 0.0, 0.15476464, -...    [B]",
      "text/html": "<div>\n<style scoped>\n    .dataframe tbody tr th:only-of-type {\n        vertical-align: middle;\n    }\n\n    .dataframe tbody tr th {\n        vertical-align: top;\n    }\n\n    .dataframe thead th {\n        text-align: right;\n    }\n</style>\n<table border=\"1\" class=\"dataframe\">\n  <thead>\n    <tr style=\"text-align: right;\">\n      <th></th>\n      <th>nodeId</th>\n      <th>propertyValue</th>\n      <th>labels</th>\n    </tr>\n  </thead>\n  <tbody>\n    <tr>\n      <th>0</th>\n      <td>10000</td>\n      <td>[0.07198158, -0.07198158, 0.0, -0.14396316, -0...</td>\n      <td>[B]</td>\n    </tr>\n    <tr>\n      <th>1</th>\n      <td>10001</td>\n      <td>[0.13703774, -0.06851887, 0.0, -0.13703774, -0...</td>\n      <td>[B]</td>\n    </tr>\n    <tr>\n      <th>2</th>\n      <td>10002</td>\n      <td>[0.145865, -0.0729325, 0.0, -0.0729325, -0.072...</td>\n      <td>[B]</td>\n    </tr>\n    <tr>\n      <th>3</th>\n      <td>10003</td>\n      <td>[0.0, 0.0, 0.0, 0.0, 0.0, 0.16064386, -0.08032...</td>\n      <td>[B]</td>\n    </tr>\n    <tr>\n      <th>4</th>\n      <td>10004</td>\n      <td>[0.07738232, 0.0, 0.0, 0.0, 0.0, 0.15476464, -...</td>\n      <td>[B]</td>\n    </tr>\n  </tbody>\n</table>\n</div>"
     },
     "execution_count": 14,
     "metadata": {},
     "output_type": "execute_result"
    }
   ]
  },
  {
   "cell_type": "markdown",
   "source": [
    "### Stream A nodes\n",
    "\n",
    "Add zero vectors"
   ],
   "metadata": {
    "id": "f2R1MegX1qRY"
   },
   "id": "f2R1MegX1qRY"
  },
  {
   "cell_type": "code",
   "source": [
    "gds.wcc.mutate(GB, mutateProperty='wcc')\n",
    "dfA1 = gds.graph.nodeProperty.stream(GB, 'wcc', 'A')\n",
    "dfA1['propertyValue'] = dfA1.apply(lambda x: list(map(lambda x: 0.0, range(int(EMBEDDING_DIMENSION)))), axis='columns')\n",
    "dfA1['labels'] = dfA1.apply(lambda x: ['A'], axis='columns')\n",
    "dfA1.head()"
   ],
   "metadata": {
    "colab": {
     "base_uri": "https://localhost:8080/",
     "height": 206
    },
    "id": "3E_ez7oy1mkn",
    "executionInfo": {
     "status": "ok",
     "timestamp": 1719579861705,
     "user_tz": -60,
     "elapsed": 682,
     "user": {
      "displayName": "Stuart Green",
      "userId": "06684144979108576535"
     }
    },
    "outputId": "1d28d131-6f9a-4da9-847b-d92ab9cc8d8c",
    "ExecuteTime": {
     "end_time": "2024-09-06T10:26:04.571602Z",
     "start_time": "2024-09-06T10:26:04.370508Z"
    }
   },
   "id": "3E_ez7oy1mkn",
   "execution_count": 15,
   "outputs": [
    {
     "data": {
      "text/plain": "   nodeId                                      propertyValue labels\n0       0  [0.0, 0.0, 0.0, 0.0, 0.0, 0.0, 0.0, 0.0, 0.0, ...    [A]\n1       1  [0.0, 0.0, 0.0, 0.0, 0.0, 0.0, 0.0, 0.0, 0.0, ...    [A]\n2       2  [0.0, 0.0, 0.0, 0.0, 0.0, 0.0, 0.0, 0.0, 0.0, ...    [A]\n3       3  [0.0, 0.0, 0.0, 0.0, 0.0, 0.0, 0.0, 0.0, 0.0, ...    [A]\n4       4  [0.0, 0.0, 0.0, 0.0, 0.0, 0.0, 0.0, 0.0, 0.0, ...    [A]",
      "text/html": "<div>\n<style scoped>\n    .dataframe tbody tr th:only-of-type {\n        vertical-align: middle;\n    }\n\n    .dataframe tbody tr th {\n        vertical-align: top;\n    }\n\n    .dataframe thead th {\n        text-align: right;\n    }\n</style>\n<table border=\"1\" class=\"dataframe\">\n  <thead>\n    <tr style=\"text-align: right;\">\n      <th></th>\n      <th>nodeId</th>\n      <th>propertyValue</th>\n      <th>labels</th>\n    </tr>\n  </thead>\n  <tbody>\n    <tr>\n      <th>0</th>\n      <td>0</td>\n      <td>[0.0, 0.0, 0.0, 0.0, 0.0, 0.0, 0.0, 0.0, 0.0, ...</td>\n      <td>[A]</td>\n    </tr>\n    <tr>\n      <th>1</th>\n      <td>1</td>\n      <td>[0.0, 0.0, 0.0, 0.0, 0.0, 0.0, 0.0, 0.0, 0.0, ...</td>\n      <td>[A]</td>\n    </tr>\n    <tr>\n      <th>2</th>\n      <td>2</td>\n      <td>[0.0, 0.0, 0.0, 0.0, 0.0, 0.0, 0.0, 0.0, 0.0, ...</td>\n      <td>[A]</td>\n    </tr>\n    <tr>\n      <th>3</th>\n      <td>3</td>\n      <td>[0.0, 0.0, 0.0, 0.0, 0.0, 0.0, 0.0, 0.0, 0.0, ...</td>\n      <td>[A]</td>\n    </tr>\n    <tr>\n      <th>4</th>\n      <td>4</td>\n      <td>[0.0, 0.0, 0.0, 0.0, 0.0, 0.0, 0.0, 0.0, 0.0, ...</td>\n      <td>[A]</td>\n    </tr>\n  </tbody>\n</table>\n</div>"
     },
     "execution_count": 15,
     "metadata": {},
     "output_type": "execute_result"
    }
   ]
  },
  {
   "cell_type": "markdown",
   "source": [
    "### Stream FOLLOW relationships"
   ],
   "metadata": {
    "id": "JWCMpxo92Cs3"
   },
   "id": "JWCMpxo92Cs3"
  },
  {
   "cell_type": "code",
   "source": [
    "relationships = gds.graph.relationships.stream(GB, ['FOLLOW'])\n",
    "relationships.head()"
   ],
   "metadata": {
    "colab": {
     "base_uri": "https://localhost:8080/",
     "height": 206
    },
    "id": "NtBmZmo-2Aqo",
    "executionInfo": {
     "status": "ok",
     "timestamp": 1719579862133,
     "user_tz": -60,
     "elapsed": 430,
     "user": {
      "displayName": "Stuart Green",
      "userId": "06684144979108576535"
     }
    },
    "outputId": "062955df-7255-4587-85e3-dd6df93aa921",
    "ExecuteTime": {
     "end_time": "2024-09-06T10:26:04.620864Z",
     "start_time": "2024-09-06T10:26:04.571552Z"
    }
   },
   "id": "NtBmZmo-2Aqo",
   "execution_count": 16,
   "outputs": [
    {
     "data": {
      "text/plain": "   sourceNodeId  targetNodeId relationshipType\n0             0         10000           FOLLOW\n1         10000             0           FOLLOW\n2             1         10001           FOLLOW\n3         10001             1           FOLLOW\n4             2         10002           FOLLOW",
      "text/html": "<div>\n<style scoped>\n    .dataframe tbody tr th:only-of-type {\n        vertical-align: middle;\n    }\n\n    .dataframe tbody tr th {\n        vertical-align: top;\n    }\n\n    .dataframe thead th {\n        text-align: right;\n    }\n</style>\n<table border=\"1\" class=\"dataframe\">\n  <thead>\n    <tr style=\"text-align: right;\">\n      <th></th>\n      <th>sourceNodeId</th>\n      <th>targetNodeId</th>\n      <th>relationshipType</th>\n    </tr>\n  </thead>\n  <tbody>\n    <tr>\n      <th>0</th>\n      <td>0</td>\n      <td>10000</td>\n      <td>FOLLOW</td>\n    </tr>\n    <tr>\n      <th>1</th>\n      <td>10000</td>\n      <td>0</td>\n      <td>FOLLOW</td>\n    </tr>\n    <tr>\n      <th>2</th>\n      <td>1</td>\n      <td>10001</td>\n      <td>FOLLOW</td>\n    </tr>\n    <tr>\n      <th>3</th>\n      <td>10001</td>\n      <td>1</td>\n      <td>FOLLOW</td>\n    </tr>\n    <tr>\n      <th>4</th>\n      <td>2</td>\n      <td>10002</td>\n      <td>FOLLOW</td>\n    </tr>\n  </tbody>\n</table>\n</div>"
     },
     "execution_count": 16,
     "metadata": {},
     "output_type": "execute_result"
    }
   ]
  },
  {
   "cell_type": "markdown",
   "source": [
    "### Construct Graph"
   ],
   "metadata": {
    "id": "J98LYZOf2wDu"
   },
   "id": "J98LYZOf2wDu"
  },
  {
   "cell_type": "code",
   "source": [
    "NODE_SELF_INFLUENCE = 0.0\n",
    "PROJECTION3 = 'ABZ3'\n",
    "list(map(lambda x: gds.graph.drop(gds.graph.get(x)), list(filter(lambda x: x in [PROJECTION3], gds.graph.list()['graphName']))))\n",
    "GC = gds.graph.construct(PROJECTION3, pd.concat([dfB2, dfA1]), relationships)\n",
    "gds.graph.list()"
   ],
   "metadata": {
    "colab": {
     "base_uri": "https://localhost:8080/",
     "height": 136,
     "referenced_widgets": [
      "40068c85a3b544fbaf5ebf816bf87da9",
      "f2ea662429f04578ac318f567082b966",
      "45d813eada744aa497f6e9e16d20d429",
      "e823345a33b443a4a848f4fb21ad91d4",
      "a0871a4b917e40c2b4735e8de4f23af5",
      "7917ce66adc34fcd829d67a93689af4b",
      "92bb81e1c08741ac8db31dd0667f7d41",
      "016702338643428293528a352832f9f2",
      "8c9c6ba3d5b44b9f808e4e11f1b16691",
      "feb8ee4279e04f8c9b35da614740f88b",
      "35d1a918ebe04cc1a462482f1e115860",
      "3224aff8ad4f40d8a8753e037e15c344",
      "00d190d7b1ba4c2ba6948ee587f8226d",
      "b95edd32fa6d47458bcd2650ee2829bc",
      "6d8862a2b8fc46f1b0be2a575af5f507",
      "6297005e37de4b77a65730c5f6eb1039",
      "2e01b56b26bb4092bb37a5aed4f49778",
      "f35d13ff9d674ccc96740a60a8e5a340",
      "ca57b13ac30b4fc5a2b3597fd41cc176",
      "bd884c167c104b4f90cef6100de947d0",
      "11634bed5b1b44c18b61d5424051df43",
      "df8b4fd7bcfd41eb912be0ee9011d9ea"
     ]
    },
    "id": "prMpbSt22nmt",
    "executionInfo": {
     "status": "ok",
     "timestamp": 1719582402551,
     "user_tz": -60,
     "elapsed": 6367,
     "user": {
      "displayName": "Stuart Green",
      "userId": "06684144979108576535"
     }
    },
    "outputId": "cab5b895-f514-40e7-f0ca-bf0395494c6a",
    "ExecuteTime": {
     "end_time": "2024-09-06T10:26:04.925996Z",
     "start_time": "2024-09-06T10:26:04.614184Z"
    }
   },
   "id": "prMpbSt22nmt",
   "execution_count": 17,
   "outputs": [
    {
     "data": {
      "text/plain": "Uploading Nodes:   0%|          | 0/20000 [00:00<?, ?Records/s]",
      "application/vnd.jupyter.widget-view+json": {
       "version_major": 2,
       "version_minor": 0,
       "model_id": "eeafc16558134d0981bccdb681f395fb"
      }
     },
     "metadata": {},
     "output_type": "display_data"
    },
    {
     "data": {
      "text/plain": "Uploading Relationships:   0%|          | 0/20000 [00:00<?, ?Records/s]",
      "application/vnd.jupyter.widget-view+json": {
       "version_major": 2,
       "version_minor": 0,
       "model_id": "ee077b45f114411492f730d7b4f8dce2"
      }
     },
     "metadata": {},
     "output_type": "display_data"
    },
    {
     "name": "stderr",
     "output_type": "stream",
     "text": [
      "/Users/olgarazvenskaia/.env/fastrp-repr/lib/python3.11/site-packages/numpy/core/fromnumeric.py:59: FutureWarning: 'TopologyDataFrame.swapaxes' is deprecated and will be removed in a future version. Please use 'TopologyDataFrame.transpose' instead.\n",
      "  return bound(*args, **kwds)\n"
     ]
    },
    {
     "data": {
      "text/plain": "                                  degreeDistribution graphName database  \\\n0  {'min': 1, 'max': 1, 'p90': 1, 'p999': 1, 'p99...      ABZ3    neo4j   \n1  {'min': 1, 'max': 5784, 'p90': 5, 'p999': 5, '...       ABZ    neo4j   \n2  {'min': 1, 'max': 5784, 'p90': 5, 'p999': 5, '...      ABZ2    neo4j   \n\n  databaseLocation memoryUsage  sizeInBytes  nodeCount  relationshipCount  \\\n0             none      26 MiB     27752676      20000              20000   \n1            local        None           -1      20007             100000   \n2            local        None           -1      20007             100000   \n\n                                       configuration  density  \\\n0  {'readConcurrency': 4, 'jobId': '680ae403-98c0...  0.00005   \n1  {'readConcurrency': 4, 'undirectedRelationship...  0.00025   \n2  {'readConcurrency': 4, 'undirectedRelationship...  0.00025   \n\n                          creationTime                     modificationTime  \\\n0  2024-09-06T10:26:04.857622000+00:00  2024-09-06T10:26:04.857607000+00:00   \n1  2024-09-06T10:25:39.347778000+00:00  2024-09-06T10:25:39.478976000+00:00   \n2  2024-09-06T10:26:04.165883000+00:00  2024-09-06T10:26:04.373690000+00:00   \n\n                                              schema  \\\n0  {'graphProperties': {}, 'nodes': {'A': {'prope...   \n1  {'graphProperties': {}, 'nodes': {'A': {}, 'B'...   \n2  {'graphProperties': {}, 'nodes': {'A': {'wcc':...   \n\n                               schemaWithOrientation  \n0  {'graphProperties': {}, 'nodes': {'A': {'prope...  \n1  {'graphProperties': {}, 'nodes': {'A': {}, 'B'...  \n2  {'graphProperties': {}, 'nodes': {'A': {'wcc':...  ",
      "text/html": "<div>\n<style scoped>\n    .dataframe tbody tr th:only-of-type {\n        vertical-align: middle;\n    }\n\n    .dataframe tbody tr th {\n        vertical-align: top;\n    }\n\n    .dataframe thead th {\n        text-align: right;\n    }\n</style>\n<table border=\"1\" class=\"dataframe\">\n  <thead>\n    <tr style=\"text-align: right;\">\n      <th></th>\n      <th>degreeDistribution</th>\n      <th>graphName</th>\n      <th>database</th>\n      <th>databaseLocation</th>\n      <th>memoryUsage</th>\n      <th>sizeInBytes</th>\n      <th>nodeCount</th>\n      <th>relationshipCount</th>\n      <th>configuration</th>\n      <th>density</th>\n      <th>creationTime</th>\n      <th>modificationTime</th>\n      <th>schema</th>\n      <th>schemaWithOrientation</th>\n    </tr>\n  </thead>\n  <tbody>\n    <tr>\n      <th>0</th>\n      <td>{'min': 1, 'max': 1, 'p90': 1, 'p999': 1, 'p99...</td>\n      <td>ABZ3</td>\n      <td>neo4j</td>\n      <td>none</td>\n      <td>26 MiB</td>\n      <td>27752676</td>\n      <td>20000</td>\n      <td>20000</td>\n      <td>{'readConcurrency': 4, 'jobId': '680ae403-98c0...</td>\n      <td>0.00005</td>\n      <td>2024-09-06T10:26:04.857622000+00:00</td>\n      <td>2024-09-06T10:26:04.857607000+00:00</td>\n      <td>{'graphProperties': {}, 'nodes': {'A': {'prope...</td>\n      <td>{'graphProperties': {}, 'nodes': {'A': {'prope...</td>\n    </tr>\n    <tr>\n      <th>1</th>\n      <td>{'min': 1, 'max': 5784, 'p90': 5, 'p999': 5, '...</td>\n      <td>ABZ</td>\n      <td>neo4j</td>\n      <td>local</td>\n      <td>None</td>\n      <td>-1</td>\n      <td>20007</td>\n      <td>100000</td>\n      <td>{'readConcurrency': 4, 'undirectedRelationship...</td>\n      <td>0.00025</td>\n      <td>2024-09-06T10:25:39.347778000+00:00</td>\n      <td>2024-09-06T10:25:39.478976000+00:00</td>\n      <td>{'graphProperties': {}, 'nodes': {'A': {}, 'B'...</td>\n      <td>{'graphProperties': {}, 'nodes': {'A': {}, 'B'...</td>\n    </tr>\n    <tr>\n      <th>2</th>\n      <td>{'min': 1, 'max': 5784, 'p90': 5, 'p999': 5, '...</td>\n      <td>ABZ2</td>\n      <td>neo4j</td>\n      <td>local</td>\n      <td>None</td>\n      <td>-1</td>\n      <td>20007</td>\n      <td>100000</td>\n      <td>{'readConcurrency': 4, 'undirectedRelationship...</td>\n      <td>0.00025</td>\n      <td>2024-09-06T10:26:04.165883000+00:00</td>\n      <td>2024-09-06T10:26:04.373690000+00:00</td>\n      <td>{'graphProperties': {}, 'nodes': {'A': {'wcc':...</td>\n      <td>{'graphProperties': {}, 'nodes': {'A': {'wcc':...</td>\n    </tr>\n  </tbody>\n</table>\n</div>"
     },
     "execution_count": 17,
     "metadata": {},
     "output_type": "execute_result"
    }
   ]
  },
  {
   "cell_type": "markdown",
   "source": [
    "### Embed combining graph & previously calculated embeddings"
   ],
   "metadata": {
    "id": "HC0hZxun3Idr"
   },
   "id": "HC0hZxun3Idr"
  },
  {
   "cell_type": "code",
   "source": [
    "EMBEDDING3 = 'fastRP3'\n",
    "PROPERTY_RATIO = 0.5\n",
    "gds.fastRP.mutate(GC,\n",
    "                  embeddingDimension=EMBEDDING_DIMENSION, iterationWeights=[1.0], mutateProperty=EMBEDDING3,\n",
    "                  nodeSelfInfluence=NODE_SELF_INFLUENCE, propertyRatio=PROPERTY_RATIO, featureProperties=['propertyValue'], concurrency=1)"
   ],
   "metadata": {
    "colab": {
     "base_uri": "https://localhost:8080/"
    },
    "id": "GwZeN_y92-hU",
    "executionInfo": {
     "status": "ok",
     "timestamp": 1719582405146,
     "user_tz": -60,
     "elapsed": 2603,
     "user": {
      "displayName": "Stuart Green",
      "userId": "06684144979108576535"
     }
    },
    "outputId": "a9856dbb-ad62-49bc-be05-ebee72feed07",
    "ExecuteTime": {
     "end_time": "2024-09-06T10:26:05.023427Z",
     "start_time": "2024-09-06T10:26:04.925568Z"
    }
   },
   "id": "acc224c224c7c9fb",
   "execution_count": 18,
   "outputs": [
    {
     "data": {
      "text/plain": "nodePropertiesWritten                                                20000\nmutateMillis                                                             0\nnodeCount                                                            20000\npreProcessingMillis                                                      0\ncomputeMillis                                                           90\nconfiguration            {'mutateProperty': 'fastRP3', 'jobId': '0ab17d...\nName: 0, dtype: object"
     },
     "execution_count": 18,
     "metadata": {},
     "output_type": "execute_result"
    }
   ]
  },
  {
   "cell_type": "code",
   "execution_count": 19,
   "outputs": [
    {
     "data": {
      "text/plain": "nodePropertiesWritten                                                20000\nmutateMillis                                                             0\nnodeCount                                                            20000\npreProcessingMillis                                                      0\ncomputeMillis                                                           64\nconfiguration            {'mutateProperty': 'fastRP3_01', 'jobId': '667...\nName: 0, dtype: object"
     },
     "execution_count": 19,
     "metadata": {},
     "output_type": "execute_result"
    }
   ],
   "source": [
    "EMBEDDING3_09 = 'fastRP3_09'\n",
    "PROPERTY_RATIO_09 = 0.9\n",
    "gds.fastRP.mutate(GC,\n",
    "                  embeddingDimension=EMBEDDING_DIMENSION, iterationWeights=[1.0], mutateProperty=EMBEDDING3_09,\n",
    "                  nodeSelfInfluence=NODE_SELF_INFLUENCE, propertyRatio=PROPERTY_RATIO_09, featureProperties=['propertyValue'], concurrency=1)\n",
    "\n",
    "\n",
    "EMBEDDING3_01 = 'fastRP3_01'\n",
    "PROPERTY_RATIO_01 = 0.1\n",
    "gds.fastRP.mutate(GC,\n",
    "                  embeddingDimension=EMBEDDING_DIMENSION, iterationWeights=[1.0], mutateProperty=EMBEDDING3_01,\n",
    "                  nodeSelfInfluence=NODE_SELF_INFLUENCE, propertyRatio=PROPERTY_RATIO_01, featureProperties=['propertyValue'], concurrency=1)"
   ],
   "metadata": {
    "collapsed": false,
    "ExecuteTime": {
     "end_time": "2024-09-06T10:26:05.210508Z",
     "start_time": "2024-09-06T10:26:05.023648Z"
    }
   },
   "id": "GwZeN_y92-hU"
  },
  {
   "cell_type": "code",
   "execution_count": 20,
   "outputs": [],
   "source": [
    "def get_cluster_assignments(graphName, propertyName, nodeLabel):\n",
    "    _ddf = gds.graph.nodeProperty.stream(graphName, propertyName, nodeLabel)\n",
    "    _ddf2 = cluster_embedding(_ddf, HDBSCAN(min_samples=20, min_cluster_size=10, n_jobs=-1), cluster_column='raw')\n",
    "    _ddf2 = reduce_embedding(_ddf2, umap.UMAP(n_neighbors=30, min_dist=0.1, n_components=2))\n",
    "    _ddf2 = cluster_embedding(_ddf2, HDBSCAN(min_samples=20, min_cluster_size=10, n_jobs=-1), property_column='reduced', cluster_column='umap')\n",
    "    \n",
    "    _ddf2['x'] = _ddf2['reduced'].apply(lambda x: x[0])\n",
    "    _ddf2['y'] = _ddf2['reduced'].apply(lambda x: x[1])\n",
    "    _ddf2.plot.scatter(x='x', y='y', c=_ddf2['umap'], cmap=\"plasma\", marker='+', title=propertyName+' '+nodeLabel)\n",
    "    \n",
    "    return _ddf2['umap']"
   ],
   "metadata": {
    "collapsed": false,
    "ExecuteTime": {
     "end_time": "2024-09-06T10:26:05.217478Z",
     "start_time": "2024-09-06T10:26:05.211513Z"
    }
   },
   "id": "7a9cbacdbb4a4769"
  },
  {
   "cell_type": "code",
   "execution_count": 21,
   "outputs": [
    {
     "name": "stdout",
     "output_type": "stream",
     "text": [
      "0       25\n",
      "1       29\n",
      "2       23\n",
      "3        5\n",
      "4        2\n",
      "        ..\n",
      "9995    32\n",
      "9996    17\n",
      "9997     8\n",
      "9998    31\n",
      "9999    13\n",
      "Name: umap, Length: 10000, dtype: int64\n",
      "0       16\n",
      "1       31\n",
      "2       34\n",
      "3       22\n",
      "4       19\n",
      "        ..\n",
      "9995    25\n",
      "9996    20\n",
      "9997     9\n",
      "9998    32\n",
      "9999     3\n",
      "Name: umap, Length: 10000, dtype: int64\n",
      "0        8\n",
      "1       13\n",
      "2       18\n",
      "3       17\n",
      "4       19\n",
      "        ..\n",
      "9995     9\n",
      "9996    29\n",
      "9997    12\n",
      "9998    26\n",
      "9999     8\n",
      "Name: umap, Length: 10000, dtype: int64\n",
      "0        8\n",
      "1       31\n",
      "2        4\n",
      "3       26\n",
      "4        1\n",
      "        ..\n",
      "9995    22\n",
      "9996     0\n",
      "9997    23\n",
      "9998     7\n",
      "9999    14\n",
      "Name: umap, Length: 10000, dtype: int64\n"
     ]
    },
    {
     "data": {
      "text/plain": "<Figure size 640x480 with 2 Axes>",
      "image/png": "[encoded data removed]"
     },
     "metadata": {},
     "output_type": "display_data"
    },
    {
     "data": {
      "text/plain": "<Figure size 640x480 with 2 Axes>",
      "image/png": "[encoded data removed]"
     },
     "metadata": {},
     "output_type": "display_data"
    },
    {
     "data": {
      "text/plain": "<Figure size 640x480 with 2 Axes>",
      "image/png": "[encoded data removed]"
     },
     "metadata": {},
     "output_type": "display_data"
    },
    {
     "data": {
      "text/plain": "<Figure size 640x480 with 2 Axes>",
      "image/png": "[encoded data removed]"
     },
     "metadata": {},
     "output_type": "display_data"
    }
   ],
   "source": [
    "labels_05 = get_cluster_assignments(GC, EMBEDDING3, 'A')\n",
    "print(labels_05)\n",
    "labels_09 = get_cluster_assignments(GC, EMBEDDING3_09, 'A')\n",
    "print(labels_09)\n",
    "labels_01 = get_cluster_assignments(GC, EMBEDDING3_01, 'A')\n",
    "print(labels_01)\n",
    "labels_B = get_cluster_assignments(GA, EMBEDDING1, 'B')\n",
    "print(labels_B)"
   ],
   "metadata": {
    "collapsed": false,
    "ExecuteTime": {
     "end_time": "2024-09-06T10:26:53.813029Z",
     "start_time": "2024-09-06T10:26:05.213840Z"
    }
   },
   "id": "1f275b6af57cae65"
  },
  {
   "cell_type": "markdown",
   "source": [
    "### Stream A Embedding"
   ],
   "metadata": {
    "id": "mC7dVGjK30T9"
   },
   "id": "mC7dVGjK30T9"
  },
  {
   "cell_type": "code",
   "source": [
    "dfA2 = gds.graph.nodeProperty.stream(GC, EMBEDDING3, 'A')\n",
    "dfA2.head()\n",
    "dfA2.describe()"
   ],
   "metadata": {
    "colab": {
     "base_uri": "https://localhost:8080/",
     "height": 300
    },
    "id": "zcNctw0Y3vqC",
    "executionInfo": {
     "status": "ok",
     "timestamp": 1719582406732,
     "user_tz": -60,
     "elapsed": 1587,
     "user": {
      "displayName": "Stuart Green",
      "userId": "06684144979108576535"
     }
    },
    "outputId": "155d9057-dad4-455f-d7cd-a6cbdf5dc6c9",
    "ExecuteTime": {
     "end_time": "2024-09-06T10:26:53.861400Z",
     "start_time": "2024-09-06T10:26:53.812834Z"
    }
   },
   "id": "zcNctw0Y3vqC",
   "execution_count": 22,
   "outputs": [
    {
     "data": {
      "text/plain": "            nodeId\ncount  10000.00000\nmean    4999.50000\nstd     2886.89568\nmin        0.00000\n25%     2499.75000\n50%     4999.50000\n75%     7499.25000\nmax     9999.00000",
      "text/html": "<div>\n<style scoped>\n    .dataframe tbody tr th:only-of-type {\n        vertical-align: middle;\n    }\n\n    .dataframe tbody tr th {\n        vertical-align: top;\n    }\n\n    .dataframe thead th {\n        text-align: right;\n    }\n</style>\n<table border=\"1\" class=\"dataframe\">\n  <thead>\n    <tr style=\"text-align: right;\">\n      <th></th>\n      <th>nodeId</th>\n    </tr>\n  </thead>\n  <tbody>\n    <tr>\n      <th>count</th>\n      <td>10000.00000</td>\n    </tr>\n    <tr>\n      <th>mean</th>\n      <td>4999.50000</td>\n    </tr>\n    <tr>\n      <th>std</th>\n      <td>2886.89568</td>\n    </tr>\n    <tr>\n      <th>min</th>\n      <td>0.00000</td>\n    </tr>\n    <tr>\n      <th>25%</th>\n      <td>2499.75000</td>\n    </tr>\n    <tr>\n      <th>50%</th>\n      <td>4999.50000</td>\n    </tr>\n    <tr>\n      <th>75%</th>\n      <td>7499.25000</td>\n    </tr>\n    <tr>\n      <th>max</th>\n      <td>9999.00000</td>\n    </tr>\n  </tbody>\n</table>\n</div>"
     },
     "execution_count": 22,
     "metadata": {},
     "output_type": "execute_result"
    }
   ]
  },
  {
   "cell_type": "markdown",
   "source": [
    "### Cluster, reduce, cluster"
   ],
   "metadata": {
    "id": "nWy4XxMy4HF8"
   },
   "id": "nWy4XxMy4HF8"
  },
  {
   "cell_type": "code",
   "source": [
    "%%time\n",
    "dfAc = cluster_embedding(dfA2, HDBSCAN(min_samples=20, min_cluster_size=10, n_jobs=-1), cluster_column='raw')\n",
    "print(\"1\")\n",
    "print(dfAc)\n",
    "dfAc = reduce_embedding(dfAc, umap.UMAP(n_neighbors=30, min_dist=0.1, n_components=2))\n",
    "print(\"2\")\n",
    "print(dfAc)\n",
    "dfAc = cluster_embedding(dfAc, HDBSCAN(min_samples=20, min_cluster_size=10, n_jobs=-1), property_column='reduced', cluster_column='umap')\n",
    "print(\"3\")\n",
    "print(dfAc)"
   ],
   "metadata": {
    "colab": {
     "base_uri": "https://localhost:8080/",
     "height": 52
    },
    "id": "FecdutG234e0",
    "executionInfo": {
     "status": "ok",
     "timestamp": 1719582430809,
     "user_tz": -60,
     "elapsed": 24078,
     "user": {
      "displayName": "Stuart Green",
      "userId": "06684144979108576535"
     }
    },
    "outputId": "ea2854f3-74e5-45ce-c1b3-b7ac5bb26701",
    "ExecuteTime": {
     "end_time": "2024-09-06T10:27:04.439872Z",
     "start_time": "2024-09-06T10:26:53.862199Z"
    }
   },
   "id": "FecdutG234e0",
   "execution_count": 23,
   "outputs": [
    {
     "name": "stdout",
     "output_type": "stream",
     "text": [
      "1\n",
      "      nodeId                                      propertyValue  raw\n",
      "0          0  [0.15392405, -0.15392405, 0.0, 0.15392405, -0....   -1\n",
      "1          1  [0.0, 0.16291736, 0.0, 0.0, 0.0, 0.16291736, 0...   -1\n",
      "2          2  [0.0, 0.0, 0.0, 0.0, 0.14981681, 0.14981681, -...   -1\n",
      "3          3  [0.0, 0.0, 0.0, -0.17333369, 0.17333369, 0.173...   -1\n",
      "4          4  [0.0, 0.0, 0.0, -0.15277539, 0.0, -0.15277539,...   -1\n",
      "...      ...                                                ...  ...\n",
      "9995    9995  [0.15038614, 0.0, -0.15038614, 0.0, 0.0, 0.0, ...    4\n",
      "9996    9996  [-0.16556457, 0.0, 0.0, 0.0, 0.0, 0.0, 0.16556...    4\n",
      "9997    9997  [0.0, 0.17890772, 0.0, 0.0, -0.17890772, 0.0, ...   -1\n",
      "9998    9998  [0.0, 0.0, 0.0, 0.0, -0.16754755, 0.0, 0.0, -0...   -1\n",
      "9999    9999  [0.16084208, 0.0, 0.0, 0.0, 0.0, 0.0, 0.0, 0.0...   -1\n",
      "\n",
      "[10000 rows x 3 columns]\n",
      "2\n",
      "      nodeId                                      propertyValue  raw  \\\n",
      "0          0  [0.15392405, -0.15392405, 0.0, 0.15392405, -0....   -1   \n",
      "1          1  [0.0, 0.16291736, 0.0, 0.0, 0.0, 0.16291736, 0...   -1   \n",
      "2          2  [0.0, 0.0, 0.0, 0.0, 0.14981681, 0.14981681, -...   -1   \n",
      "3          3  [0.0, 0.0, 0.0, -0.17333369, 0.17333369, 0.173...   -1   \n",
      "4          4  [0.0, 0.0, 0.0, -0.15277539, 0.0, -0.15277539,...   -1   \n",
      "...      ...                                                ...  ...   \n",
      "9995    9995  [0.15038614, 0.0, -0.15038614, 0.0, 0.0, 0.0, ...    4   \n",
      "9996    9996  [-0.16556457, 0.0, 0.0, 0.0, 0.0, 0.0, 0.16556...    4   \n",
      "9997    9997  [0.0, 0.17890772, 0.0, 0.0, -0.17890772, 0.0, ...   -1   \n",
      "9998    9998  [0.0, 0.0, 0.0, 0.0, -0.16754755, 0.0, 0.0, -0...   -1   \n",
      "9999    9999  [0.16084208, 0.0, 0.0, 0.0, 0.0, 0.0, 0.0, 0.0...   -1   \n",
      "\n",
      "                      reduced  \n",
      "0       [2.7606714, -5.80422]  \n",
      "1      [-3.5771363, 1.737071]  \n",
      "2      [-6.204152, 3.4913225]  \n",
      "3     [17.301922, -1.1800874]  \n",
      "4      [15.259124, 14.704087]  \n",
      "...                       ...  \n",
      "9995    [-4.94118, 1.5298622]  \n",
      "9996   [1.3903211, 18.026068]  \n",
      "9997     [4.759977, 8.916725]  \n",
      "9998   [-6.070402, 2.1113412]  \n",
      "9999   [11.367711, -6.036295]  \n",
      "\n",
      "[10000 rows x 4 columns]\n",
      "3\n",
      "      nodeId                                      propertyValue  raw  \\\n",
      "0          0  [0.15392405, -0.15392405, 0.0, 0.15392405, -0....   -1   \n",
      "1          1  [0.0, 0.16291736, 0.0, 0.0, 0.0, 0.16291736, 0...   -1   \n",
      "2          2  [0.0, 0.0, 0.0, 0.0, 0.14981681, 0.14981681, -...   -1   \n",
      "3          3  [0.0, 0.0, 0.0, -0.17333369, 0.17333369, 0.173...   -1   \n",
      "4          4  [0.0, 0.0, 0.0, -0.15277539, 0.0, -0.15277539,...   -1   \n",
      "...      ...                                                ...  ...   \n",
      "9995    9995  [0.15038614, 0.0, -0.15038614, 0.0, 0.0, 0.0, ...    4   \n",
      "9996    9996  [-0.16556457, 0.0, 0.0, 0.0, 0.0, 0.0, 0.16556...    4   \n",
      "9997    9997  [0.0, 0.17890772, 0.0, 0.0, -0.17890772, 0.0, ...   -1   \n",
      "9998    9998  [0.0, 0.0, 0.0, 0.0, -0.16754755, 0.0, 0.0, -0...   -1   \n",
      "9999    9999  [0.16084208, 0.0, 0.0, 0.0, 0.0, 0.0, 0.0, 0.0...   -1   \n",
      "\n",
      "                      reduced  umap  \n",
      "0       [2.7606714, -5.80422]    25  \n",
      "1      [-3.5771363, 1.737071]    29  \n",
      "2      [-6.204152, 3.4913225]    17  \n",
      "3     [17.301922, -1.1800874]     2  \n",
      "4      [15.259124, 14.704087]    20  \n",
      "...                       ...   ...  \n",
      "9995    [-4.94118, 1.5298622]    32  \n",
      "9996   [1.3903211, 18.026068]    24  \n",
      "9997     [4.759977, 8.916725]    13  \n",
      "9998   [-6.070402, 2.1113412]    31  \n",
      "9999   [11.367711, -6.036295]     8  \n",
      "\n",
      "[10000 rows x 5 columns]\n",
      "CPU times: user 37.5 s, sys: 470 ms, total: 38 s\n",
      "Wall time: 10.6 s\n"
     ]
    }
   ]
  },
  {
   "cell_type": "markdown",
   "source": [
    "### Raw Clusters"
   ],
   "metadata": {
    "collapsed": false
   },
   "id": "DAg2DIMy4bsu"
  },
  {
   "cell_type": "code",
   "source": [
    "dfAc['raw'].value_counts()"
   ],
   "metadata": {
    "colab": {
     "base_uri": "https://localhost:8080/"
    },
    "id": "ze_L-fXA4bef",
    "executionInfo": {
     "status": "ok",
     "timestamp": 1719582430809,
     "user_tz": -60,
     "elapsed": 14,
     "user": {
      "displayName": "Stuart Green",
      "userId": "06684144979108576535"
     }
    },
    "outputId": "23310d61-ff49-4842-9942-87659f26b638",
    "collapsed": true,
    "ExecuteTime": {
     "end_time": "2024-09-06T10:27:04.440141Z",
     "start_time": "2024-09-06T10:27:04.435674Z"
    }
   },
   "id": "ze_L-fXA4bef",
   "execution_count": 24,
   "outputs": [
    {
     "data": {
      "text/plain": "raw\n-1    9234\n 4     691\n 5      19\n 1      19\n 0      14\n 3      12\n 2      11\nName: count, dtype: int64"
     },
     "execution_count": 24,
     "metadata": {},
     "output_type": "execute_result"
    }
   ]
  },
  {
   "cell_type": "markdown",
   "source": [
    "### UMAP Clusters"
   ],
   "metadata": {
    "id": "UogXWNzw4hHs"
   },
   "id": "UogXWNzw4hHs"
  },
  {
   "cell_type": "code",
   "source": [
    "dfAc['umap'].value_counts()"
   ],
   "metadata": {
    "colab": {
     "base_uri": "https://localhost:8080/"
    },
    "id": "AROO8hLo4g8y",
    "executionInfo": {
     "status": "ok",
     "timestamp": 1719582430809,
     "user_tz": -60,
     "elapsed": 13,
     "user": {
      "displayName": "Stuart Green",
      "userId": "06684144979108576535"
     }
    },
    "outputId": "02f166ca-6669-47b8-853f-9dcc0d3a9a5a",
    "collapsed": true,
    "ExecuteTime": {
     "end_time": "2024-09-06T10:27:04.443819Z",
     "start_time": "2024-09-06T10:27:04.439999Z"
    }
   },
   "id": "AROO8hLo4g8y",
   "execution_count": 25,
   "outputs": [
    {
     "data": {
      "text/plain": "umap\n11    318\n18    317\n25    312\n8     306\n33    302\n22    301\n32    298\n20    297\n17    296\n14    295\n28    293\n4     293\n6     292\n1     289\n0     286\n2     286\n5     285\n27    284\n24    283\n26    282\n7     282\n16    281\n13    280\n29    280\n3     279\n19    277\n12    275\n23    274\n15    271\n31    271\n30    270\n10    268\n34    264\n21    264\n9     249\nName: count, dtype: int64"
     },
     "execution_count": 25,
     "metadata": {},
     "output_type": "execute_result"
    }
   ]
  },
  {
   "cell_type": "code",
   "source": [
    "dfAc['x'] = dfAc['reduced'].apply(lambda x: x[0])\n",
    "dfAc['y'] = dfAc['reduced'].apply(lambda x: x[1])\n",
    "dfAc.plot.scatter(x='x', y='y', c=dfAc['umap'], cmap=\"plasma\", marker='+')"
   ],
   "metadata": {
    "id": "u7G4zjOf4scH",
    "colab": {
     "base_uri": "https://localhost:8080/",
     "height": 466
    },
    "executionInfo": {
     "status": "ok",
     "timestamp": 1719582430810,
     "user_tz": -60,
     "elapsed": 13,
     "user": {
      "displayName": "Stuart Green",
      "userId": "06684144979108576535"
     }
    },
    "outputId": "5c18bcc4-e535-488b-db18-8fda580e4ad7",
    "ExecuteTime": {
     "end_time": "2024-09-06T10:27:04.572795Z",
     "start_time": "2024-09-06T10:27:04.447654Z"
    }
   },
   "id": "u7G4zjOf4scH",
   "execution_count": 26,
   "outputs": [
    {
     "data": {
      "text/plain": "<Axes: xlabel='x', ylabel='y'>"
     },
     "execution_count": 26,
     "metadata": {},
     "output_type": "execute_result"
    },
    {
     "data": {
      "text/plain": "<Figure size 640x480 with 2 Axes>",
      "image/png": "[encoded data removed]"
     },
     "metadata": {},
     "output_type": "display_data"
    }
   ]
  },
  {
   "cell_type": "code",
   "source": [
    "relmap = dict(map(lambda x: (x['sourceNodeId'], x['targetNodeId']), relationships.to_dict(orient='records')))\n",
    "dfAc['FOLLOW'] = dfAc.apply(lambda x: relmap[x['nodeId']], axis=1)\n",
    "dfAc.head()"
   ],
   "metadata": {
    "id": "QHgrVr2x9q3Z",
    "ExecuteTime": {
     "end_time": "2024-09-06T10:27:04.621289Z",
     "start_time": "2024-09-06T10:27:04.572719Z"
    }
   },
   "id": "QHgrVr2x9q3Z",
   "execution_count": 27,
   "outputs": [
    {
     "data": {
      "text/plain": "   nodeId                                      propertyValue  raw  \\\n0       0  [0.15392405, -0.15392405, 0.0, 0.15392405, -0....   -1   \n1       1  [0.0, 0.16291736, 0.0, 0.0, 0.0, 0.16291736, 0...   -1   \n2       2  [0.0, 0.0, 0.0, 0.0, 0.14981681, 0.14981681, -...   -1   \n3       3  [0.0, 0.0, 0.0, -0.17333369, 0.17333369, 0.173...   -1   \n4       4  [0.0, 0.0, 0.0, -0.15277539, 0.0, -0.15277539,...   -1   \n\n                   reduced  umap          x          y  FOLLOW  \n0    [2.7606714, -5.80422]    25   2.760671  -5.804220   10000  \n1   [-3.5771363, 1.737071]    29  -3.577136   1.737071   10001  \n2   [-6.204152, 3.4913225]    17  -6.204152   3.491323   10002  \n3  [17.301922, -1.1800874]     2  17.301922  -1.180087   10003  \n4   [15.259124, 14.704087]    20  15.259124  14.704087   10004  ",
      "text/html": "<div>\n<style scoped>\n    .dataframe tbody tr th:only-of-type {\n        vertical-align: middle;\n    }\n\n    .dataframe tbody tr th {\n        vertical-align: top;\n    }\n\n    .dataframe thead th {\n        text-align: right;\n    }\n</style>\n<table border=\"1\" class=\"dataframe\">\n  <thead>\n    <tr style=\"text-align: right;\">\n      <th></th>\n      <th>nodeId</th>\n      <th>propertyValue</th>\n      <th>raw</th>\n      <th>reduced</th>\n      <th>umap</th>\n      <th>x</th>\n      <th>y</th>\n      <th>FOLLOW</th>\n    </tr>\n  </thead>\n  <tbody>\n    <tr>\n      <th>0</th>\n      <td>0</td>\n      <td>[0.15392405, -0.15392405, 0.0, 0.15392405, -0....</td>\n      <td>-1</td>\n      <td>[2.7606714, -5.80422]</td>\n      <td>25</td>\n      <td>2.760671</td>\n      <td>-5.804220</td>\n      <td>10000</td>\n    </tr>\n    <tr>\n      <th>1</th>\n      <td>1</td>\n      <td>[0.0, 0.16291736, 0.0, 0.0, 0.0, 0.16291736, 0...</td>\n      <td>-1</td>\n      <td>[-3.5771363, 1.737071]</td>\n      <td>29</td>\n      <td>-3.577136</td>\n      <td>1.737071</td>\n      <td>10001</td>\n    </tr>\n    <tr>\n      <th>2</th>\n      <td>2</td>\n      <td>[0.0, 0.0, 0.0, 0.0, 0.14981681, 0.14981681, -...</td>\n      <td>-1</td>\n      <td>[-6.204152, 3.4913225]</td>\n      <td>17</td>\n      <td>-6.204152</td>\n      <td>3.491323</td>\n      <td>10002</td>\n    </tr>\n    <tr>\n      <th>3</th>\n      <td>3</td>\n      <td>[0.0, 0.0, 0.0, -0.17333369, 0.17333369, 0.173...</td>\n      <td>-1</td>\n      <td>[17.301922, -1.1800874]</td>\n      <td>2</td>\n      <td>17.301922</td>\n      <td>-1.180087</td>\n      <td>10003</td>\n    </tr>\n    <tr>\n      <th>4</th>\n      <td>4</td>\n      <td>[0.0, 0.0, 0.0, -0.15277539, 0.0, -0.15277539,...</td>\n      <td>-1</td>\n      <td>[15.259124, 14.704087]</td>\n      <td>20</td>\n      <td>15.259124</td>\n      <td>14.704087</td>\n      <td>10004</td>\n    </tr>\n  </tbody>\n</table>\n</div>"
     },
     "execution_count": 27,
     "metadata": {},
     "output_type": "execute_result"
    }
   ]
  },
  {
   "cell_type": "markdown",
   "source": [
    "## Compare - Ovelap between clusters\n",
    "\n",
    "The cluster membership of B nodes (B->Z embedding) should overlap with the cluster membership of the A node (A->B property embedding).\n",
    "\n",
    "Maximal overlap is when the heatmap below has a red diagonal.\n",
    "\n",
    "This is observed when propertyRatio = 0.5 (or exactly 1.0). Deviation from 0.5 toward 0.0 or 1.0 results in an embedding that carries little information from the original property embeddings (the cluster ovelap breaks down)."
   ],
   "metadata": {
    "id": "L8JtZOTV413n"
   },
   "id": "L8JtZOTV413n"
  },
  {
   "cell_type": "code",
   "source": [
    "import seaborn as sns\n",
    "import matplotlib.pyplot as plt\n",
    "\n",
    "I = {}\n",
    "for x in dfAc['umap'].value_counts().index:\n",
    "  I[x] = {}\n",
    "  for y in dfBc['umap'].value_counts().index:\n",
    "    sA = set(dfAc[dfAc['umap'] == x]['FOLLOW'])\n",
    "    sB = set(dfBc[dfBc['umap'] == y]['nodeId'])\n",
    "    I[x][y] = 100 * len(sA & sB) / len(sA | sB)\n",
    "\n",
    "print(pd.DataFrame(I))\n",
    "fig, ax = plt.subplots(figsize=(10, 10))\n",
    "#sns.heatmap(pd.DataFrame(I), cmap='coolwarm', annot=True, fmt=\".0f\")\n",
    "sns.heatmap(pd.DataFrame(I), cmap='coolwarm')"
   ],
   "metadata": {
    "colab": {
     "base_uri": "https://localhost:8080/",
     "height": 856
    },
    "id": "TqS19I8S48uA",
    "executionInfo": {
     "status": "ok",
     "timestamp": 1719582433541,
     "user_tz": -60,
     "elapsed": 2259,
     "user": {
      "displayName": "Stuart Green",
      "userId": "06684144979108576535"
     }
    },
    "outputId": "ecee2e78-e983-4841-9ac0-a548bcf96af3",
    "ExecuteTime": {
     "end_time": "2024-09-06T10:27:05.218048Z",
     "start_time": "2024-09-06T10:27:04.622348Z"
    }
   },
   "id": "TqS19I8S48uA",
   "execution_count": 28,
   "outputs": [
    {
     "name": "stdout",
     "output_type": "stream",
     "text": [
      "       11     18     25     8      33     22     32     20     17     14  ...  \\\n",
      "28  100.0    0.0    0.0    0.0    0.0    0.0    0.0    0.0    0.0    0.0  ...   \n",
      "33    0.0  100.0    0.0    0.0    0.0    0.0    0.0    0.0    0.0    0.0  ...   \n",
      "15    0.0    0.0  100.0    0.0    0.0    0.0    0.0    0.0    0.0    0.0  ...   \n",
      "5     0.0    0.0    0.0  100.0    0.0    0.0    0.0    0.0    0.0    0.0  ...   \n",
      "14    0.0    0.0    0.0    0.0  100.0    0.0    0.0    0.0    0.0    0.0  ...   \n",
      "30    0.0    0.0    0.0    0.0    0.0  100.0    0.0    0.0    0.0    0.0  ...   \n",
      "12    0.0    0.0    0.0    0.0    0.0    0.0  100.0    0.0    0.0    0.0  ...   \n",
      "25    0.0    0.0    0.0    0.0    0.0    0.0    0.0  100.0    0.0    0.0  ...   \n",
      "2     0.0    0.0    0.0    0.0    0.0    0.0    0.0    0.0  100.0    0.0  ...   \n",
      "10    0.0    0.0    0.0    0.0    0.0    0.0    0.0    0.0    0.0  100.0  ...   \n",
      "19    0.0    0.0    0.0    0.0    0.0    0.0    0.0    0.0    0.0    0.0  ...   \n",
      "16    0.0    0.0    0.0    0.0    0.0    0.0    0.0    0.0    0.0    0.0  ...   \n",
      "0     0.0    0.0    0.0    0.0    0.0    0.0    0.0    0.0    0.0    0.0  ...   \n",
      "9     0.0    0.0    0.0    0.0    0.0    0.0    0.0    0.0    0.0    0.0  ...   \n",
      "31    0.0    0.0    0.0    0.0    0.0    0.0    0.0    0.0    0.0    0.0  ...   \n",
      "27    0.0    0.0    0.0    0.0    0.0    0.0    0.0    0.0    0.0    0.0  ...   \n",
      "7     0.0    0.0    0.0    0.0    0.0    0.0    0.0    0.0    0.0    0.0  ...   \n",
      "21    0.0    0.0    0.0    0.0    0.0    0.0    0.0    0.0    0.0    0.0  ...   \n",
      "13    0.0    0.0    0.0    0.0    0.0    0.0    0.0    0.0    0.0    0.0  ...   \n",
      "17    0.0    0.0    0.0    0.0    0.0    0.0    0.0    0.0    0.0    0.0  ...   \n",
      "34    0.0    0.0    0.0    0.0    0.0    0.0    0.0    0.0    0.0    0.0  ...   \n",
      "22    0.0    0.0    0.0    0.0    0.0    0.0    0.0    0.0    0.0    0.0  ...   \n",
      "24    0.0    0.0    0.0    0.0    0.0    0.0    0.0    0.0    0.0    0.0  ...   \n",
      "20    0.0    0.0    0.0    0.0    0.0    0.0    0.0    0.0    0.0    0.0  ...   \n",
      "23    0.0    0.0    0.0    0.0    0.0    0.0    0.0    0.0    0.0    0.0  ...   \n",
      "18    0.0    0.0    0.0    0.0    0.0    0.0    0.0    0.0    0.0    0.0  ...   \n",
      "32    0.0    0.0    0.0    0.0    0.0    0.0    0.0    0.0    0.0    0.0  ...   \n",
      "8     0.0    0.0    0.0    0.0    0.0    0.0    0.0    0.0    0.0    0.0  ...   \n",
      "6     0.0    0.0    0.0    0.0    0.0    0.0    0.0    0.0    0.0    0.0  ...   \n",
      "4     0.0    0.0    0.0    0.0    0.0    0.0    0.0    0.0    0.0    0.0  ...   \n",
      "11    0.0    0.0    0.0    0.0    0.0    0.0    0.0    0.0    0.0    0.0  ...   \n",
      "3     0.0    0.0    0.0    0.0    0.0    0.0    0.0    0.0    0.0    0.0  ...   \n",
      "1     0.0    0.0    0.0    0.0    0.0    0.0    0.0    0.0    0.0    0.0  ...   \n",
      "29    0.0    0.0    0.0    0.0    0.0    0.0    0.0    0.0    0.0    0.0  ...   \n",
      "26    0.0    0.0    0.0    0.0    0.0    0.0    0.0    0.0    0.0    0.0  ...   \n",
      "\n",
      "       19     12     23     15     31     30     10     34     21     9   \n",
      "28    0.0    0.0    0.0    0.0    0.0    0.0    0.0    0.0    0.0    0.0  \n",
      "33    0.0    0.0    0.0    0.0    0.0    0.0    0.0    0.0    0.0    0.0  \n",
      "15    0.0    0.0    0.0    0.0    0.0    0.0    0.0    0.0    0.0    0.0  \n",
      "5     0.0    0.0    0.0    0.0    0.0    0.0    0.0    0.0    0.0    0.0  \n",
      "14    0.0    0.0    0.0    0.0    0.0    0.0    0.0    0.0    0.0    0.0  \n",
      "30    0.0    0.0    0.0    0.0    0.0    0.0    0.0    0.0    0.0    0.0  \n",
      "12    0.0    0.0    0.0    0.0    0.0    0.0    0.0    0.0    0.0    0.0  \n",
      "25    0.0    0.0    0.0    0.0    0.0    0.0    0.0    0.0    0.0    0.0  \n",
      "2     0.0    0.0    0.0    0.0    0.0    0.0    0.0    0.0    0.0    0.0  \n",
      "10    0.0    0.0    0.0    0.0    0.0    0.0    0.0    0.0    0.0    0.0  \n",
      "19    0.0    0.0    0.0    0.0    0.0    0.0    0.0    0.0    0.0    0.0  \n",
      "16    0.0    0.0    0.0    0.0    0.0    0.0    0.0    0.0    0.0    0.0  \n",
      "0     0.0    0.0    0.0    0.0    0.0    0.0    0.0    0.0    0.0    0.0  \n",
      "9     0.0    0.0    0.0    0.0    0.0    0.0    0.0    0.0    0.0    0.0  \n",
      "31    0.0    0.0    0.0    0.0    0.0    0.0    0.0    0.0    0.0    0.0  \n",
      "27    0.0    0.0    0.0    0.0    0.0    0.0    0.0    0.0    0.0    0.0  \n",
      "7     0.0    0.0    0.0    0.0    0.0    0.0    0.0    0.0    0.0    0.0  \n",
      "21    0.0    0.0    0.0    0.0    0.0    0.0    0.0    0.0    0.0    0.0  \n",
      "13    0.0    0.0    0.0    0.0    0.0    0.0    0.0    0.0    0.0    0.0  \n",
      "17    0.0    0.0    0.0    0.0    0.0    0.0    0.0    0.0    0.0    0.0  \n",
      "34    0.0    0.0    0.0    0.0    0.0    0.0    0.0    0.0    0.0    0.0  \n",
      "22    0.0    0.0    0.0    0.0    0.0    0.0    0.0    0.0    0.0    0.0  \n",
      "24    0.0    0.0    0.0    0.0    0.0    0.0    0.0    0.0    0.0    0.0  \n",
      "20    0.0    0.0    0.0    0.0    0.0    0.0    0.0    0.0    0.0    0.0  \n",
      "23    0.0    0.0    0.0    0.0    0.0    0.0    0.0    0.0    0.0    0.0  \n",
      "18  100.0    0.0    0.0    0.0    0.0    0.0    0.0    0.0    0.0    0.0  \n",
      "32    0.0  100.0    0.0    0.0    0.0    0.0    0.0    0.0    0.0    0.0  \n",
      "8     0.0    0.0  100.0    0.0    0.0    0.0    0.0    0.0    0.0    0.0  \n",
      "6     0.0    0.0    0.0  100.0    0.0    0.0    0.0    0.0    0.0    0.0  \n",
      "4     0.0    0.0    0.0    0.0  100.0    0.0    0.0    0.0    0.0    0.0  \n",
      "11    0.0    0.0    0.0    0.0    0.0  100.0    0.0    0.0    0.0    0.0  \n",
      "3     0.0    0.0    0.0    0.0    0.0    0.0  100.0    0.0    0.0    0.0  \n",
      "1     0.0    0.0    0.0    0.0    0.0    0.0    0.0  100.0    0.0    0.0  \n",
      "29    0.0    0.0    0.0    0.0    0.0    0.0    0.0    0.0  100.0    0.0  \n",
      "26    0.0    0.0    0.0    0.0    0.0    0.0    0.0    0.0    0.0  100.0  \n",
      "\n",
      "[35 rows x 35 columns]\n"
     ]
    },
    {
     "data": {
      "text/plain": "<Axes: >"
     },
     "execution_count": 28,
     "metadata": {},
     "output_type": "execute_result"
    },
    {
     "data": {
      "text/plain": "<Figure size 1000x1000 with 2 Axes>",
      "image/png": "[encoded data removed]"
     },
     "metadata": {},
     "output_type": "display_data"
    }
   ]
  },
  {
   "cell_type": "code",
   "execution_count": 29,
   "outputs": [
    {
     "name": "stdout",
     "output_type": "stream",
     "text": [
      "Adjusted Rand Index (ARI): 1.000\n",
      "Normalized Mutual Information (NMI): 1.000\n",
      "Fowlkes-Mallows Index (FMI): 1.000\n",
      "Homogeneity: 1.000\n",
      "Completeness: 1.000\n",
      "V-Measure: 1.000\n"
     ]
    }
   ],
   "source": [
    "from sklearn.metrics import adjusted_rand_score, normalized_mutual_info_score, fowlkes_mallows_score, homogeneity_completeness_v_measure\n",
    "\n",
    "# Example cluster assignments from two algorithms\n",
    "labels_algorithm_1 = dfAc['umap']\n",
    "labels_algorithm_2 = dfBc['umap']\n",
    "\n",
    "# Adjusted Rand Index\n",
    "ari = adjusted_rand_score(labels_algorithm_1, labels_algorithm_2)\n",
    "print(f\"Adjusted Rand Index (ARI): {ari:.3f}\")\n",
    "\n",
    "# Normalized Mutual Information\n",
    "nmi = normalized_mutual_info_score(labels_algorithm_1, labels_algorithm_2)\n",
    "print(f\"Normalized Mutual Information (NMI): {nmi:.3f}\")\n",
    "\n",
    "# Fowlkes-Mallows Index\n",
    "fmi = fowlkes_mallows_score(labels_algorithm_1, labels_algorithm_2)\n",
    "print(f\"Fowlkes-Mallows Index (FMI): {fmi:.3f}\")\n",
    "\n",
    "# Homogeneity, Completeness, and V-Measure\n",
    "homogeneity, completeness, v_measure = homogeneity_completeness_v_measure(labels_algorithm_1, labels_algorithm_2)\n",
    "print(f\"Homogeneity: {homogeneity:.3f}\")\n",
    "print(f\"Completeness: {completeness:.3f}\")\n",
    "print(f\"V-Measure: {v_measure:.3f}\")\n"
   ],
   "metadata": {
    "collapsed": false,
    "ExecuteTime": {
     "end_time": "2024-09-06T10:27:05.231462Z",
     "start_time": "2024-09-06T10:27:05.218427Z"
    }
   },
   "id": "4dd7fa96a2bf6a23"
  },
  {
   "cell_type": "markdown",
   "source": [
    "## Close"
   ],
   "metadata": {
    "id": "3kuYIytF43lK"
   },
   "id": "3kuYIytF43lK"
  },
  {
   "cell_type": "code",
   "source": [
    "#gds.graph.drop(G)\n",
    "#gds.close()\n",
    "#n4j.close()\n",
    "#driver.close()"
   ],
   "metadata": {
    "id": "NXr__fmD5FWW",
    "ExecuteTime": {
     "end_time": "2024-09-06T10:27:05.232826Z",
     "start_time": "2024-09-06T10:27:05.230380Z"
    }
   },
   "id": "NXr__fmD5FWW",
   "execution_count": 30,
   "outputs": []
  }
 ],
 "metadata": {
  "colab": {
   "machine_shape": "hm",
   "provenance": [
    {
     "file_id": "18KUnca9tjuycLRp0eHqLUHoCUh1gtcTc",
     "timestamp": 1718629086883
    },
    {
     "file_id": "13Bd9y80T7YNyWGNCutXW03_-BQTJjhd2",
     "timestamp": 1718371064082
    },
    {
     "file_id": "1vKHojdi7EgH1VtxIhhOcQDhwe36bPpbd",
     "timestamp": 1716992235357
    },
    {
     "file_id": "15lDMleArveAzlsYyFUMs6GDXPyGpjoVa",
     "timestamp": 1716474376011
    },
    {
     "file_id": "1_KmcbM7ER9dHhgGVyawI-QV9CyXB1Hqt",
     "timestamp": 1716387553140
    },
    {
     "file_id": "1w3b90O8LnHCzV2OYNEi5kE2zpIm48cXi",
     "timestamp": 1716373175760
    },
    {
     "file_id": "18iNVyNliwxEiuYLEzXH9Z-kKEH11vBRj",
     "timestamp": 1716370152100
    },
    {
     "file_id": "14Lga2lm_VdUOJH4S2_Yn-HAU1utUkB0t",
     "timestamp": 1716363880617
    },
    {
     "file_id": "1V0sHhHA8SoHBLFgCla5VvNoiTxpkPkPO",
     "timestamp": 1716362083501
    },
    {
     "file_id": "1UN70L3PIBO-APCqTnuqZg5qZHUUXKors",
     "timestamp": 1716360963561
    },
    {
     "file_id": "1rtkUtHBYmVkdTLy3heMNzOO5IEaQ2nnw",
     "timestamp": 1716359789519
    },
    {
     "file_id": "10Y6f7VfAtBKvKrebehCLY5MPzjidT2cV",
     "timestamp": 1716277373408
    },
    {
     "file_id": "1nUhmtCmJhMQwWMi33XYq9vvVMzUGnYKD",
     "timestamp": 1716220691292
    },
    {
     "file_id": "1DGEb226c5J4DmuI9Q0vrvveJfwSkyX_W",
     "timestamp": 1715871872649
    },
    {
     "file_id": "126VmbSaxcQz0iNn0qmhlkRsNHQkZbuvc",
     "timestamp": 1715790791493
    },
    {
     "file_id": "1Cll3b1Jd5FQhTq9ldSBAojY0DsFB4wO2",
     "timestamp": 1715765307954
    }
   ]
  },
  "kernelspec": {
   "display_name": "Python 3 (ipykernel)",
   "language": "python",
   "name": "python3"
  },
  "language_info": {
   "codemirror_mode": {
    "name": "ipython",
    "version": 3
   },
   "file_extension": ".py",
   "mimetype": "text/x-python",
   "name": "python",
   "nbconvert_exporter": "python",
   "pygments_lexer": "ipython3",
   "version": "3.10.5"
  },
  "widgets": {
   "application/vnd.jupyter.widget-state+json": {
    "40068c85a3b544fbaf5ebf816bf87da9": {
     "model_module": "@jupyter-widgets/controls",
     "model_name": "HBoxModel",
     "model_module_version": "1.5.0",
     "state": {
      "_dom_classes": [],
      "_model_module": "@jupyter-widgets/controls",
      "_model_module_version": "1.5.0",
      "_model_name": "HBoxModel",
      "_view_count": null,
      "_view_module": "@jupyter-widgets/controls",
      "_view_module_version": "1.5.0",
      "_view_name": "HBoxView",
      "box_style": "",
      "children": [
       "IPY_MODEL_f2ea662429f04578ac318f567082b966",
       "IPY_MODEL_45d813eada744aa497f6e9e16d20d429",
       "IPY_MODEL_e823345a33b443a4a848f4fb21ad91d4"
      ],
      "layout": "IPY_MODEL_a0871a4b917e40c2b4735e8de4f23af5"
     }
    },
    "f2ea662429f04578ac318f567082b966": {
     "model_module": "@jupyter-widgets/controls",
     "model_name": "HTMLModel",
     "model_module_version": "1.5.0",
     "state": {
      "_dom_classes": [],
      "_model_module": "@jupyter-widgets/controls",
      "_model_module_version": "1.5.0",
      "_model_name": "HTMLModel",
      "_view_count": null,
      "_view_module": "@jupyter-widgets/controls",
      "_view_module_version": "1.5.0",
      "_view_name": "HTMLView",
      "description": "",
      "description_tooltip": null,
      "layout": "IPY_MODEL_7917ce66adc34fcd829d67a93689af4b",
      "placeholder": "​",
      "style": "IPY_MODEL_92bb81e1c08741ac8db31dd0667f7d41",
      "value": "Uploading Nodes: 100%"
     }
    },
    "45d813eada744aa497f6e9e16d20d429": {
     "model_module": "@jupyter-widgets/controls",
     "model_name": "FloatProgressModel",
     "model_module_version": "1.5.0",
     "state": {
      "_dom_classes": [],
      "_model_module": "@jupyter-widgets/controls",
      "_model_module_version": "1.5.0",
      "_model_name": "FloatProgressModel",
      "_view_count": null,
      "_view_module": "@jupyter-widgets/controls",
      "_view_module_version": "1.5.0",
      "_view_name": "ProgressView",
      "bar_style": "success",
      "description": "",
      "description_tooltip": null,
      "layout": "IPY_MODEL_016702338643428293528a352832f9f2",
      "max": 20000,
      "min": 0,
      "orientation": "horizontal",
      "style": "IPY_MODEL_8c9c6ba3d5b44b9f808e4e11f1b16691",
      "value": 20000
     }
    },
    "e823345a33b443a4a848f4fb21ad91d4": {
     "model_module": "@jupyter-widgets/controls",
     "model_name": "HTMLModel",
     "model_module_version": "1.5.0",
     "state": {
      "_dom_classes": [],
      "_model_module": "@jupyter-widgets/controls",
      "_model_module_version": "1.5.0",
      "_model_name": "HTMLModel",
      "_view_count": null,
      "_view_module": "@jupyter-widgets/controls",
      "_view_module_version": "1.5.0",
      "_view_name": "HTMLView",
      "description": "",
      "description_tooltip": null,
      "layout": "IPY_MODEL_feb8ee4279e04f8c9b35da614740f88b",
      "placeholder": "​",
      "style": "IPY_MODEL_35d1a918ebe04cc1a462482f1e115860",
      "value": " 20000/20000 [00:03&lt;00:00, 8237.48Records/s]"
     }
    },
    "a0871a4b917e40c2b4735e8de4f23af5": {
     "model_module": "@jupyter-widgets/base",
     "model_name": "LayoutModel",
     "model_module_version": "1.2.0",
     "state": {
      "_model_module": "@jupyter-widgets/base",
      "_model_module_version": "1.2.0",
      "_model_name": "LayoutModel",
      "_view_count": null,
      "_view_module": "@jupyter-widgets/base",
      "_view_module_version": "1.2.0",
      "_view_name": "LayoutView",
      "align_content": null,
      "align_items": null,
      "align_self": null,
      "border": null,
      "bottom": null,
      "display": null,
      "flex": null,
      "flex_flow": null,
      "grid_area": null,
      "grid_auto_columns": null,
      "grid_auto_flow": null,
      "grid_auto_rows": null,
      "grid_column": null,
      "grid_gap": null,
      "grid_row": null,
      "grid_template_areas": null,
      "grid_template_columns": null,
      "grid_template_rows": null,
      "height": null,
      "justify_content": null,
      "justify_items": null,
      "left": null,
      "margin": null,
      "max_height": null,
      "max_width": null,
      "min_height": null,
      "min_width": null,
      "object_fit": null,
      "object_position": null,
      "order": null,
      "overflow": null,
      "overflow_x": null,
      "overflow_y": null,
      "padding": null,
      "right": null,
      "top": null,
      "visibility": null,
      "width": null
     }
    },
    "7917ce66adc34fcd829d67a93689af4b": {
     "model_module": "@jupyter-widgets/base",
     "model_name": "LayoutModel",
     "model_module_version": "1.2.0",
     "state": {
      "_model_module": "@jupyter-widgets/base",
      "_model_module_version": "1.2.0",
      "_model_name": "LayoutModel",
      "_view_count": null,
      "_view_module": "@jupyter-widgets/base",
      "_view_module_version": "1.2.0",
      "_view_name": "LayoutView",
      "align_content": null,
      "align_items": null,
      "align_self": null,
      "border": null,
      "bottom": null,
      "display": null,
      "flex": null,
      "flex_flow": null,
      "grid_area": null,
      "grid_auto_columns": null,
      "grid_auto_flow": null,
      "grid_auto_rows": null,
      "grid_column": null,
      "grid_gap": null,
      "grid_row": null,
      "grid_template_areas": null,
      "grid_template_columns": null,
      "grid_template_rows": null,
      "height": null,
      "justify_content": null,
      "justify_items": null,
      "left": null,
      "margin": null,
      "max_height": null,
      "max_width": null,
      "min_height": null,
      "min_width": null,
      "object_fit": null,
      "object_position": null,
      "order": null,
      "overflow": null,
      "overflow_x": null,
      "overflow_y": null,
      "padding": null,
      "right": null,
      "top": null,
      "visibility": null,
      "width": null
     }
    },
    "92bb81e1c08741ac8db31dd0667f7d41": {
     "model_module": "@jupyter-widgets/controls",
     "model_name": "DescriptionStyleModel",
     "model_module_version": "1.5.0",
     "state": {
      "_model_module": "@jupyter-widgets/controls",
      "_model_module_version": "1.5.0",
      "_model_name": "DescriptionStyleModel",
      "_view_count": null,
      "_view_module": "@jupyter-widgets/base",
      "_view_module_version": "1.2.0",
      "_view_name": "StyleView",
      "description_width": ""
     }
    },
    "016702338643428293528a352832f9f2": {
     "model_module": "@jupyter-widgets/base",
     "model_name": "LayoutModel",
     "model_module_version": "1.2.0",
     "state": {
      "_model_module": "@jupyter-widgets/base",
      "_model_module_version": "1.2.0",
      "_model_name": "LayoutModel",
      "_view_count": null,
      "_view_module": "@jupyter-widgets/base",
      "_view_module_version": "1.2.0",
      "_view_name": "LayoutView",
      "align_content": null,
      "align_items": null,
      "align_self": null,
      "border": null,
      "bottom": null,
      "display": null,
      "flex": null,
      "flex_flow": null,
      "grid_area": null,
      "grid_auto_columns": null,
      "grid_auto_flow": null,
      "grid_auto_rows": null,
      "grid_column": null,
      "grid_gap": null,
      "grid_row": null,
      "grid_template_areas": null,
      "grid_template_columns": null,
      "grid_template_rows": null,
      "height": null,
      "justify_content": null,
      "justify_items": null,
      "left": null,
      "margin": null,
      "max_height": null,
      "max_width": null,
      "min_height": null,
      "min_width": null,
      "object_fit": null,
      "object_position": null,
      "order": null,
      "overflow": null,
      "overflow_x": null,
      "overflow_y": null,
      "padding": null,
      "right": null,
      "top": null,
      "visibility": null,
      "width": null
     }
    },
    "8c9c6ba3d5b44b9f808e4e11f1b16691": {
     "model_module": "@jupyter-widgets/controls",
     "model_name": "ProgressStyleModel",
     "model_module_version": "1.5.0",
     "state": {
      "_model_module": "@jupyter-widgets/controls",
      "_model_module_version": "1.5.0",
      "_model_name": "ProgressStyleModel",
      "_view_count": null,
      "_view_module": "@jupyter-widgets/base",
      "_view_module_version": "1.2.0",
      "_view_name": "StyleView",
      "bar_color": null,
      "description_width": ""
     }
    },
    "feb8ee4279e04f8c9b35da614740f88b": {
     "model_module": "@jupyter-widgets/base",
     "model_name": "LayoutModel",
     "model_module_version": "1.2.0",
     "state": {
      "_model_module": "@jupyter-widgets/base",
      "_model_module_version": "1.2.0",
      "_model_name": "LayoutModel",
      "_view_count": null,
      "_view_module": "@jupyter-widgets/base",
      "_view_module_version": "1.2.0",
      "_view_name": "LayoutView",
      "align_content": null,
      "align_items": null,
      "align_self": null,
      "border": null,
      "bottom": null,
      "display": null,
      "flex": null,
      "flex_flow": null,
      "grid_area": null,
      "grid_auto_columns": null,
      "grid_auto_flow": null,
      "grid_auto_rows": null,
      "grid_column": null,
      "grid_gap": null,
      "grid_row": null,
      "grid_template_areas": null,
      "grid_template_columns": null,
      "grid_template_rows": null,
      "height": null,
      "justify_content": null,
      "justify_items": null,
      "left": null,
      "margin": null,
      "max_height": null,
      "max_width": null,
      "min_height": null,
      "min_width": null,
      "object_fit": null,
      "object_position": null,
      "order": null,
      "overflow": null,
      "overflow_x": null,
      "overflow_y": null,
      "padding": null,
      "right": null,
      "top": null,
      "visibility": null,
      "width": null
     }
    },
    "35d1a918ebe04cc1a462482f1e115860": {
     "model_module": "@jupyter-widgets/controls",
     "model_name": "DescriptionStyleModel",
     "model_module_version": "1.5.0",
     "state": {
      "_model_module": "@jupyter-widgets/controls",
      "_model_module_version": "1.5.0",
      "_model_name": "DescriptionStyleModel",
      "_view_count": null,
      "_view_module": "@jupyter-widgets/base",
      "_view_module_version": "1.2.0",
      "_view_name": "StyleView",
      "description_width": ""
     }
    },
    "3224aff8ad4f40d8a8753e037e15c344": {
     "model_module": "@jupyter-widgets/controls",
     "model_name": "HBoxModel",
     "model_module_version": "1.5.0",
     "state": {
      "_dom_classes": [],
      "_model_module": "@jupyter-widgets/controls",
      "_model_module_version": "1.5.0",
      "_model_name": "HBoxModel",
      "_view_count": null,
      "_view_module": "@jupyter-widgets/controls",
      "_view_module_version": "1.5.0",
      "_view_name": "HBoxView",
      "box_style": "",
      "children": [
       "IPY_MODEL_00d190d7b1ba4c2ba6948ee587f8226d",
       "IPY_MODEL_b95edd32fa6d47458bcd2650ee2829bc",
       "IPY_MODEL_6d8862a2b8fc46f1b0be2a575af5f507"
      ],
      "layout": "IPY_MODEL_6297005e37de4b77a65730c5f6eb1039"
     }
    },
    "00d190d7b1ba4c2ba6948ee587f8226d": {
     "model_module": "@jupyter-widgets/controls",
     "model_name": "HTMLModel",
     "model_module_version": "1.5.0",
     "state": {
      "_dom_classes": [],
      "_model_module": "@jupyter-widgets/controls",
      "_model_module_version": "1.5.0",
      "_model_name": "HTMLModel",
      "_view_count": null,
      "_view_module": "@jupyter-widgets/controls",
      "_view_module_version": "1.5.0",
      "_view_name": "HTMLView",
      "description": "",
      "description_tooltip": null,
      "layout": "IPY_MODEL_2e01b56b26bb4092bb37a5aed4f49778",
      "placeholder": "​",
      "style": "IPY_MODEL_f35d13ff9d674ccc96740a60a8e5a340",
      "value": "Uploading Relationships: 100%"
     }
    },
    "b95edd32fa6d47458bcd2650ee2829bc": {
     "model_module": "@jupyter-widgets/controls",
     "model_name": "FloatProgressModel",
     "model_module_version": "1.5.0",
     "state": {
      "_dom_classes": [],
      "_model_module": "@jupyter-widgets/controls",
      "_model_module_version": "1.5.0",
      "_model_name": "FloatProgressModel",
      "_view_count": null,
      "_view_module": "@jupyter-widgets/controls",
      "_view_module_version": "1.5.0",
      "_view_name": "ProgressView",
      "bar_style": "success",
      "description": "",
      "description_tooltip": null,
      "layout": "IPY_MODEL_ca57b13ac30b4fc5a2b3597fd41cc176",
      "max": 20000,
      "min": 0,
      "orientation": "horizontal",
      "style": "IPY_MODEL_bd884c167c104b4f90cef6100de947d0",
      "value": 20000
     }
    },
    "6d8862a2b8fc46f1b0be2a575af5f507": {
     "model_module": "@jupyter-widgets/controls",
     "model_name": "HTMLModel",
     "model_module_version": "1.5.0",
     "state": {
      "_dom_classes": [],
      "_model_module": "@jupyter-widgets/controls",
      "_model_module_version": "1.5.0",
      "_model_name": "HTMLModel",
      "_view_count": null,
      "_view_module": "@jupyter-widgets/controls",
      "_view_module_version": "1.5.0",
      "_view_name": "HTMLView",
      "description": "",
      "description_tooltip": null,
      "layout": "IPY_MODEL_11634bed5b1b44c18b61d5424051df43",
      "placeholder": "​",
      "style": "IPY_MODEL_df8b4fd7bcfd41eb912be0ee9011d9ea",
      "value": " 20000/20000 [00:16&lt;00:00, 1212.11Records/s]"
     }
    },
    "6297005e37de4b77a65730c5f6eb1039": {
     "model_module": "@jupyter-widgets/base",
     "model_name": "LayoutModel",
     "model_module_version": "1.2.0",
     "state": {
      "_model_module": "@jupyter-widgets/base",
      "_model_module_version": "1.2.0",
      "_model_name": "LayoutModel",
      "_view_count": null,
      "_view_module": "@jupyter-widgets/base",
      "_view_module_version": "1.2.0",
      "_view_name": "LayoutView",
      "align_content": null,
      "align_items": null,
      "align_self": null,
      "border": null,
      "bottom": null,
      "display": null,
      "flex": null,
      "flex_flow": null,
      "grid_area": null,
      "grid_auto_columns": null,
      "grid_auto_flow": null,
      "grid_auto_rows": null,
      "grid_column": null,
      "grid_gap": null,
      "grid_row": null,
      "grid_template_areas": null,
      "grid_template_columns": null,
      "grid_template_rows": null,
      "height": null,
      "justify_content": null,
      "justify_items": null,
      "left": null,
      "margin": null,
      "max_height": null,
      "max_width": null,
      "min_height": null,
      "min_width": null,
      "object_fit": null,
      "object_position": null,
      "order": null,
      "overflow": null,
      "overflow_x": null,
      "overflow_y": null,
      "padding": null,
      "right": null,
      "top": null,
      "visibility": null,
      "width": null
     }
    },
    "2e01b56b26bb4092bb37a5aed4f49778": {
     "model_module": "@jupyter-widgets/base",
     "model_name": "LayoutModel",
     "model_module_version": "1.2.0",
     "state": {
      "_model_module": "@jupyter-widgets/base",
      "_model_module_version": "1.2.0",
      "_model_name": "LayoutModel",
      "_view_count": null,
      "_view_module": "@jupyter-widgets/base",
      "_view_module_version": "1.2.0",
      "_view_name": "LayoutView",
      "align_content": null,
      "align_items": null,
      "align_self": null,
      "border": null,
      "bottom": null,
      "display": null,
      "flex": null,
      "flex_flow": null,
      "grid_area": null,
      "grid_auto_columns": null,
      "grid_auto_flow": null,
      "grid_auto_rows": null,
      "grid_column": null,
      "grid_gap": null,
      "grid_row": null,
      "grid_template_areas": null,
      "grid_template_columns": null,
      "grid_template_rows": null,
      "height": null,
      "justify_content": null,
      "justify_items": null,
      "left": null,
      "margin": null,
      "max_height": null,
      "max_width": null,
      "min_height": null,
      "min_width": null,
      "object_fit": null,
      "object_position": null,
      "order": null,
      "overflow": null,
      "overflow_x": null,
      "overflow_y": null,
      "padding": null,
      "right": null,
      "top": null,
      "visibility": null,
      "width": null
     }
    },
    "f35d13ff9d674ccc96740a60a8e5a340": {
     "model_module": "@jupyter-widgets/controls",
     "model_name": "DescriptionStyleModel",
     "model_module_version": "1.5.0",
     "state": {
      "_model_module": "@jupyter-widgets/controls",
      "_model_module_version": "1.5.0",
      "_model_name": "DescriptionStyleModel",
      "_view_count": null,
      "_view_module": "@jupyter-widgets/base",
      "_view_module_version": "1.2.0",
      "_view_name": "StyleView",
      "description_width": ""
     }
    },
    "ca57b13ac30b4fc5a2b3597fd41cc176": {
     "model_module": "@jupyter-widgets/base",
     "model_name": "LayoutModel",
     "model_module_version": "1.2.0",
     "state": {
      "_model_module": "@jupyter-widgets/base",
      "_model_module_version": "1.2.0",
      "_model_name": "LayoutModel",
      "_view_count": null,
      "_view_module": "@jupyter-widgets/base",
      "_view_module_version": "1.2.0",
      "_view_name": "LayoutView",
      "align_content": null,
      "align_items": null,
      "align_self": null,
      "border": null,
      "bottom": null,
      "display": null,
      "flex": null,
      "flex_flow": null,
      "grid_area": null,
      "grid_auto_columns": null,
      "grid_auto_flow": null,
      "grid_auto_rows": null,
      "grid_column": null,
      "grid_gap": null,
      "grid_row": null,
      "grid_template_areas": null,
      "grid_template_columns": null,
      "grid_template_rows": null,
      "height": null,
      "justify_content": null,
      "justify_items": null,
      "left": null,
      "margin": null,
      "max_height": null,
      "max_width": null,
      "min_height": null,
      "min_width": null,
      "object_fit": null,
      "object_position": null,
      "order": null,
      "overflow": null,
      "overflow_x": null,
      "overflow_y": null,
      "padding": null,
      "right": null,
      "top": null,
      "visibility": null,
      "width": null
     }
    },
    "bd884c167c104b4f90cef6100de947d0": {
     "model_module": "@jupyter-widgets/controls",
     "model_name": "ProgressStyleModel",
     "model_module_version": "1.5.0",
     "state": {
      "_model_module": "@jupyter-widgets/controls",
      "_model_module_version": "1.5.0",
      "_model_name": "ProgressStyleModel",
      "_view_count": null,
      "_view_module": "@jupyter-widgets/base",
      "_view_module_version": "1.2.0",
      "_view_name": "StyleView",
      "bar_color": null,
      "description_width": ""
     }
    },
    "11634bed5b1b44c18b61d5424051df43": {
     "model_module": "@jupyter-widgets/base",
     "model_name": "LayoutModel",
     "model_module_version": "1.2.0",
     "state": {
      "_model_module": "@jupyter-widgets/base",
      "_model_module_version": "1.2.0",
      "_model_name": "LayoutModel",
      "_view_count": null,
      "_view_module": "@jupyter-widgets/base",
      "_view_module_version": "1.2.0",
      "_view_name": "LayoutView",
      "align_content": null,
      "align_items": null,
      "align_self": null,
      "border": null,
      "bottom": null,
      "display": null,
      "flex": null,
      "flex_flow": null,
      "grid_area": null,
      "grid_auto_columns": null,
      "grid_auto_flow": null,
      "grid_auto_rows": null,
      "grid_column": null,
      "grid_gap": null,
      "grid_row": null,
      "grid_template_areas": null,
      "grid_template_columns": null,
      "grid_template_rows": null,
      "height": null,
      "justify_content": null,
      "justify_items": null,
      "left": null,
      "margin": null,
      "max_height": null,
      "max_width": null,
      "min_height": null,
      "min_width": null,
      "object_fit": null,
      "object_position": null,
      "order": null,
      "overflow": null,
      "overflow_x": null,
      "overflow_y": null,
      "padding": null,
      "right": null,
      "top": null,
      "visibility": null,
      "width": null
     }
    },
    "df8b4fd7bcfd41eb912be0ee9011d9ea": {
     "model_module": "@jupyter-widgets/controls",
     "model_name": "DescriptionStyleModel",
     "model_module_version": "1.5.0",
     "state": {
      "_model_module": "@jupyter-widgets/controls",
      "_model_module_version": "1.5.0",
      "_model_name": "DescriptionStyleModel",
      "_view_count": null,
      "_view_module": "@jupyter-widgets/base",
      "_view_module_version": "1.2.0",
      "_view_name": "StyleView",
      "description_width": ""
     }
    }
   }
  }
 },
 "nbformat": 4,
 "nbformat_minor": 5
}
